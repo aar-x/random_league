{
 "cells": [
  {
   "cell_type": "markdown",
   "metadata": {
    "id": "jHHKEhxXp78y"
   },
   "source": [
    "En este proyecto vamos a trabajar sobre una clasificación de equipos de fútbol de la 3ª división alevín, fútbol 7, de la Federación Catalana de Fútbol, con un doble objetivo:\n",
    "1. Poder predecir el ranking de cualquier equipo en base a las variables independientes disponibles.\n",
    "2. Subdividir los equipos en varios nodos, en base a los resultados obtenidos, pero de manera transversal entre los distintos grupos."
   ]
  },
  {
   "cell_type": "markdown",
   "metadata": {
    "id": "pfTO--u_I5bN"
   },
   "source": [
    "# Importaciones y datos <a name=\"importacionesydatos\"></a>"
   ]
  },
  {
   "cell_type": "code",
   "execution_count": 1,
   "metadata": {
    "id": "2S7KN_i5AhmG"
   },
   "outputs": [],
   "source": [
    "import pandas as pd"
   ]
  },
  {
   "cell_type": "code",
   "execution_count": 2,
   "metadata": {
    "id": "ocsyRGGB-ami"
   },
   "outputs": [],
   "source": [
    "equipos = pd.read_csv('futbol.csv', sep=',')\n",
    "equipos.rename(columns={'posicion': 'rank'}, inplace=True)"
   ]
  },
  {
   "cell_type": "markdown",
   "metadata": {
    "id": "iij9C4diUbzy"
   },
   "source": [
    "# Inspección de datos"
   ]
  },
  {
   "cell_type": "code",
   "execution_count": 3,
   "metadata": {
    "colab": {
     "base_uri": "https://localhost:8080/",
     "height": 184
    },
    "id": "Voou2OekRHDn",
    "outputId": "13ba50ad-1875-4867-9a4c-eae45f24158d"
   },
   "outputs": [
    {
     "data": {
      "application/vnd.google.colaboratory.intrinsic+json": {
       "summary": "{\n  \"name\": \"pd\",\n  \"rows\": 2,\n  \"fields\": [\n    {\n      \"column\": \"grupo\",\n      \"properties\": {\n        \"dtype\": \"number\",\n        \"std\": 19,\n        \"min\": 1,\n        \"max\": 29,\n        \"num_unique_values\": 2,\n        \"samples\": [\n          29,\n          1\n        ],\n        \"semantic_type\": \"\",\n        \"description\": \"\"\n      }\n    },\n    {\n      \"column\": \"rank\",\n      \"properties\": {\n        \"dtype\": \"number\",\n        \"std\": 9,\n        \"min\": 1,\n        \"max\": 14,\n        \"num_unique_values\": 2,\n        \"samples\": [\n          14,\n          1\n        ],\n        \"semantic_type\": \"\",\n        \"description\": \"\"\n      }\n    },\n    {\n      \"column\": \"nombre\",\n      \"properties\": {\n        \"dtype\": \"string\",\n        \"num_unique_values\": 2,\n        \"samples\": [\n          \"MOIA, C.E. C\",\n          \"P\\u00aa BARC. VILLAVERDE-PENITENTS A\"\n        ],\n        \"semantic_type\": \"\",\n        \"description\": \"\"\n      }\n    },\n    {\n      \"column\": \"puntos\",\n      \"properties\": {\n        \"dtype\": \"number\",\n        \"std\": 24,\n        \"min\": 0,\n        \"max\": 34,\n        \"num_unique_values\": 2,\n        \"samples\": [\n          0,\n          34\n        ],\n        \"semantic_type\": \"\",\n        \"description\": \"\"\n      }\n    },\n    {\n      \"column\": \"jug_loc\",\n      \"properties\": {\n        \"dtype\": \"number\",\n        \"std\": 0,\n        \"min\": 6,\n        \"max\": 6,\n        \"num_unique_values\": 1,\n        \"samples\": [\n          6\n        ],\n        \"semantic_type\": \"\",\n        \"description\": \"\"\n      }\n    },\n    {\n      \"column\": \"gan_loc\",\n      \"properties\": {\n        \"dtype\": \"number\",\n        \"std\": 3,\n        \"min\": 0,\n        \"max\": 5,\n        \"num_unique_values\": 2,\n        \"samples\": [\n          0\n        ],\n        \"semantic_type\": \"\",\n        \"description\": \"\"\n      }\n    },\n    {\n      \"column\": \"emp_loc\",\n      \"properties\": {\n        \"dtype\": \"number\",\n        \"std\": 0,\n        \"min\": 0,\n        \"max\": 0,\n        \"num_unique_values\": 1,\n        \"samples\": [\n          0\n        ],\n        \"semantic_type\": \"\",\n        \"description\": \"\"\n      }\n    },\n    {\n      \"column\": \"per_loc\",\n      \"properties\": {\n        \"dtype\": \"number\",\n        \"std\": 3,\n        \"min\": 1,\n        \"max\": 6,\n        \"num_unique_values\": 2,\n        \"samples\": [\n          6\n        ],\n        \"semantic_type\": \"\",\n        \"description\": \"\"\n      }\n    },\n    {\n      \"column\": \"jug_vis\",\n      \"properties\": {\n        \"dtype\": \"number\",\n        \"std\": 0,\n        \"min\": 7,\n        \"max\": 7,\n        \"num_unique_values\": 1,\n        \"samples\": [\n          7\n        ],\n        \"semantic_type\": \"\",\n        \"description\": \"\"\n      }\n    },\n    {\n      \"column\": \"gan_vis\",\n      \"properties\": {\n        \"dtype\": \"number\",\n        \"std\": 4,\n        \"min\": 0,\n        \"max\": 6,\n        \"num_unique_values\": 2,\n        \"samples\": [\n          0\n        ],\n        \"semantic_type\": \"\",\n        \"description\": \"\"\n      }\n    },\n    {\n      \"column\": \"emp_vis\",\n      \"properties\": {\n        \"dtype\": \"number\",\n        \"std\": 0,\n        \"min\": 0,\n        \"max\": 1,\n        \"num_unique_values\": 2,\n        \"samples\": [\n          0\n        ],\n        \"semantic_type\": \"\",\n        \"description\": \"\"\n      }\n    },\n    {\n      \"column\": \"per_vis\",\n      \"properties\": {\n        \"dtype\": \"number\",\n        \"std\": 4,\n        \"min\": 0,\n        \"max\": 7,\n        \"num_unique_values\": 2,\n        \"samples\": [\n          7\n        ],\n        \"semantic_type\": \"\",\n        \"description\": \"\"\n      }\n    },\n    {\n      \"column\": \"gol_fav\",\n      \"properties\": {\n        \"dtype\": \"number\",\n        \"std\": 57,\n        \"min\": 17,\n        \"max\": 99,\n        \"num_unique_values\": 2,\n        \"samples\": [\n          17\n        ],\n        \"semantic_type\": \"\",\n        \"description\": \"\"\n      }\n    },\n    {\n      \"column\": \"gol_con\",\n      \"properties\": {\n        \"dtype\": \"number\",\n        \"std\": 61,\n        \"min\": 19,\n        \"max\": 106,\n        \"num_unique_values\": 2,\n        \"samples\": [\n          106\n        ],\n        \"semantic_type\": \"\",\n        \"description\": \"\"\n      }\n    }\n  ]\n}",
       "type": "dataframe"
      },
      "text/html": [
       "\n",
       "  <div id=\"df-6883a15b-0bc9-4077-8661-67a3fb4f5291\" class=\"colab-df-container\">\n",
       "    <div>\n",
       "<style scoped>\n",
       "    .dataframe tbody tr th:only-of-type {\n",
       "        vertical-align: middle;\n",
       "    }\n",
       "\n",
       "    .dataframe tbody tr th {\n",
       "        vertical-align: top;\n",
       "    }\n",
       "\n",
       "    .dataframe thead th {\n",
       "        text-align: right;\n",
       "    }\n",
       "</style>\n",
       "<table border=\"1\" class=\"dataframe\">\n",
       "  <thead>\n",
       "    <tr style=\"text-align: right;\">\n",
       "      <th></th>\n",
       "      <th>grupo</th>\n",
       "      <th>rank</th>\n",
       "      <th>nombre</th>\n",
       "      <th>puntos</th>\n",
       "      <th>jug_loc</th>\n",
       "      <th>gan_loc</th>\n",
       "      <th>emp_loc</th>\n",
       "      <th>per_loc</th>\n",
       "      <th>jug_vis</th>\n",
       "      <th>gan_vis</th>\n",
       "      <th>emp_vis</th>\n",
       "      <th>per_vis</th>\n",
       "      <th>gol_fav</th>\n",
       "      <th>gol_con</th>\n",
       "    </tr>\n",
       "  </thead>\n",
       "  <tbody>\n",
       "    <tr>\n",
       "      <th>0</th>\n",
       "      <td>1</td>\n",
       "      <td>1</td>\n",
       "      <td>Pª BARC. VILLAVERDE-PENITENTS A</td>\n",
       "      <td>34</td>\n",
       "      <td>6</td>\n",
       "      <td>5</td>\n",
       "      <td>0</td>\n",
       "      <td>1</td>\n",
       "      <td>7</td>\n",
       "      <td>6</td>\n",
       "      <td>1</td>\n",
       "      <td>0</td>\n",
       "      <td>99</td>\n",
       "      <td>19</td>\n",
       "    </tr>\n",
       "    <tr>\n",
       "      <th>403</th>\n",
       "      <td>29</td>\n",
       "      <td>14</td>\n",
       "      <td>MOIA, C.E. C</td>\n",
       "      <td>0</td>\n",
       "      <td>6</td>\n",
       "      <td>0</td>\n",
       "      <td>0</td>\n",
       "      <td>6</td>\n",
       "      <td>7</td>\n",
       "      <td>0</td>\n",
       "      <td>0</td>\n",
       "      <td>7</td>\n",
       "      <td>17</td>\n",
       "      <td>106</td>\n",
       "    </tr>\n",
       "  </tbody>\n",
       "</table>\n",
       "</div>\n",
       "    <div class=\"colab-df-buttons\">\n",
       "\n",
       "  <div class=\"colab-df-container\">\n",
       "    <button class=\"colab-df-convert\" onclick=\"convertToInteractive('df-6883a15b-0bc9-4077-8661-67a3fb4f5291')\"\n",
       "            title=\"Convert this dataframe to an interactive table.\"\n",
       "            style=\"display:none;\">\n",
       "\n",
       "  <svg xmlns=\"http://www.w3.org/2000/svg\" height=\"24px\" viewBox=\"0 -960 960 960\">\n",
       "    <path d=\"M120-120v-720h720v720H120Zm60-500h600v-160H180v160Zm220 220h160v-160H400v160Zm0 220h160v-160H400v160ZM180-400h160v-160H180v160Zm440 0h160v-160H620v160ZM180-180h160v-160H180v160Zm440 0h160v-160H620v160Z\"/>\n",
       "  </svg>\n",
       "    </button>\n",
       "\n",
       "  <style>\n",
       "    .colab-df-container {\n",
       "      display:flex;\n",
       "      gap: 12px;\n",
       "    }\n",
       "\n",
       "    .colab-df-convert {\n",
       "      background-color: #E8F0FE;\n",
       "      border: none;\n",
       "      border-radius: 50%;\n",
       "      cursor: pointer;\n",
       "      display: none;\n",
       "      fill: #1967D2;\n",
       "      height: 32px;\n",
       "      padding: 0 0 0 0;\n",
       "      width: 32px;\n",
       "    }\n",
       "\n",
       "    .colab-df-convert:hover {\n",
       "      background-color: #E2EBFA;\n",
       "      box-shadow: 0px 1px 2px rgba(60, 64, 67, 0.3), 0px 1px 3px 1px rgba(60, 64, 67, 0.15);\n",
       "      fill: #174EA6;\n",
       "    }\n",
       "\n",
       "    .colab-df-buttons div {\n",
       "      margin-bottom: 4px;\n",
       "    }\n",
       "\n",
       "    [theme=dark] .colab-df-convert {\n",
       "      background-color: #3B4455;\n",
       "      fill: #D2E3FC;\n",
       "    }\n",
       "\n",
       "    [theme=dark] .colab-df-convert:hover {\n",
       "      background-color: #434B5C;\n",
       "      box-shadow: 0px 1px 3px 1px rgba(0, 0, 0, 0.15);\n",
       "      filter: drop-shadow(0px 1px 2px rgba(0, 0, 0, 0.3));\n",
       "      fill: #FFFFFF;\n",
       "    }\n",
       "  </style>\n",
       "\n",
       "    <script>\n",
       "      const buttonEl =\n",
       "        document.querySelector('#df-6883a15b-0bc9-4077-8661-67a3fb4f5291 button.colab-df-convert');\n",
       "      buttonEl.style.display =\n",
       "        google.colab.kernel.accessAllowed ? 'block' : 'none';\n",
       "\n",
       "      async function convertToInteractive(key) {\n",
       "        const element = document.querySelector('#df-6883a15b-0bc9-4077-8661-67a3fb4f5291');\n",
       "        const dataTable =\n",
       "          await google.colab.kernel.invokeFunction('convertToInteractive',\n",
       "                                                    [key], {});\n",
       "        if (!dataTable) return;\n",
       "\n",
       "        const docLinkHtml = 'Like what you see? Visit the ' +\n",
       "          '<a target=\"_blank\" href=https://colab.research.google.com/notebooks/data_table.ipynb>data table notebook</a>'\n",
       "          + ' to learn more about interactive tables.';\n",
       "        element.innerHTML = '';\n",
       "        dataTable['output_type'] = 'display_data';\n",
       "        await google.colab.output.renderOutput(dataTable, element);\n",
       "        const docLink = document.createElement('div');\n",
       "        docLink.innerHTML = docLinkHtml;\n",
       "        element.appendChild(docLink);\n",
       "      }\n",
       "    </script>\n",
       "  </div>\n",
       "\n",
       "\n",
       "<div id=\"df-99767c66-9b4b-4f7f-a60b-1c5504a04809\">\n",
       "  <button class=\"colab-df-quickchart\" onclick=\"quickchart('df-99767c66-9b4b-4f7f-a60b-1c5504a04809')\"\n",
       "            title=\"Suggest charts\"\n",
       "            style=\"display:none;\">\n",
       "\n",
       "<svg xmlns=\"http://www.w3.org/2000/svg\" height=\"24px\"viewBox=\"0 0 24 24\"\n",
       "     width=\"24px\">\n",
       "    <g>\n",
       "        <path d=\"M19 3H5c-1.1 0-2 .9-2 2v14c0 1.1.9 2 2 2h14c1.1 0 2-.9 2-2V5c0-1.1-.9-2-2-2zM9 17H7v-7h2v7zm4 0h-2V7h2v10zm4 0h-2v-4h2v4z\"/>\n",
       "    </g>\n",
       "</svg>\n",
       "  </button>\n",
       "\n",
       "<style>\n",
       "  .colab-df-quickchart {\n",
       "      --bg-color: #E8F0FE;\n",
       "      --fill-color: #1967D2;\n",
       "      --hover-bg-color: #E2EBFA;\n",
       "      --hover-fill-color: #174EA6;\n",
       "      --disabled-fill-color: #AAA;\n",
       "      --disabled-bg-color: #DDD;\n",
       "  }\n",
       "\n",
       "  [theme=dark] .colab-df-quickchart {\n",
       "      --bg-color: #3B4455;\n",
       "      --fill-color: #D2E3FC;\n",
       "      --hover-bg-color: #434B5C;\n",
       "      --hover-fill-color: #FFFFFF;\n",
       "      --disabled-bg-color: #3B4455;\n",
       "      --disabled-fill-color: #666;\n",
       "  }\n",
       "\n",
       "  .colab-df-quickchart {\n",
       "    background-color: var(--bg-color);\n",
       "    border: none;\n",
       "    border-radius: 50%;\n",
       "    cursor: pointer;\n",
       "    display: none;\n",
       "    fill: var(--fill-color);\n",
       "    height: 32px;\n",
       "    padding: 0;\n",
       "    width: 32px;\n",
       "  }\n",
       "\n",
       "  .colab-df-quickchart:hover {\n",
       "    background-color: var(--hover-bg-color);\n",
       "    box-shadow: 0 1px 2px rgba(60, 64, 67, 0.3), 0 1px 3px 1px rgba(60, 64, 67, 0.15);\n",
       "    fill: var(--button-hover-fill-color);\n",
       "  }\n",
       "\n",
       "  .colab-df-quickchart-complete:disabled,\n",
       "  .colab-df-quickchart-complete:disabled:hover {\n",
       "    background-color: var(--disabled-bg-color);\n",
       "    fill: var(--disabled-fill-color);\n",
       "    box-shadow: none;\n",
       "  }\n",
       "\n",
       "  .colab-df-spinner {\n",
       "    border: 2px solid var(--fill-color);\n",
       "    border-color: transparent;\n",
       "    border-bottom-color: var(--fill-color);\n",
       "    animation:\n",
       "      spin 1s steps(1) infinite;\n",
       "  }\n",
       "\n",
       "  @keyframes spin {\n",
       "    0% {\n",
       "      border-color: transparent;\n",
       "      border-bottom-color: var(--fill-color);\n",
       "      border-left-color: var(--fill-color);\n",
       "    }\n",
       "    20% {\n",
       "      border-color: transparent;\n",
       "      border-left-color: var(--fill-color);\n",
       "      border-top-color: var(--fill-color);\n",
       "    }\n",
       "    30% {\n",
       "      border-color: transparent;\n",
       "      border-left-color: var(--fill-color);\n",
       "      border-top-color: var(--fill-color);\n",
       "      border-right-color: var(--fill-color);\n",
       "    }\n",
       "    40% {\n",
       "      border-color: transparent;\n",
       "      border-right-color: var(--fill-color);\n",
       "      border-top-color: var(--fill-color);\n",
       "    }\n",
       "    60% {\n",
       "      border-color: transparent;\n",
       "      border-right-color: var(--fill-color);\n",
       "    }\n",
       "    80% {\n",
       "      border-color: transparent;\n",
       "      border-right-color: var(--fill-color);\n",
       "      border-bottom-color: var(--fill-color);\n",
       "    }\n",
       "    90% {\n",
       "      border-color: transparent;\n",
       "      border-bottom-color: var(--fill-color);\n",
       "    }\n",
       "  }\n",
       "</style>\n",
       "\n",
       "  <script>\n",
       "    async function quickchart(key) {\n",
       "      const quickchartButtonEl =\n",
       "        document.querySelector('#' + key + ' button');\n",
       "      quickchartButtonEl.disabled = true;  // To prevent multiple clicks.\n",
       "      quickchartButtonEl.classList.add('colab-df-spinner');\n",
       "      try {\n",
       "        const charts = await google.colab.kernel.invokeFunction(\n",
       "            'suggestCharts', [key], {});\n",
       "      } catch (error) {\n",
       "        console.error('Error during call to suggestCharts:', error);\n",
       "      }\n",
       "      quickchartButtonEl.classList.remove('colab-df-spinner');\n",
       "      quickchartButtonEl.classList.add('colab-df-quickchart-complete');\n",
       "    }\n",
       "    (() => {\n",
       "      let quickchartButtonEl =\n",
       "        document.querySelector('#df-99767c66-9b4b-4f7f-a60b-1c5504a04809 button');\n",
       "      quickchartButtonEl.style.display =\n",
       "        google.colab.kernel.accessAllowed ? 'block' : 'none';\n",
       "    })();\n",
       "  </script>\n",
       "</div>\n",
       "    </div>\n",
       "  </div>\n"
      ],
      "text/plain": [
       "     grupo  rank                           nombre  puntos  jug_loc  gan_loc  \\\n",
       "0        1     1  Pª BARC. VILLAVERDE-PENITENTS A      34        6        5   \n",
       "403     29    14                     MOIA, C.E. C       0        6        0   \n",
       "\n",
       "     emp_loc  per_loc  jug_vis  gan_vis  emp_vis  per_vis  gol_fav  gol_con  \n",
       "0          0        1        7        6        1        0       99       19  \n",
       "403        0        6        7        0        0        7       17      106  "
      ]
     },
     "execution_count": 3,
     "metadata": {},
     "output_type": "execute_result"
    }
   ],
   "source": [
    "pd.concat([equipos.head(1).round(1), equipos.tail(1).round(1)])"
   ]
  },
  {
   "cell_type": "markdown",
   "metadata": {
    "id": "fDwC8RcMVt82"
   },
   "source": [
    "Datos de clasificación de los 404 equipos de la liga de fútbol 7 sub-12, 3ª división - Federación Catalana de Fútbol."
   ]
  },
  {
   "cell_type": "code",
   "execution_count": 4,
   "metadata": {
    "colab": {
     "base_uri": "https://localhost:8080/"
    },
    "id": "LwyH7eOaUkpb",
    "outputId": "598c80b7-3755-490e-ab91-858bc2ecfb5c"
   },
   "outputs": [
    {
     "name": "stdout",
     "output_type": "stream",
     "text": [
      "<class 'pandas.core.frame.DataFrame'>\n",
      "RangeIndex: 404 entries, 0 to 403\n",
      "Data columns (total 14 columns):\n",
      " #   Column   Non-Null Count  Dtype \n",
      "---  ------   --------------  ----- \n",
      " 0   grupo    404 non-null    int64 \n",
      " 1   rank     404 non-null    int64 \n",
      " 2   nombre   404 non-null    object\n",
      " 3   puntos   404 non-null    int64 \n",
      " 4   jug_loc  404 non-null    int64 \n",
      " 5   gan_loc  404 non-null    int64 \n",
      " 6   emp_loc  404 non-null    int64 \n",
      " 7   per_loc  404 non-null    int64 \n",
      " 8   jug_vis  404 non-null    int64 \n",
      " 9   gan_vis  404 non-null    int64 \n",
      " 10  emp_vis  404 non-null    int64 \n",
      " 11  per_vis  404 non-null    int64 \n",
      " 12  gol_fav  404 non-null    int64 \n",
      " 13  gol_con  404 non-null    int64 \n",
      "dtypes: int64(13), object(1)\n",
      "memory usage: 44.3+ KB\n"
     ]
    }
   ],
   "source": [
    "equipos.info()"
   ]
  },
  {
   "cell_type": "markdown",
   "metadata": {
    "id": "jrYJQBQPVLlV"
   },
   "source": [
    "404 filas y 14 columnas, ningún registro nulo, 12 de tipo entero y 1 de tipo objeto / string. `grupo`, aunque numérica, tiene naturaleza categórica."
   ]
  },
  {
   "cell_type": "code",
   "execution_count": 5,
   "metadata": {
    "colab": {
     "base_uri": "https://localhost:8080/"
    },
    "id": "cvqSZe9WUpwt",
    "outputId": "9dad37de-95a6-498e-e466-a7a3d4fe6df9"
   },
   "outputs": [
    {
     "data": {
      "text/plain": [
       "0"
      ]
     },
     "execution_count": 5,
     "metadata": {},
     "output_type": "execute_result"
    }
   ],
   "source": [
    "equipos.duplicated().sum()"
   ]
  },
  {
   "cell_type": "markdown",
   "metadata": {
    "id": "bjYKW42LU_5K"
   },
   "source": [
    "No existen registros duplicados."
   ]
  },
  {
   "cell_type": "markdown",
   "metadata": {
    "id": "N9tFopWo2YCb"
   },
   "source": [
    "Convertimos las variables en variables por partido y añadimos la columna `dif_gol` (diferencia de goles):"
   ]
  },
  {
   "cell_type": "code",
   "execution_count": 6,
   "metadata": {
    "id": "dVDNRXdk0Do4"
   },
   "outputs": [],
   "source": [
    "columnas_loc = ['gan_loc', 'per_loc', 'emp_loc']\n",
    "columnas_vis = ['gan_vis', 'per_vis', 'emp_vis']\n",
    "columnas_gol = ['gol_fav', 'gol_con']\n",
    "\n",
    "equipos['puntos'] = equipos['puntos'] / (equipos['jug_loc'] + equipos['jug_vis'])\n",
    "\n",
    "for l in columnas_loc:\n",
    "  equipos[l] = equipos[l] / equipos['jug_loc']\n",
    "\n",
    "for v in columnas_vis:\n",
    "  equipos[v] = equipos[v] / equipos['jug_vis']\n",
    "\n",
    "for g in columnas_gol:\n",
    "  equipos[g] = equipos[g] / (equipos['jug_loc'] + equipos['jug_vis'])\n",
    "\n",
    "equipos['dif_gol'] = equipos['gol_fav'] - equipos['gol_con']\n",
    "equipos.drop(['jug_loc','jug_vis'], axis = 1, inplace=True)"
   ]
  },
  {
   "cell_type": "markdown",
   "metadata": {
    "id": "DFBn_pt4qev7"
   },
   "source": [
    "... y eliminamos las columnas `jug_loc` y `jug_vis`."
   ]
  },
  {
   "cell_type": "markdown",
   "metadata": {
    "id": "u1Ekyrbm6CrI"
   },
   "source": [
    "Resultados por partido:"
   ]
  },
  {
   "cell_type": "code",
   "execution_count": 7,
   "metadata": {
    "colab": {
     "base_uri": "https://localhost:8080/",
     "height": 153
    },
    "id": "eq0gbCJe3sJk",
    "outputId": "8823a263-ff53-4161-c466-1ca15e47f278"
   },
   "outputs": [
    {
     "data": {
      "application/vnd.google.colaboratory.intrinsic+json": {
       "summary": "{\n  \"name\": \"equipos\",\n  \"rows\": 404,\n  \"fields\": [\n    {\n      \"column\": \"grupo\",\n      \"properties\": {\n        \"dtype\": \"number\",\n        \"std\": 8,\n        \"min\": 1,\n        \"max\": 29,\n        \"num_unique_values\": 29,\n        \"samples\": [\n          28,\n          17,\n          13\n        ],\n        \"semantic_type\": \"\",\n        \"description\": \"\"\n      }\n    },\n    {\n      \"column\": \"rank\",\n      \"properties\": {\n        \"dtype\": \"number\",\n        \"std\": 4,\n        \"min\": 1,\n        \"max\": 16,\n        \"num_unique_values\": 16,\n        \"samples\": [\n          1,\n          2,\n          6\n        ],\n        \"semantic_type\": \"\",\n        \"description\": \"\"\n      }\n    },\n    {\n      \"column\": \"nombre\",\n      \"properties\": {\n        \"dtype\": \"string\",\n        \"num_unique_values\": 404,\n        \"samples\": [\n          \"BESOS BARON DE VIVER CLUB FUTBOL A\",\n          \"ESCOLA DE LLAVANERES,CF. C\",\n          \"BERGA, C.E. B\"\n        ],\n        \"semantic_type\": \"\",\n        \"description\": \"\"\n      }\n    },\n    {\n      \"column\": \"puntos\",\n      \"properties\": {\n        \"dtype\": \"number\",\n        \"std\": 0.8547302531172748,\n        \"min\": 0.0,\n        \"max\": 3.0,\n        \"num_unique_values\": 108,\n        \"samples\": [\n          0.3333333333333333,\n          0.9230769230769231,\n          1.9230769230769231\n        ],\n        \"semantic_type\": \"\",\n        \"description\": \"\"\n      }\n    },\n    {\n      \"column\": \"gan_loc\",\n      \"properties\": {\n        \"dtype\": \"number\",\n        \"std\": 0.30710891484068575,\n        \"min\": 0.0,\n        \"max\": 1.0,\n        \"num_unique_values\": 22,\n        \"samples\": [\n          0.8333333333333334,\n          0.5,\n          0.8571428571428571\n        ],\n        \"semantic_type\": \"\",\n        \"description\": \"\"\n      }\n    },\n    {\n      \"column\": \"emp_loc\",\n      \"properties\": {\n        \"dtype\": \"number\",\n        \"std\": 0.08987931321532068,\n        \"min\": 0.0,\n        \"max\": 0.42857142857142855,\n        \"num_unique_values\": 10,\n        \"samples\": [\n          0.25,\n          0.3333333333333333,\n          0.42857142857142855\n        ],\n        \"semantic_type\": \"\",\n        \"description\": \"\"\n      }\n    },\n    {\n      \"column\": \"per_loc\",\n      \"properties\": {\n        \"dtype\": \"number\",\n        \"std\": 0.3073955163108864,\n        \"min\": 0.0,\n        \"max\": 1.0,\n        \"num_unique_values\": 23,\n        \"samples\": [\n          0.375,\n          0.14285714285714285,\n          0.16666666666666666\n        ],\n        \"semantic_type\": \"\",\n        \"description\": \"\"\n      }\n    },\n    {\n      \"column\": \"gan_vis\",\n      \"properties\": {\n        \"dtype\": \"number\",\n        \"std\": 0.3076364759176887,\n        \"min\": 0.0,\n        \"max\": 1.0,\n        \"num_unique_values\": 25,\n        \"samples\": [\n          0.0,\n          0.3333333333333333,\n          0.8571428571428571\n        ],\n        \"semantic_type\": \"\",\n        \"description\": \"\"\n      }\n    },\n    {\n      \"column\": \"emp_vis\",\n      \"properties\": {\n        \"dtype\": \"number\",\n        \"std\": 0.09400824298189758,\n        \"min\": 0.0,\n        \"max\": 0.5,\n        \"num_unique_values\": 11,\n        \"samples\": [\n          0.125,\n          0.14285714285714285,\n          0.5\n        ],\n        \"semantic_type\": \"\",\n        \"description\": \"\"\n      }\n    },\n    {\n      \"column\": \"per_vis\",\n      \"properties\": {\n        \"dtype\": \"number\",\n        \"std\": 0.3138955870595724,\n        \"min\": 0.0,\n        \"max\": 1.0,\n        \"num_unique_values\": 24,\n        \"samples\": [\n          0.5714285714285714,\n          0.625,\n          0.0\n        ],\n        \"semantic_type\": \"\",\n        \"description\": \"\"\n      }\n    },\n    {\n      \"column\": \"gol_fav\",\n      \"properties\": {\n        \"dtype\": \"number\",\n        \"std\": 2.1812972801596513,\n        \"min\": 0.4666666666666667,\n        \"max\": 10.071428571428571,\n        \"num_unique_values\": 214,\n        \"samples\": [\n          3.8461538461538463,\n          3.3076923076923075,\n          2.7333333333333334\n        ],\n        \"semantic_type\": \"\",\n        \"description\": \"\"\n      }\n    },\n    {\n      \"column\": \"gol_con\",\n      \"properties\": {\n        \"dtype\": \"number\",\n        \"std\": 2.1863719755321114,\n        \"min\": 0.21428571428571427,\n        \"max\": 9.714285714285714,\n        \"num_unique_values\": 219,\n        \"samples\": [\n          7.733333333333333,\n          7.142857142857143,\n          2.4615384615384617\n        ],\n        \"semantic_type\": \"\",\n        \"description\": \"\"\n      }\n    },\n    {\n      \"column\": \"dif_gol\",\n      \"properties\": {\n        \"dtype\": \"number\",\n        \"std\": 4.127975201721019,\n        \"min\": -9.0,\n        \"max\": 9.5,\n        \"num_unique_values\": 338,\n        \"samples\": [\n          -7.6,\n          -0.8461538461538463,\n          -5.0\n        ],\n        \"semantic_type\": \"\",\n        \"description\": \"\"\n      }\n    }\n  ]\n}",
       "type": "dataframe",
       "variable_name": "equipos"
      },
      "text/html": [
       "\n",
       "  <div id=\"df-49980952-ce6d-4a4a-91ab-a3cfa0513525\" class=\"colab-df-container\">\n",
       "    <div>\n",
       "<style scoped>\n",
       "    .dataframe tbody tr th:only-of-type {\n",
       "        vertical-align: middle;\n",
       "    }\n",
       "\n",
       "    .dataframe tbody tr th {\n",
       "        vertical-align: top;\n",
       "    }\n",
       "\n",
       "    .dataframe thead th {\n",
       "        text-align: right;\n",
       "    }\n",
       "</style>\n",
       "<table border=\"1\" class=\"dataframe\">\n",
       "  <thead>\n",
       "    <tr style=\"text-align: right;\">\n",
       "      <th></th>\n",
       "      <th>grupo</th>\n",
       "      <th>rank</th>\n",
       "      <th>nombre</th>\n",
       "      <th>puntos</th>\n",
       "      <th>gan_loc</th>\n",
       "      <th>emp_loc</th>\n",
       "      <th>per_loc</th>\n",
       "      <th>gan_vis</th>\n",
       "      <th>emp_vis</th>\n",
       "      <th>per_vis</th>\n",
       "      <th>gol_fav</th>\n",
       "      <th>gol_con</th>\n",
       "      <th>dif_gol</th>\n",
       "    </tr>\n",
       "  </thead>\n",
       "  <tbody>\n",
       "    <tr>\n",
       "      <th>0</th>\n",
       "      <td>1</td>\n",
       "      <td>1</td>\n",
       "      <td>Pª BARC. VILLAVERDE-PENITENTS A</td>\n",
       "      <td>2.62</td>\n",
       "      <td>0.83</td>\n",
       "      <td>0.0</td>\n",
       "      <td>0.17</td>\n",
       "      <td>0.86</td>\n",
       "      <td>0.14</td>\n",
       "      <td>0.0</td>\n",
       "      <td>7.62</td>\n",
       "      <td>1.46</td>\n",
       "      <td>6.15</td>\n",
       "    </tr>\n",
       "  </tbody>\n",
       "</table>\n",
       "</div>\n",
       "    <div class=\"colab-df-buttons\">\n",
       "\n",
       "  <div class=\"colab-df-container\">\n",
       "    <button class=\"colab-df-convert\" onclick=\"convertToInteractive('df-49980952-ce6d-4a4a-91ab-a3cfa0513525')\"\n",
       "            title=\"Convert this dataframe to an interactive table.\"\n",
       "            style=\"display:none;\">\n",
       "\n",
       "  <svg xmlns=\"http://www.w3.org/2000/svg\" height=\"24px\" viewBox=\"0 -960 960 960\">\n",
       "    <path d=\"M120-120v-720h720v720H120Zm60-500h600v-160H180v160Zm220 220h160v-160H400v160Zm0 220h160v-160H400v160ZM180-400h160v-160H180v160Zm440 0h160v-160H620v160ZM180-180h160v-160H180v160Zm440 0h160v-160H620v160Z\"/>\n",
       "  </svg>\n",
       "    </button>\n",
       "\n",
       "  <style>\n",
       "    .colab-df-container {\n",
       "      display:flex;\n",
       "      gap: 12px;\n",
       "    }\n",
       "\n",
       "    .colab-df-convert {\n",
       "      background-color: #E8F0FE;\n",
       "      border: none;\n",
       "      border-radius: 50%;\n",
       "      cursor: pointer;\n",
       "      display: none;\n",
       "      fill: #1967D2;\n",
       "      height: 32px;\n",
       "      padding: 0 0 0 0;\n",
       "      width: 32px;\n",
       "    }\n",
       "\n",
       "    .colab-df-convert:hover {\n",
       "      background-color: #E2EBFA;\n",
       "      box-shadow: 0px 1px 2px rgba(60, 64, 67, 0.3), 0px 1px 3px 1px rgba(60, 64, 67, 0.15);\n",
       "      fill: #174EA6;\n",
       "    }\n",
       "\n",
       "    .colab-df-buttons div {\n",
       "      margin-bottom: 4px;\n",
       "    }\n",
       "\n",
       "    [theme=dark] .colab-df-convert {\n",
       "      background-color: #3B4455;\n",
       "      fill: #D2E3FC;\n",
       "    }\n",
       "\n",
       "    [theme=dark] .colab-df-convert:hover {\n",
       "      background-color: #434B5C;\n",
       "      box-shadow: 0px 1px 3px 1px rgba(0, 0, 0, 0.15);\n",
       "      filter: drop-shadow(0px 1px 2px rgba(0, 0, 0, 0.3));\n",
       "      fill: #FFFFFF;\n",
       "    }\n",
       "  </style>\n",
       "\n",
       "    <script>\n",
       "      const buttonEl =\n",
       "        document.querySelector('#df-49980952-ce6d-4a4a-91ab-a3cfa0513525 button.colab-df-convert');\n",
       "      buttonEl.style.display =\n",
       "        google.colab.kernel.accessAllowed ? 'block' : 'none';\n",
       "\n",
       "      async function convertToInteractive(key) {\n",
       "        const element = document.querySelector('#df-49980952-ce6d-4a4a-91ab-a3cfa0513525');\n",
       "        const dataTable =\n",
       "          await google.colab.kernel.invokeFunction('convertToInteractive',\n",
       "                                                    [key], {});\n",
       "        if (!dataTable) return;\n",
       "\n",
       "        const docLinkHtml = 'Like what you see? Visit the ' +\n",
       "          '<a target=\"_blank\" href=https://colab.research.google.com/notebooks/data_table.ipynb>data table notebook</a>'\n",
       "          + ' to learn more about interactive tables.';\n",
       "        element.innerHTML = '';\n",
       "        dataTable['output_type'] = 'display_data';\n",
       "        await google.colab.output.renderOutput(dataTable, element);\n",
       "        const docLink = document.createElement('div');\n",
       "        docLink.innerHTML = docLinkHtml;\n",
       "        element.appendChild(docLink);\n",
       "      }\n",
       "    </script>\n",
       "  </div>\n",
       "\n",
       "    </div>\n",
       "  </div>\n"
      ],
      "text/plain": [
       "   grupo  rank                           nombre  puntos  gan_loc  emp_loc  \\\n",
       "0      1     1  Pª BARC. VILLAVERDE-PENITENTS A    2.62     0.83      0.0   \n",
       "\n",
       "   per_loc  gan_vis  emp_vis  per_vis  gol_fav  gol_con  dif_gol  \n",
       "0     0.17     0.86     0.14      0.0     7.62     1.46     6.15  "
      ]
     },
     "execution_count": 7,
     "metadata": {},
     "output_type": "execute_result"
    }
   ],
   "source": [
    "equipos.head(1).round(2)"
   ]
  },
  {
   "cell_type": "markdown",
   "metadata": {
    "id": "Gtw64uX_vs_s"
   },
   "source": [
    "Datos curiosos:"
   ]
  },
  {
   "cell_type": "code",
   "execution_count": 8,
   "metadata": {
    "colab": {
     "base_uri": "https://localhost:8080/",
     "height": 320
    },
    "id": "FYilZjBfvwGV",
    "outputId": "da437d07-47ab-4774-a548-687493a7b2ec"
   },
   "outputs": [
    {
     "data": {
      "application/vnd.google.colaboratory.intrinsic+json": {
       "summary": "{\n  \"name\": \"equipos\",\n  \"rows\": 8,\n  \"fields\": [\n    {\n      \"column\": \"rank\",\n      \"properties\": {\n        \"dtype\": \"number\",\n        \"std\": 140.3527095493325,\n        \"min\": 1.0,\n        \"max\": 404.0,\n        \"num_unique_values\": 8,\n        \"samples\": [\n          7.537,\n          7.0,\n          404.0\n        ],\n        \"semantic_type\": \"\",\n        \"description\": \"\"\n      }\n    },\n    {\n      \"column\": \"puntos\",\n      \"properties\": {\n        \"dtype\": \"number\",\n        \"std\": 142.34535350036143,\n        \"min\": 0.0,\n        \"max\": 404.0,\n        \"num_unique_values\": 8,\n        \"samples\": [\n          1.469,\n          1.467,\n          404.0\n        ],\n        \"semantic_type\": \"\",\n        \"description\": \"\"\n      }\n    },\n    {\n      \"column\": \"gan_loc\",\n      \"properties\": {\n        \"dtype\": \"number\",\n        \"std\": 142.66734716759572,\n        \"min\": 0.0,\n        \"max\": 404.0,\n        \"num_unique_values\": 8,\n        \"samples\": [\n          0.494,\n          0.5,\n          404.0\n        ],\n        \"semantic_type\": \"\",\n        \"description\": \"\"\n      }\n    },\n    {\n      \"column\": \"emp_loc\",\n      \"properties\": {\n        \"dtype\": \"number\",\n        \"std\": 142.79937639194569,\n        \"min\": 0.0,\n        \"max\": 404.0,\n        \"num_unique_values\": 6,\n        \"samples\": [\n          404.0,\n          0.056,\n          0.429\n        ],\n        \"semantic_type\": \"\",\n        \"description\": \"\"\n      }\n    },\n    {\n      \"column\": \"per_loc\",\n      \"properties\": {\n        \"dtype\": \"number\",\n        \"std\": 142.6810511653277,\n        \"min\": 0.0,\n        \"max\": 404.0,\n        \"num_unique_values\": 8,\n        \"samples\": [\n          0.449,\n          0.429,\n          404.0\n        ],\n        \"semantic_type\": \"\",\n        \"description\": \"\"\n      }\n    },\n    {\n      \"column\": \"gan_vis\",\n      \"properties\": {\n        \"dtype\": \"number\",\n        \"std\": 142.68221946983894,\n        \"min\": 0.0,\n        \"max\": 404.0,\n        \"num_unique_values\": 8,\n        \"samples\": [\n          0.449,\n          0.429,\n          404.0\n        ],\n        \"semantic_type\": \"\",\n        \"description\": \"\"\n      }\n    },\n    {\n      \"column\": \"emp_vis\",\n      \"properties\": {\n        \"dtype\": \"number\",\n        \"std\": 142.79556302105468,\n        \"min\": 0.0,\n        \"max\": 404.0,\n        \"num_unique_values\": 6,\n        \"samples\": [\n          404.0,\n          0.057,\n          0.5\n        ],\n        \"semantic_type\": \"\",\n        \"description\": \"\"\n      }\n    },\n    {\n      \"column\": \"per_vis\",\n      \"properties\": {\n        \"dtype\": \"number\",\n        \"std\": 142.66880145788207,\n        \"min\": 0.0,\n        \"max\": 404.0,\n        \"num_unique_values\": 8,\n        \"samples\": [\n          0.494,\n          0.5,\n          404.0\n        ],\n        \"semantic_type\": \"\",\n        \"description\": \"\"\n      }\n    },\n    {\n      \"column\": \"gol_fav\",\n      \"properties\": {\n        \"dtype\": \"number\",\n        \"std\": 141.41604448267177,\n        \"min\": 0.467,\n        \"max\": 404.0,\n        \"num_unique_values\": 8,\n        \"samples\": [\n          4.158,\n          3.81,\n          404.0\n        ],\n        \"semantic_type\": \"\",\n        \"description\": \"\"\n      }\n    },\n    {\n      \"column\": \"gol_con\",\n      \"properties\": {\n        \"dtype\": \"number\",\n        \"std\": 141.43528499730135,\n        \"min\": 0.214,\n        \"max\": 404.0,\n        \"num_unique_values\": 8,\n        \"samples\": [\n          4.157,\n          3.857,\n          404.0\n        ],\n        \"semantic_type\": \"\",\n        \"description\": \"\"\n      }\n    },\n    {\n      \"column\": \"dif_gol\",\n      \"properties\": {\n        \"dtype\": \"number\",\n        \"std\": 142.70873468055484,\n        \"min\": -9.0,\n        \"max\": 404.0,\n        \"num_unique_values\": 8,\n        \"samples\": [\n          0.001,\n          0.033,\n          404.0\n        ],\n        \"semantic_type\": \"\",\n        \"description\": \"\"\n      }\n    }\n  ]\n}",
       "type": "dataframe"
      },
      "text/html": [
       "\n",
       "  <div id=\"df-5a3a6eaa-01ff-4abf-ae38-713304fb9101\" class=\"colab-df-container\">\n",
       "    <div>\n",
       "<style scoped>\n",
       "    .dataframe tbody tr th:only-of-type {\n",
       "        vertical-align: middle;\n",
       "    }\n",
       "\n",
       "    .dataframe tbody tr th {\n",
       "        vertical-align: top;\n",
       "    }\n",
       "\n",
       "    .dataframe thead th {\n",
       "        text-align: right;\n",
       "    }\n",
       "</style>\n",
       "<table border=\"1\" class=\"dataframe\">\n",
       "  <thead>\n",
       "    <tr style=\"text-align: right;\">\n",
       "      <th></th>\n",
       "      <th>rank</th>\n",
       "      <th>puntos</th>\n",
       "      <th>gan_loc</th>\n",
       "      <th>emp_loc</th>\n",
       "      <th>per_loc</th>\n",
       "      <th>gan_vis</th>\n",
       "      <th>emp_vis</th>\n",
       "      <th>per_vis</th>\n",
       "      <th>gol_fav</th>\n",
       "      <th>gol_con</th>\n",
       "      <th>dif_gol</th>\n",
       "    </tr>\n",
       "  </thead>\n",
       "  <tbody>\n",
       "    <tr>\n",
       "      <th>count</th>\n",
       "      <td>404.000</td>\n",
       "      <td>404.000</td>\n",
       "      <td>404.000</td>\n",
       "      <td>404.000</td>\n",
       "      <td>404.000</td>\n",
       "      <td>404.000</td>\n",
       "      <td>404.000</td>\n",
       "      <td>404.000</td>\n",
       "      <td>404.000</td>\n",
       "      <td>404.000</td>\n",
       "      <td>404.000</td>\n",
       "    </tr>\n",
       "    <tr>\n",
       "      <th>mean</th>\n",
       "      <td>7.537</td>\n",
       "      <td>1.469</td>\n",
       "      <td>0.494</td>\n",
       "      <td>0.056</td>\n",
       "      <td>0.449</td>\n",
       "      <td>0.449</td>\n",
       "      <td>0.057</td>\n",
       "      <td>0.494</td>\n",
       "      <td>4.158</td>\n",
       "      <td>4.157</td>\n",
       "      <td>0.001</td>\n",
       "    </tr>\n",
       "    <tr>\n",
       "      <th>std</th>\n",
       "      <td>4.134</td>\n",
       "      <td>0.855</td>\n",
       "      <td>0.307</td>\n",
       "      <td>0.090</td>\n",
       "      <td>0.307</td>\n",
       "      <td>0.308</td>\n",
       "      <td>0.094</td>\n",
       "      <td>0.314</td>\n",
       "      <td>2.181</td>\n",
       "      <td>2.186</td>\n",
       "      <td>4.128</td>\n",
       "    </tr>\n",
       "    <tr>\n",
       "      <th>min</th>\n",
       "      <td>1.000</td>\n",
       "      <td>0.000</td>\n",
       "      <td>0.000</td>\n",
       "      <td>0.000</td>\n",
       "      <td>0.000</td>\n",
       "      <td>0.000</td>\n",
       "      <td>0.000</td>\n",
       "      <td>0.000</td>\n",
       "      <td>0.467</td>\n",
       "      <td>0.214</td>\n",
       "      <td>-9.000</td>\n",
       "    </tr>\n",
       "    <tr>\n",
       "      <th>25%</th>\n",
       "      <td>4.000</td>\n",
       "      <td>0.773</td>\n",
       "      <td>0.286</td>\n",
       "      <td>0.000</td>\n",
       "      <td>0.167</td>\n",
       "      <td>0.143</td>\n",
       "      <td>0.000</td>\n",
       "      <td>0.286</td>\n",
       "      <td>2.396</td>\n",
       "      <td>2.500</td>\n",
       "      <td>-2.950</td>\n",
       "    </tr>\n",
       "    <tr>\n",
       "      <th>50%</th>\n",
       "      <td>7.000</td>\n",
       "      <td>1.467</td>\n",
       "      <td>0.500</td>\n",
       "      <td>0.000</td>\n",
       "      <td>0.429</td>\n",
       "      <td>0.429</td>\n",
       "      <td>0.000</td>\n",
       "      <td>0.500</td>\n",
       "      <td>3.810</td>\n",
       "      <td>3.857</td>\n",
       "      <td>0.033</td>\n",
       "    </tr>\n",
       "    <tr>\n",
       "      <th>75%</th>\n",
       "      <td>11.000</td>\n",
       "      <td>2.200</td>\n",
       "      <td>0.750</td>\n",
       "      <td>0.143</td>\n",
       "      <td>0.714</td>\n",
       "      <td>0.714</td>\n",
       "      <td>0.143</td>\n",
       "      <td>0.714</td>\n",
       "      <td>5.600</td>\n",
       "      <td>5.649</td>\n",
       "      <td>2.801</td>\n",
       "    </tr>\n",
       "    <tr>\n",
       "      <th>max</th>\n",
       "      <td>16.000</td>\n",
       "      <td>3.000</td>\n",
       "      <td>1.000</td>\n",
       "      <td>0.429</td>\n",
       "      <td>1.000</td>\n",
       "      <td>1.000</td>\n",
       "      <td>0.500</td>\n",
       "      <td>1.000</td>\n",
       "      <td>10.071</td>\n",
       "      <td>9.714</td>\n",
       "      <td>9.500</td>\n",
       "    </tr>\n",
       "  </tbody>\n",
       "</table>\n",
       "</div>\n",
       "    <div class=\"colab-df-buttons\">\n",
       "\n",
       "  <div class=\"colab-df-container\">\n",
       "    <button class=\"colab-df-convert\" onclick=\"convertToInteractive('df-5a3a6eaa-01ff-4abf-ae38-713304fb9101')\"\n",
       "            title=\"Convert this dataframe to an interactive table.\"\n",
       "            style=\"display:none;\">\n",
       "\n",
       "  <svg xmlns=\"http://www.w3.org/2000/svg\" height=\"24px\" viewBox=\"0 -960 960 960\">\n",
       "    <path d=\"M120-120v-720h720v720H120Zm60-500h600v-160H180v160Zm220 220h160v-160H400v160Zm0 220h160v-160H400v160ZM180-400h160v-160H180v160Zm440 0h160v-160H620v160ZM180-180h160v-160H180v160Zm440 0h160v-160H620v160Z\"/>\n",
       "  </svg>\n",
       "    </button>\n",
       "\n",
       "  <style>\n",
       "    .colab-df-container {\n",
       "      display:flex;\n",
       "      gap: 12px;\n",
       "    }\n",
       "\n",
       "    .colab-df-convert {\n",
       "      background-color: #E8F0FE;\n",
       "      border: none;\n",
       "      border-radius: 50%;\n",
       "      cursor: pointer;\n",
       "      display: none;\n",
       "      fill: #1967D2;\n",
       "      height: 32px;\n",
       "      padding: 0 0 0 0;\n",
       "      width: 32px;\n",
       "    }\n",
       "\n",
       "    .colab-df-convert:hover {\n",
       "      background-color: #E2EBFA;\n",
       "      box-shadow: 0px 1px 2px rgba(60, 64, 67, 0.3), 0px 1px 3px 1px rgba(60, 64, 67, 0.15);\n",
       "      fill: #174EA6;\n",
       "    }\n",
       "\n",
       "    .colab-df-buttons div {\n",
       "      margin-bottom: 4px;\n",
       "    }\n",
       "\n",
       "    [theme=dark] .colab-df-convert {\n",
       "      background-color: #3B4455;\n",
       "      fill: #D2E3FC;\n",
       "    }\n",
       "\n",
       "    [theme=dark] .colab-df-convert:hover {\n",
       "      background-color: #434B5C;\n",
       "      box-shadow: 0px 1px 3px 1px rgba(0, 0, 0, 0.15);\n",
       "      filter: drop-shadow(0px 1px 2px rgba(0, 0, 0, 0.3));\n",
       "      fill: #FFFFFF;\n",
       "    }\n",
       "  </style>\n",
       "\n",
       "    <script>\n",
       "      const buttonEl =\n",
       "        document.querySelector('#df-5a3a6eaa-01ff-4abf-ae38-713304fb9101 button.colab-df-convert');\n",
       "      buttonEl.style.display =\n",
       "        google.colab.kernel.accessAllowed ? 'block' : 'none';\n",
       "\n",
       "      async function convertToInteractive(key) {\n",
       "        const element = document.querySelector('#df-5a3a6eaa-01ff-4abf-ae38-713304fb9101');\n",
       "        const dataTable =\n",
       "          await google.colab.kernel.invokeFunction('convertToInteractive',\n",
       "                                                    [key], {});\n",
       "        if (!dataTable) return;\n",
       "\n",
       "        const docLinkHtml = 'Like what you see? Visit the ' +\n",
       "          '<a target=\"_blank\" href=https://colab.research.google.com/notebooks/data_table.ipynb>data table notebook</a>'\n",
       "          + ' to learn more about interactive tables.';\n",
       "        element.innerHTML = '';\n",
       "        dataTable['output_type'] = 'display_data';\n",
       "        await google.colab.output.renderOutput(dataTable, element);\n",
       "        const docLink = document.createElement('div');\n",
       "        docLink.innerHTML = docLinkHtml;\n",
       "        element.appendChild(docLink);\n",
       "      }\n",
       "    </script>\n",
       "  </div>\n",
       "\n",
       "\n",
       "<div id=\"df-714b9fbb-deda-456a-ac22-b5846603e57b\">\n",
       "  <button class=\"colab-df-quickchart\" onclick=\"quickchart('df-714b9fbb-deda-456a-ac22-b5846603e57b')\"\n",
       "            title=\"Suggest charts\"\n",
       "            style=\"display:none;\">\n",
       "\n",
       "<svg xmlns=\"http://www.w3.org/2000/svg\" height=\"24px\"viewBox=\"0 0 24 24\"\n",
       "     width=\"24px\">\n",
       "    <g>\n",
       "        <path d=\"M19 3H5c-1.1 0-2 .9-2 2v14c0 1.1.9 2 2 2h14c1.1 0 2-.9 2-2V5c0-1.1-.9-2-2-2zM9 17H7v-7h2v7zm4 0h-2V7h2v10zm4 0h-2v-4h2v4z\"/>\n",
       "    </g>\n",
       "</svg>\n",
       "  </button>\n",
       "\n",
       "<style>\n",
       "  .colab-df-quickchart {\n",
       "      --bg-color: #E8F0FE;\n",
       "      --fill-color: #1967D2;\n",
       "      --hover-bg-color: #E2EBFA;\n",
       "      --hover-fill-color: #174EA6;\n",
       "      --disabled-fill-color: #AAA;\n",
       "      --disabled-bg-color: #DDD;\n",
       "  }\n",
       "\n",
       "  [theme=dark] .colab-df-quickchart {\n",
       "      --bg-color: #3B4455;\n",
       "      --fill-color: #D2E3FC;\n",
       "      --hover-bg-color: #434B5C;\n",
       "      --hover-fill-color: #FFFFFF;\n",
       "      --disabled-bg-color: #3B4455;\n",
       "      --disabled-fill-color: #666;\n",
       "  }\n",
       "\n",
       "  .colab-df-quickchart {\n",
       "    background-color: var(--bg-color);\n",
       "    border: none;\n",
       "    border-radius: 50%;\n",
       "    cursor: pointer;\n",
       "    display: none;\n",
       "    fill: var(--fill-color);\n",
       "    height: 32px;\n",
       "    padding: 0;\n",
       "    width: 32px;\n",
       "  }\n",
       "\n",
       "  .colab-df-quickchart:hover {\n",
       "    background-color: var(--hover-bg-color);\n",
       "    box-shadow: 0 1px 2px rgba(60, 64, 67, 0.3), 0 1px 3px 1px rgba(60, 64, 67, 0.15);\n",
       "    fill: var(--button-hover-fill-color);\n",
       "  }\n",
       "\n",
       "  .colab-df-quickchart-complete:disabled,\n",
       "  .colab-df-quickchart-complete:disabled:hover {\n",
       "    background-color: var(--disabled-bg-color);\n",
       "    fill: var(--disabled-fill-color);\n",
       "    box-shadow: none;\n",
       "  }\n",
       "\n",
       "  .colab-df-spinner {\n",
       "    border: 2px solid var(--fill-color);\n",
       "    border-color: transparent;\n",
       "    border-bottom-color: var(--fill-color);\n",
       "    animation:\n",
       "      spin 1s steps(1) infinite;\n",
       "  }\n",
       "\n",
       "  @keyframes spin {\n",
       "    0% {\n",
       "      border-color: transparent;\n",
       "      border-bottom-color: var(--fill-color);\n",
       "      border-left-color: var(--fill-color);\n",
       "    }\n",
       "    20% {\n",
       "      border-color: transparent;\n",
       "      border-left-color: var(--fill-color);\n",
       "      border-top-color: var(--fill-color);\n",
       "    }\n",
       "    30% {\n",
       "      border-color: transparent;\n",
       "      border-left-color: var(--fill-color);\n",
       "      border-top-color: var(--fill-color);\n",
       "      border-right-color: var(--fill-color);\n",
       "    }\n",
       "    40% {\n",
       "      border-color: transparent;\n",
       "      border-right-color: var(--fill-color);\n",
       "      border-top-color: var(--fill-color);\n",
       "    }\n",
       "    60% {\n",
       "      border-color: transparent;\n",
       "      border-right-color: var(--fill-color);\n",
       "    }\n",
       "    80% {\n",
       "      border-color: transparent;\n",
       "      border-right-color: var(--fill-color);\n",
       "      border-bottom-color: var(--fill-color);\n",
       "    }\n",
       "    90% {\n",
       "      border-color: transparent;\n",
       "      border-bottom-color: var(--fill-color);\n",
       "    }\n",
       "  }\n",
       "</style>\n",
       "\n",
       "  <script>\n",
       "    async function quickchart(key) {\n",
       "      const quickchartButtonEl =\n",
       "        document.querySelector('#' + key + ' button');\n",
       "      quickchartButtonEl.disabled = true;  // To prevent multiple clicks.\n",
       "      quickchartButtonEl.classList.add('colab-df-spinner');\n",
       "      try {\n",
       "        const charts = await google.colab.kernel.invokeFunction(\n",
       "            'suggestCharts', [key], {});\n",
       "      } catch (error) {\n",
       "        console.error('Error during call to suggestCharts:', error);\n",
       "      }\n",
       "      quickchartButtonEl.classList.remove('colab-df-spinner');\n",
       "      quickchartButtonEl.classList.add('colab-df-quickchart-complete');\n",
       "    }\n",
       "    (() => {\n",
       "      let quickchartButtonEl =\n",
       "        document.querySelector('#df-714b9fbb-deda-456a-ac22-b5846603e57b button');\n",
       "      quickchartButtonEl.style.display =\n",
       "        google.colab.kernel.accessAllowed ? 'block' : 'none';\n",
       "    })();\n",
       "  </script>\n",
       "</div>\n",
       "    </div>\n",
       "  </div>\n"
      ],
      "text/plain": [
       "          rank   puntos  gan_loc  emp_loc  per_loc  gan_vis  emp_vis  per_vis  \\\n",
       "count  404.000  404.000  404.000  404.000  404.000  404.000  404.000  404.000   \n",
       "mean     7.537    1.469    0.494    0.056    0.449    0.449    0.057    0.494   \n",
       "std      4.134    0.855    0.307    0.090    0.307    0.308    0.094    0.314   \n",
       "min      1.000    0.000    0.000    0.000    0.000    0.000    0.000    0.000   \n",
       "25%      4.000    0.773    0.286    0.000    0.167    0.143    0.000    0.286   \n",
       "50%      7.000    1.467    0.500    0.000    0.429    0.429    0.000    0.500   \n",
       "75%     11.000    2.200    0.750    0.143    0.714    0.714    0.143    0.714   \n",
       "max     16.000    3.000    1.000    0.429    1.000    1.000    0.500    1.000   \n",
       "\n",
       "       gol_fav  gol_con  dif_gol  \n",
       "count  404.000  404.000  404.000  \n",
       "mean     4.158    4.157    0.001  \n",
       "std      2.181    2.186    4.128  \n",
       "min      0.467    0.214   -9.000  \n",
       "25%      2.396    2.500   -2.950  \n",
       "50%      3.810    3.857    0.033  \n",
       "75%      5.600    5.649    2.801  \n",
       "max     10.071    9.714    9.500  "
      ]
     },
     "execution_count": 8,
     "metadata": {},
     "output_type": "execute_result"
    }
   ],
   "source": [
    "equipos.drop(['nombre','grupo'], axis = 1).describe().round(3)"
   ]
  },
  {
   "cell_type": "markdown",
   "metadata": {
    "id": "KzAhzV-85zC2"
   },
   "source": [
    "---------------------------------------------------------------------"
   ]
  },
  {
   "cell_type": "markdown",
   "metadata": {
    "id": "stnnVLaTwRIt"
   },
   "source": [
    "- En media se gana algo más como local que como visitante (49% - 45%).\n",
    "- Se empatan apenas el 1% de los partidos.\n",
    "- Se marcan 4 goles por partido y equipo, con un ligero sesgo positivo.\n",
    "\n",
    "Interpretación:\n",
    "\n",
    "- Victoria = 3 puntos, empate = 1 punto.\n",
    "- Longitud del campo: 50 - 65 m. 7 jugadores por equipo.\n",
    "- Duración de un partido: 60' (4 x 15')."
   ]
  },
  {
   "cell_type": "code",
   "execution_count": 9,
   "metadata": {
    "id": "uoDlJsjcDQ8w"
   },
   "outputs": [],
   "source": [
    "import seaborn as sns\n",
    "import matplotlib.pyplot as plt\n",
    "import numpy as np"
   ]
  },
  {
   "cell_type": "code",
   "execution_count": 10,
   "metadata": {
    "id": "4Kkp4VGpKR8v"
   },
   "outputs": [],
   "source": [
    "equipos_loc = equipos[['gan_loc', 'per_loc']]"
   ]
  },
  {
   "cell_type": "code",
   "execution_count": 11,
   "metadata": {
    "colab": {
     "base_uri": "https://localhost:8080/",
     "height": 159
    },
    "id": "glBv_Qz0Koeq",
    "outputId": "f00de88d-0700-4728-ce06-c31bb1ce1f17"
   },
   "outputs": [
    {
     "data": {
      "image/png": "[encoded data removed]",
      "text/plain": [
       "<Figure size 2800x400 with 2 Axes>"
      ]
     },
     "metadata": {},
     "output_type": "display_data"
    }
   ],
   "source": [
    "from matplotlib.ticker import PercentFormatter\n",
    "\n",
    "plt.rcParams['font.family'] = 'monospace'\n",
    "\n",
    "fig, axes = plt.subplots(1, 2, figsize=(28, 4))\n",
    "axes = axes.flatten()\n",
    "titulos = ['Ganados', 'Perdidos']\n",
    "\n",
    "i = 0\n",
    "\n",
    "for v in equipos_loc.describe():\n",
    "  sns.kdeplot(equipos_loc[v], ax=axes[i], linewidth=3, color='darkred')\n",
    "  axes[i].set_title(titulos[i % len(titulos)], fontsize=24, pad=20)\n",
    "  axes[i].set_xlabel('', fontsize=20)\n",
    "  axes[i].set_ylabel('')\n",
    "  axes[i].set_yticks([])\n",
    "  axes[i].xaxis.set_major_formatter(PercentFormatter(1))\n",
    "  axes[i].tick_params(axis='x', labelsize=20, pad=15)\n",
    "  axes[i].set_xlim(0, 1)\n",
    "  i +=1"
   ]
  },
  {
   "cell_type": "markdown",
   "metadata": {
    "id": "RQk0T5uS8vwv"
   },
   "source": [
    "Densidad para porcentaje de victorias y derrotas."
   ]
  },
  {
   "cell_type": "code",
   "execution_count": 12,
   "metadata": {
    "id": "COTo8OhtGrAV"
   },
   "outputs": [],
   "source": [
    "equipos_gol = equipos[['gol_fav', 'gol_con']]"
   ]
  },
  {
   "cell_type": "code",
   "execution_count": 13,
   "metadata": {
    "colab": {
     "base_uri": "https://localhost:8080/",
     "height": 160
    },
    "id": "lzTEh9CDGrAV",
    "outputId": "ea7e0abf-ab37-407c-997c-373c2cf3be5b"
   },
   "outputs": [
    {
     "data": {
      "image/png": "[encoded data removed]",
      "text/plain": [
       "<Figure size 2800x400 with 2 Axes>"
      ]
     },
     "metadata": {},
     "output_type": "display_data"
    }
   ],
   "source": [
    "plt.rcParams['font.family'] = 'monospace'\n",
    "\n",
    "fig, axes = plt.subplots(1, 2, figsize=(28, 4))\n",
    "axes = axes.flatten()\n",
    "titulos = ['Goles a favor', 'Goles en contra']\n",
    "\n",
    "i = 0\n",
    "\n",
    "for e in equipos_gol.describe():\n",
    "  sns.kdeplot(equipos_gol[e], ax=axes[i], linewidth=3, color='darkred')\n",
    "  axes[i].set_title(titulos[i % len(titulos)], fontsize=24, pad=20)\n",
    "  axes[i].set_xlabel('', fontsize=20)\n",
    "  axes[i].set_ylabel('')\n",
    "  axes[i].set_yticks([])\n",
    "  axes[i].tick_params(axis='x', labelsize=20, pad=15)\n",
    "  axes[i].set_xlim(0, 12)\n",
    "  i +=1"
   ]
  },
  {
   "cell_type": "markdown",
   "metadata": {
    "id": "hILXiciZH6le"
   },
   "source": [
    "Densidad de goles a favor y en contra. Sesgo positivo.\n",
    "\n",
    "Interpretación:\n",
    "\n",
    "- Límite en diferencia de 10 goles (FCF)."
   ]
  },
  {
   "cell_type": "markdown",
   "metadata": {
    "id": "gsOnpI7S0-i8"
   },
   "source": [
    "Mejores equipos de la competición:"
   ]
  },
  {
   "cell_type": "code",
   "execution_count": 14,
   "metadata": {
    "colab": {
     "base_uri": "https://localhost:8080/",
     "height": 688
    },
    "id": "Hj9B4L73yR8S",
    "outputId": "1ea86ca5-4bf7-4961-d940-e952ef162a24"
   },
   "outputs": [
    {
     "data": {
      "application/vnd.google.colaboratory.intrinsic+json": {
       "summary": "{\n  \"name\": \"equipos_top\",\n  \"rows\": 12,\n  \"fields\": [\n    {\n      \"column\": \"grupo\",\n      \"properties\": {\n        \"dtype\": \"number\",\n        \"std\": 6,\n        \"min\": 8,\n        \"max\": 28,\n        \"num_unique_values\": 12,\n        \"samples\": [\n          27,\n          25,\n          8\n        ],\n        \"semantic_type\": \"\",\n        \"description\": \"\"\n      }\n    },\n    {\n      \"column\": \"rank\",\n      \"properties\": {\n        \"dtype\": \"number\",\n        \"std\": 0,\n        \"min\": 1,\n        \"max\": 1,\n        \"num_unique_values\": 1,\n        \"samples\": [\n          1\n        ],\n        \"semantic_type\": \"\",\n        \"description\": \"\"\n      }\n    },\n    {\n      \"column\": \"nombre\",\n      \"properties\": {\n        \"dtype\": \"string\",\n        \"num_unique_values\": 12,\n        \"samples\": [\n          \"TORELLO, C.F. B\"\n        ],\n        \"semantic_type\": \"\",\n        \"description\": \"\"\n      }\n    },\n    {\n      \"column\": \"puntos\",\n      \"properties\": {\n        \"dtype\": \"number\",\n        \"std\": 0.0,\n        \"min\": 3.0,\n        \"max\": 3.0,\n        \"num_unique_values\": 1,\n        \"samples\": [\n          3.0\n        ],\n        \"semantic_type\": \"\",\n        \"description\": \"\"\n      }\n    },\n    {\n      \"column\": \"gan_loc\",\n      \"properties\": {\n        \"dtype\": \"number\",\n        \"std\": 0.0,\n        \"min\": 1.0,\n        \"max\": 1.0,\n        \"num_unique_values\": 1,\n        \"samples\": [\n          1.0\n        ],\n        \"semantic_type\": \"\",\n        \"description\": \"\"\n      }\n    },\n    {\n      \"column\": \"emp_loc\",\n      \"properties\": {\n        \"dtype\": \"number\",\n        \"std\": 0.0,\n        \"min\": 0.0,\n        \"max\": 0.0,\n        \"num_unique_values\": 1,\n        \"samples\": [\n          0.0\n        ],\n        \"semantic_type\": \"\",\n        \"description\": \"\"\n      }\n    },\n    {\n      \"column\": \"per_loc\",\n      \"properties\": {\n        \"dtype\": \"number\",\n        \"std\": 0.0,\n        \"min\": 0.0,\n        \"max\": 0.0,\n        \"num_unique_values\": 1,\n        \"samples\": [\n          0.0\n        ],\n        \"semantic_type\": \"\",\n        \"description\": \"\"\n      }\n    },\n    {\n      \"column\": \"gan_vis\",\n      \"properties\": {\n        \"dtype\": \"number\",\n        \"std\": 0.0,\n        \"min\": 1.0,\n        \"max\": 1.0,\n        \"num_unique_values\": 1,\n        \"samples\": [\n          1.0\n        ],\n        \"semantic_type\": \"\",\n        \"description\": \"\"\n      }\n    },\n    {\n      \"column\": \"emp_vis\",\n      \"properties\": {\n        \"dtype\": \"number\",\n        \"std\": 0.0,\n        \"min\": 0.0,\n        \"max\": 0.0,\n        \"num_unique_values\": 1,\n        \"samples\": [\n          0.0\n        ],\n        \"semantic_type\": \"\",\n        \"description\": \"\"\n      }\n    },\n    {\n      \"column\": \"per_vis\",\n      \"properties\": {\n        \"dtype\": \"number\",\n        \"std\": 0.0,\n        \"min\": 0.0,\n        \"max\": 0.0,\n        \"num_unique_values\": 1,\n        \"samples\": [\n          0.0\n        ],\n        \"semantic_type\": \"\",\n        \"description\": \"\"\n      }\n    },\n    {\n      \"column\": \"gol_fav\",\n      \"properties\": {\n        \"dtype\": \"number\",\n        \"std\": 1.0658283874597974,\n        \"min\": 7.08,\n        \"max\": 9.93,\n        \"num_unique_values\": 9,\n        \"samples\": [\n          7.08\n        ],\n        \"semantic_type\": \"\",\n        \"description\": \"\"\n      }\n    },\n    {\n      \"column\": \"gol_con\",\n      \"properties\": {\n        \"dtype\": \"number\",\n        \"std\": 0.295245147241571,\n        \"min\": 0.21,\n        \"max\": 1.21,\n        \"num_unique_values\": 11,\n        \"samples\": [\n          0.57\n        ],\n        \"semantic_type\": \"\",\n        \"description\": \"\"\n      }\n    },\n    {\n      \"column\": \"dif_gol\",\n      \"properties\": {\n        \"dtype\": \"number\",\n        \"std\": 1.2368275644738942,\n        \"min\": 6.21,\n        \"max\": 9.5,\n        \"num_unique_values\": 12,\n        \"samples\": [\n          6.21\n        ],\n        \"semantic_type\": \"\",\n        \"description\": \"\"\n      }\n    }\n  ]\n}",
       "type": "dataframe",
       "variable_name": "equipos_top"
      },
      "text/html": [
       "\n",
       "  <div id=\"df-6a93c16b-4817-4090-8a81-c9adf318f2cb\" class=\"colab-df-container\">\n",
       "    <div>\n",
       "<style scoped>\n",
       "    .dataframe tbody tr th:only-of-type {\n",
       "        vertical-align: middle;\n",
       "    }\n",
       "\n",
       "    .dataframe tbody tr th {\n",
       "        vertical-align: top;\n",
       "    }\n",
       "\n",
       "    .dataframe thead th {\n",
       "        text-align: right;\n",
       "    }\n",
       "</style>\n",
       "<table border=\"1\" class=\"dataframe\">\n",
       "  <thead>\n",
       "    <tr style=\"text-align: right;\">\n",
       "      <th></th>\n",
       "      <th>grupo</th>\n",
       "      <th>rank</th>\n",
       "      <th>nombre</th>\n",
       "      <th>puntos</th>\n",
       "      <th>gan_loc</th>\n",
       "      <th>emp_loc</th>\n",
       "      <th>per_loc</th>\n",
       "      <th>gan_vis</th>\n",
       "      <th>emp_vis</th>\n",
       "      <th>per_vis</th>\n",
       "      <th>gol_fav</th>\n",
       "      <th>gol_con</th>\n",
       "      <th>dif_gol</th>\n",
       "    </tr>\n",
       "  </thead>\n",
       "  <tbody>\n",
       "    <tr>\n",
       "      <th>103</th>\n",
       "      <td>8</td>\n",
       "      <td>1</td>\n",
       "      <td>SABADELL NORD,CF. A</td>\n",
       "      <td>3.0</td>\n",
       "      <td>1.0</td>\n",
       "      <td>0.0</td>\n",
       "      <td>0.0</td>\n",
       "      <td>1.0</td>\n",
       "      <td>0.0</td>\n",
       "      <td>0.0</td>\n",
       "      <td>7.53</td>\n",
       "      <td>1.13</td>\n",
       "      <td>6.40</td>\n",
       "    </tr>\n",
       "    <tr>\n",
       "      <th>117</th>\n",
       "      <td>9</td>\n",
       "      <td>1</td>\n",
       "      <td>SABADELLENCA, UE. B</td>\n",
       "      <td>3.0</td>\n",
       "      <td>1.0</td>\n",
       "      <td>0.0</td>\n",
       "      <td>0.0</td>\n",
       "      <td>1.0</td>\n",
       "      <td>0.0</td>\n",
       "      <td>0.0</td>\n",
       "      <td>9.93</td>\n",
       "      <td>0.71</td>\n",
       "      <td>9.21</td>\n",
       "    </tr>\n",
       "    <tr>\n",
       "      <th>170</th>\n",
       "      <td>13</td>\n",
       "      <td>1</td>\n",
       "      <td>LLIÇA DE VALL C.F. C</td>\n",
       "      <td>3.0</td>\n",
       "      <td>1.0</td>\n",
       "      <td>0.0</td>\n",
       "      <td>0.0</td>\n",
       "      <td>1.0</td>\n",
       "      <td>0.0</td>\n",
       "      <td>0.0</td>\n",
       "      <td>9.40</td>\n",
       "      <td>0.93</td>\n",
       "      <td>8.47</td>\n",
       "    </tr>\n",
       "    <tr>\n",
       "      <th>207</th>\n",
       "      <td>16</td>\n",
       "      <td>1</td>\n",
       "      <td>CALELLA, C.F. A</td>\n",
       "      <td>3.0</td>\n",
       "      <td>1.0</td>\n",
       "      <td>0.0</td>\n",
       "      <td>0.0</td>\n",
       "      <td>1.0</td>\n",
       "      <td>0.0</td>\n",
       "      <td>0.0</td>\n",
       "      <td>7.43</td>\n",
       "      <td>1.14</td>\n",
       "      <td>6.29</td>\n",
       "    </tr>\n",
       "    <tr>\n",
       "      <th>238</th>\n",
       "      <td>18</td>\n",
       "      <td>1</td>\n",
       "      <td>SINERA UNITED FUTBOL CLUB ASS. C</td>\n",
       "      <td>3.0</td>\n",
       "      <td>1.0</td>\n",
       "      <td>0.0</td>\n",
       "      <td>0.0</td>\n",
       "      <td>1.0</td>\n",
       "      <td>0.0</td>\n",
       "      <td>0.0</td>\n",
       "      <td>9.40</td>\n",
       "      <td>0.67</td>\n",
       "      <td>8.73</td>\n",
       "    </tr>\n",
       "    <tr>\n",
       "      <th>269</th>\n",
       "      <td>20</td>\n",
       "      <td>1</td>\n",
       "      <td>MOLINS DE REI, C.F. B</td>\n",
       "      <td>3.0</td>\n",
       "      <td>1.0</td>\n",
       "      <td>0.0</td>\n",
       "      <td>0.0</td>\n",
       "      <td>1.0</td>\n",
       "      <td>0.0</td>\n",
       "      <td>0.0</td>\n",
       "      <td>8.57</td>\n",
       "      <td>0.57</td>\n",
       "      <td>8.00</td>\n",
       "    </tr>\n",
       "    <tr>\n",
       "      <th>284</th>\n",
       "      <td>21</td>\n",
       "      <td>1</td>\n",
       "      <td>ALMEDA, C.D. A</td>\n",
       "      <td>3.0</td>\n",
       "      <td>1.0</td>\n",
       "      <td>0.0</td>\n",
       "      <td>0.0</td>\n",
       "      <td>1.0</td>\n",
       "      <td>0.0</td>\n",
       "      <td>0.0</td>\n",
       "      <td>9.71</td>\n",
       "      <td>0.21</td>\n",
       "      <td>9.50</td>\n",
       "    </tr>\n",
       "    <tr>\n",
       "      <th>314</th>\n",
       "      <td>23</td>\n",
       "      <td>1</td>\n",
       "      <td>COL.LEGI SAGRAT COR SARRIA AMPA A</td>\n",
       "      <td>3.0</td>\n",
       "      <td>1.0</td>\n",
       "      <td>0.0</td>\n",
       "      <td>0.0</td>\n",
       "      <td>1.0</td>\n",
       "      <td>0.0</td>\n",
       "      <td>0.0</td>\n",
       "      <td>9.31</td>\n",
       "      <td>1.08</td>\n",
       "      <td>8.23</td>\n",
       "    </tr>\n",
       "    <tr>\n",
       "      <th>328</th>\n",
       "      <td>24</td>\n",
       "      <td>1</td>\n",
       "      <td>ATENEU IGUALADI, S.E.F. A</td>\n",
       "      <td>3.0</td>\n",
       "      <td>1.0</td>\n",
       "      <td>0.0</td>\n",
       "      <td>0.0</td>\n",
       "      <td>1.0</td>\n",
       "      <td>0.0</td>\n",
       "      <td>0.0</td>\n",
       "      <td>8.57</td>\n",
       "      <td>1.07</td>\n",
       "      <td>7.50</td>\n",
       "    </tr>\n",
       "    <tr>\n",
       "      <th>339</th>\n",
       "      <td>25</td>\n",
       "      <td>1</td>\n",
       "      <td>LES CABANYES, F.C. A</td>\n",
       "      <td>3.0</td>\n",
       "      <td>1.0</td>\n",
       "      <td>0.0</td>\n",
       "      <td>0.0</td>\n",
       "      <td>1.0</td>\n",
       "      <td>0.0</td>\n",
       "      <td>0.0</td>\n",
       "      <td>7.08</td>\n",
       "      <td>0.85</td>\n",
       "      <td>6.23</td>\n",
       "    </tr>\n",
       "    <tr>\n",
       "      <th>362</th>\n",
       "      <td>27</td>\n",
       "      <td>1</td>\n",
       "      <td>TORELLO, C.F. B</td>\n",
       "      <td>3.0</td>\n",
       "      <td>1.0</td>\n",
       "      <td>0.0</td>\n",
       "      <td>0.0</td>\n",
       "      <td>1.0</td>\n",
       "      <td>0.0</td>\n",
       "      <td>0.0</td>\n",
       "      <td>7.43</td>\n",
       "      <td>1.21</td>\n",
       "      <td>6.21</td>\n",
       "    </tr>\n",
       "    <tr>\n",
       "      <th>375</th>\n",
       "      <td>28</td>\n",
       "      <td>1</td>\n",
       "      <td>CASTELLNOU UNIÓ ESPORTIVA CLUB FUTBOL A</td>\n",
       "      <td>3.0</td>\n",
       "      <td>1.0</td>\n",
       "      <td>0.0</td>\n",
       "      <td>0.0</td>\n",
       "      <td>1.0</td>\n",
       "      <td>0.0</td>\n",
       "      <td>0.0</td>\n",
       "      <td>7.29</td>\n",
       "      <td>0.71</td>\n",
       "      <td>6.57</td>\n",
       "    </tr>\n",
       "  </tbody>\n",
       "</table>\n",
       "</div>\n",
       "    <div class=\"colab-df-buttons\">\n",
       "\n",
       "  <div class=\"colab-df-container\">\n",
       "    <button class=\"colab-df-convert\" onclick=\"convertToInteractive('df-6a93c16b-4817-4090-8a81-c9adf318f2cb')\"\n",
       "            title=\"Convert this dataframe to an interactive table.\"\n",
       "            style=\"display:none;\">\n",
       "\n",
       "  <svg xmlns=\"http://www.w3.org/2000/svg\" height=\"24px\" viewBox=\"0 -960 960 960\">\n",
       "    <path d=\"M120-120v-720h720v720H120Zm60-500h600v-160H180v160Zm220 220h160v-160H400v160Zm0 220h160v-160H400v160ZM180-400h160v-160H180v160Zm440 0h160v-160H620v160ZM180-180h160v-160H180v160Zm440 0h160v-160H620v160Z\"/>\n",
       "  </svg>\n",
       "    </button>\n",
       "\n",
       "  <style>\n",
       "    .colab-df-container {\n",
       "      display:flex;\n",
       "      gap: 12px;\n",
       "    }\n",
       "\n",
       "    .colab-df-convert {\n",
       "      background-color: #E8F0FE;\n",
       "      border: none;\n",
       "      border-radius: 50%;\n",
       "      cursor: pointer;\n",
       "      display: none;\n",
       "      fill: #1967D2;\n",
       "      height: 32px;\n",
       "      padding: 0 0 0 0;\n",
       "      width: 32px;\n",
       "    }\n",
       "\n",
       "    .colab-df-convert:hover {\n",
       "      background-color: #E2EBFA;\n",
       "      box-shadow: 0px 1px 2px rgba(60, 64, 67, 0.3), 0px 1px 3px 1px rgba(60, 64, 67, 0.15);\n",
       "      fill: #174EA6;\n",
       "    }\n",
       "\n",
       "    .colab-df-buttons div {\n",
       "      margin-bottom: 4px;\n",
       "    }\n",
       "\n",
       "    [theme=dark] .colab-df-convert {\n",
       "      background-color: #3B4455;\n",
       "      fill: #D2E3FC;\n",
       "    }\n",
       "\n",
       "    [theme=dark] .colab-df-convert:hover {\n",
       "      background-color: #434B5C;\n",
       "      box-shadow: 0px 1px 3px 1px rgba(0, 0, 0, 0.15);\n",
       "      filter: drop-shadow(0px 1px 2px rgba(0, 0, 0, 0.3));\n",
       "      fill: #FFFFFF;\n",
       "    }\n",
       "  </style>\n",
       "\n",
       "    <script>\n",
       "      const buttonEl =\n",
       "        document.querySelector('#df-6a93c16b-4817-4090-8a81-c9adf318f2cb button.colab-df-convert');\n",
       "      buttonEl.style.display =\n",
       "        google.colab.kernel.accessAllowed ? 'block' : 'none';\n",
       "\n",
       "      async function convertToInteractive(key) {\n",
       "        const element = document.querySelector('#df-6a93c16b-4817-4090-8a81-c9adf318f2cb');\n",
       "        const dataTable =\n",
       "          await google.colab.kernel.invokeFunction('convertToInteractive',\n",
       "                                                    [key], {});\n",
       "        if (!dataTable) return;\n",
       "\n",
       "        const docLinkHtml = 'Like what you see? Visit the ' +\n",
       "          '<a target=\"_blank\" href=https://colab.research.google.com/notebooks/data_table.ipynb>data table notebook</a>'\n",
       "          + ' to learn more about interactive tables.';\n",
       "        element.innerHTML = '';\n",
       "        dataTable['output_type'] = 'display_data';\n",
       "        await google.colab.output.renderOutput(dataTable, element);\n",
       "        const docLink = document.createElement('div');\n",
       "        docLink.innerHTML = docLinkHtml;\n",
       "        element.appendChild(docLink);\n",
       "      }\n",
       "    </script>\n",
       "  </div>\n",
       "\n",
       "\n",
       "<div id=\"df-3815bbab-1259-4e16-83e7-f3731711e670\">\n",
       "  <button class=\"colab-df-quickchart\" onclick=\"quickchart('df-3815bbab-1259-4e16-83e7-f3731711e670')\"\n",
       "            title=\"Suggest charts\"\n",
       "            style=\"display:none;\">\n",
       "\n",
       "<svg xmlns=\"http://www.w3.org/2000/svg\" height=\"24px\"viewBox=\"0 0 24 24\"\n",
       "     width=\"24px\">\n",
       "    <g>\n",
       "        <path d=\"M19 3H5c-1.1 0-2 .9-2 2v14c0 1.1.9 2 2 2h14c1.1 0 2-.9 2-2V5c0-1.1-.9-2-2-2zM9 17H7v-7h2v7zm4 0h-2V7h2v10zm4 0h-2v-4h2v4z\"/>\n",
       "    </g>\n",
       "</svg>\n",
       "  </button>\n",
       "\n",
       "<style>\n",
       "  .colab-df-quickchart {\n",
       "      --bg-color: #E8F0FE;\n",
       "      --fill-color: #1967D2;\n",
       "      --hover-bg-color: #E2EBFA;\n",
       "      --hover-fill-color: #174EA6;\n",
       "      --disabled-fill-color: #AAA;\n",
       "      --disabled-bg-color: #DDD;\n",
       "  }\n",
       "\n",
       "  [theme=dark] .colab-df-quickchart {\n",
       "      --bg-color: #3B4455;\n",
       "      --fill-color: #D2E3FC;\n",
       "      --hover-bg-color: #434B5C;\n",
       "      --hover-fill-color: #FFFFFF;\n",
       "      --disabled-bg-color: #3B4455;\n",
       "      --disabled-fill-color: #666;\n",
       "  }\n",
       "\n",
       "  .colab-df-quickchart {\n",
       "    background-color: var(--bg-color);\n",
       "    border: none;\n",
       "    border-radius: 50%;\n",
       "    cursor: pointer;\n",
       "    display: none;\n",
       "    fill: var(--fill-color);\n",
       "    height: 32px;\n",
       "    padding: 0;\n",
       "    width: 32px;\n",
       "  }\n",
       "\n",
       "  .colab-df-quickchart:hover {\n",
       "    background-color: var(--hover-bg-color);\n",
       "    box-shadow: 0 1px 2px rgba(60, 64, 67, 0.3), 0 1px 3px 1px rgba(60, 64, 67, 0.15);\n",
       "    fill: var(--button-hover-fill-color);\n",
       "  }\n",
       "\n",
       "  .colab-df-quickchart-complete:disabled,\n",
       "  .colab-df-quickchart-complete:disabled:hover {\n",
       "    background-color: var(--disabled-bg-color);\n",
       "    fill: var(--disabled-fill-color);\n",
       "    box-shadow: none;\n",
       "  }\n",
       "\n",
       "  .colab-df-spinner {\n",
       "    border: 2px solid var(--fill-color);\n",
       "    border-color: transparent;\n",
       "    border-bottom-color: var(--fill-color);\n",
       "    animation:\n",
       "      spin 1s steps(1) infinite;\n",
       "  }\n",
       "\n",
       "  @keyframes spin {\n",
       "    0% {\n",
       "      border-color: transparent;\n",
       "      border-bottom-color: var(--fill-color);\n",
       "      border-left-color: var(--fill-color);\n",
       "    }\n",
       "    20% {\n",
       "      border-color: transparent;\n",
       "      border-left-color: var(--fill-color);\n",
       "      border-top-color: var(--fill-color);\n",
       "    }\n",
       "    30% {\n",
       "      border-color: transparent;\n",
       "      border-left-color: var(--fill-color);\n",
       "      border-top-color: var(--fill-color);\n",
       "      border-right-color: var(--fill-color);\n",
       "    }\n",
       "    40% {\n",
       "      border-color: transparent;\n",
       "      border-right-color: var(--fill-color);\n",
       "      border-top-color: var(--fill-color);\n",
       "    }\n",
       "    60% {\n",
       "      border-color: transparent;\n",
       "      border-right-color: var(--fill-color);\n",
       "    }\n",
       "    80% {\n",
       "      border-color: transparent;\n",
       "      border-right-color: var(--fill-color);\n",
       "      border-bottom-color: var(--fill-color);\n",
       "    }\n",
       "    90% {\n",
       "      border-color: transparent;\n",
       "      border-bottom-color: var(--fill-color);\n",
       "    }\n",
       "  }\n",
       "</style>\n",
       "\n",
       "  <script>\n",
       "    async function quickchart(key) {\n",
       "      const quickchartButtonEl =\n",
       "        document.querySelector('#' + key + ' button');\n",
       "      quickchartButtonEl.disabled = true;  // To prevent multiple clicks.\n",
       "      quickchartButtonEl.classList.add('colab-df-spinner');\n",
       "      try {\n",
       "        const charts = await google.colab.kernel.invokeFunction(\n",
       "            'suggestCharts', [key], {});\n",
       "      } catch (error) {\n",
       "        console.error('Error during call to suggestCharts:', error);\n",
       "      }\n",
       "      quickchartButtonEl.classList.remove('colab-df-spinner');\n",
       "      quickchartButtonEl.classList.add('colab-df-quickchart-complete');\n",
       "    }\n",
       "    (() => {\n",
       "      let quickchartButtonEl =\n",
       "        document.querySelector('#df-3815bbab-1259-4e16-83e7-f3731711e670 button');\n",
       "      quickchartButtonEl.style.display =\n",
       "        google.colab.kernel.accessAllowed ? 'block' : 'none';\n",
       "    })();\n",
       "  </script>\n",
       "</div>\n",
       "    </div>\n",
       "  </div>\n"
      ],
      "text/plain": [
       "     grupo  rank                                   nombre  puntos  gan_loc  \\\n",
       "103      8     1                      SABADELL NORD,CF. A     3.0      1.0   \n",
       "117      9     1                      SABADELLENCA, UE. B     3.0      1.0   \n",
       "170     13     1                     LLIÇA DE VALL C.F. C     3.0      1.0   \n",
       "207     16     1                          CALELLA, C.F. A     3.0      1.0   \n",
       "238     18     1         SINERA UNITED FUTBOL CLUB ASS. C     3.0      1.0   \n",
       "269     20     1                    MOLINS DE REI, C.F. B     3.0      1.0   \n",
       "284     21     1                           ALMEDA, C.D. A     3.0      1.0   \n",
       "314     23     1        COL.LEGI SAGRAT COR SARRIA AMPA A     3.0      1.0   \n",
       "328     24     1                ATENEU IGUALADI, S.E.F. A     3.0      1.0   \n",
       "339     25     1                     LES CABANYES, F.C. A     3.0      1.0   \n",
       "362     27     1                          TORELLO, C.F. B     3.0      1.0   \n",
       "375     28     1  CASTELLNOU UNIÓ ESPORTIVA CLUB FUTBOL A     3.0      1.0   \n",
       "\n",
       "     emp_loc  per_loc  gan_vis  emp_vis  per_vis  gol_fav  gol_con  dif_gol  \n",
       "103      0.0      0.0      1.0      0.0      0.0     7.53     1.13     6.40  \n",
       "117      0.0      0.0      1.0      0.0      0.0     9.93     0.71     9.21  \n",
       "170      0.0      0.0      1.0      0.0      0.0     9.40     0.93     8.47  \n",
       "207      0.0      0.0      1.0      0.0      0.0     7.43     1.14     6.29  \n",
       "238      0.0      0.0      1.0      0.0      0.0     9.40     0.67     8.73  \n",
       "269      0.0      0.0      1.0      0.0      0.0     8.57     0.57     8.00  \n",
       "284      0.0      0.0      1.0      0.0      0.0     9.71     0.21     9.50  \n",
       "314      0.0      0.0      1.0      0.0      0.0     9.31     1.08     8.23  \n",
       "328      0.0      0.0      1.0      0.0      0.0     8.57     1.07     7.50  \n",
       "339      0.0      0.0      1.0      0.0      0.0     7.08     0.85     6.23  \n",
       "362      0.0      0.0      1.0      0.0      0.0     7.43     1.21     6.21  \n",
       "375      0.0      0.0      1.0      0.0      0.0     7.29     0.71     6.57  "
      ]
     },
     "execution_count": 14,
     "metadata": {},
     "output_type": "execute_result"
    }
   ],
   "source": [
    "max_punt = equipos['puntos'].max()\n",
    "equipos_top = equipos[equipos['puntos'] == max_punt].round(2)\n",
    "equipos_top"
   ]
  },
  {
   "cell_type": "markdown",
   "metadata": {
    "id": "dyHTjBiD1HJJ"
   },
   "source": [
    "12 equipos con 3 puntos por partido."
   ]
  },
  {
   "cell_type": "code",
   "execution_count": 15,
   "metadata": {
    "colab": {
     "base_uri": "https://localhost:8080/",
     "height": 153
    },
    "id": "xrPi-Ojp9f7G",
    "outputId": "6337009f-c46f-44b2-c8b8-c12045c5ee6e"
   },
   "outputs": [
    {
     "data": {
      "application/vnd.google.colaboratory.intrinsic+json": {
       "summary": "{\n  \"name\": \"equipos[equipos['gol_fav'] == equipos['gol_fav']\",\n  \"rows\": 1,\n  \"fields\": [\n    {\n      \"column\": \"grupo\",\n      \"properties\": {\n        \"dtype\": \"number\",\n        \"std\": null,\n        \"min\": 7,\n        \"max\": 7,\n        \"num_unique_values\": 1,\n        \"samples\": [\n          7\n        ],\n        \"semantic_type\": \"\",\n        \"description\": \"\"\n      }\n    },\n    {\n      \"column\": \"rank\",\n      \"properties\": {\n        \"dtype\": \"number\",\n        \"std\": null,\n        \"min\": 1,\n        \"max\": 1,\n        \"num_unique_values\": 1,\n        \"samples\": [\n          1\n        ],\n        \"semantic_type\": \"\",\n        \"description\": \"\"\n      }\n    },\n    {\n      \"column\": \"nombre\",\n      \"properties\": {\n        \"dtype\": \"string\",\n        \"num_unique_values\": 1,\n        \"samples\": [\n          \"ARISTOI FOOTBALL ACADEMY A\"\n        ],\n        \"semantic_type\": \"\",\n        \"description\": \"\"\n      }\n    },\n    {\n      \"column\": \"puntos\",\n      \"properties\": {\n        \"dtype\": \"number\",\n        \"std\": null,\n        \"min\": 2.79,\n        \"max\": 2.79,\n        \"num_unique_values\": 1,\n        \"samples\": [\n          2.79\n        ],\n        \"semantic_type\": \"\",\n        \"description\": \"\"\n      }\n    },\n    {\n      \"column\": \"gan_loc\",\n      \"properties\": {\n        \"dtype\": \"number\",\n        \"std\": null,\n        \"min\": 1.0,\n        \"max\": 1.0,\n        \"num_unique_values\": 1,\n        \"samples\": [\n          1.0\n        ],\n        \"semantic_type\": \"\",\n        \"description\": \"\"\n      }\n    },\n    {\n      \"column\": \"emp_loc\",\n      \"properties\": {\n        \"dtype\": \"number\",\n        \"std\": null,\n        \"min\": 0.0,\n        \"max\": 0.0,\n        \"num_unique_values\": 1,\n        \"samples\": [\n          0.0\n        ],\n        \"semantic_type\": \"\",\n        \"description\": \"\"\n      }\n    },\n    {\n      \"column\": \"per_loc\",\n      \"properties\": {\n        \"dtype\": \"number\",\n        \"std\": null,\n        \"min\": 0.0,\n        \"max\": 0.0,\n        \"num_unique_values\": 1,\n        \"samples\": [\n          0.0\n        ],\n        \"semantic_type\": \"\",\n        \"description\": \"\"\n      }\n    },\n    {\n      \"column\": \"gan_vis\",\n      \"properties\": {\n        \"dtype\": \"number\",\n        \"std\": null,\n        \"min\": 0.86,\n        \"max\": 0.86,\n        \"num_unique_values\": 1,\n        \"samples\": [\n          0.86\n        ],\n        \"semantic_type\": \"\",\n        \"description\": \"\"\n      }\n    },\n    {\n      \"column\": \"emp_vis\",\n      \"properties\": {\n        \"dtype\": \"number\",\n        \"std\": null,\n        \"min\": 0.0,\n        \"max\": 0.0,\n        \"num_unique_values\": 1,\n        \"samples\": [\n          0.0\n        ],\n        \"semantic_type\": \"\",\n        \"description\": \"\"\n      }\n    },\n    {\n      \"column\": \"per_vis\",\n      \"properties\": {\n        \"dtype\": \"number\",\n        \"std\": null,\n        \"min\": 0.14,\n        \"max\": 0.14,\n        \"num_unique_values\": 1,\n        \"samples\": [\n          0.14\n        ],\n        \"semantic_type\": \"\",\n        \"description\": \"\"\n      }\n    },\n    {\n      \"column\": \"gol_fav\",\n      \"properties\": {\n        \"dtype\": \"number\",\n        \"std\": null,\n        \"min\": 10.07,\n        \"max\": 10.07,\n        \"num_unique_values\": 1,\n        \"samples\": [\n          10.07\n        ],\n        \"semantic_type\": \"\",\n        \"description\": \"\"\n      }\n    },\n    {\n      \"column\": \"gol_con\",\n      \"properties\": {\n        \"dtype\": \"number\",\n        \"std\": null,\n        \"min\": 3.0,\n        \"max\": 3.0,\n        \"num_unique_values\": 1,\n        \"samples\": [\n          3.0\n        ],\n        \"semantic_type\": \"\",\n        \"description\": \"\"\n      }\n    },\n    {\n      \"column\": \"dif_gol\",\n      \"properties\": {\n        \"dtype\": \"number\",\n        \"std\": null,\n        \"min\": 7.07,\n        \"max\": 7.07,\n        \"num_unique_values\": 1,\n        \"samples\": [\n          7.07\n        ],\n        \"semantic_type\": \"\",\n        \"description\": \"\"\n      }\n    }\n  ]\n}",
       "type": "dataframe"
      },
      "text/html": [
       "\n",
       "  <div id=\"df-73182926-667a-44d0-8dd6-a7de5ff9b95d\" class=\"colab-df-container\">\n",
       "    <div>\n",
       "<style scoped>\n",
       "    .dataframe tbody tr th:only-of-type {\n",
       "        vertical-align: middle;\n",
       "    }\n",
       "\n",
       "    .dataframe tbody tr th {\n",
       "        vertical-align: top;\n",
       "    }\n",
       "\n",
       "    .dataframe thead th {\n",
       "        text-align: right;\n",
       "    }\n",
       "</style>\n",
       "<table border=\"1\" class=\"dataframe\">\n",
       "  <thead>\n",
       "    <tr style=\"text-align: right;\">\n",
       "      <th></th>\n",
       "      <th>grupo</th>\n",
       "      <th>rank</th>\n",
       "      <th>nombre</th>\n",
       "      <th>puntos</th>\n",
       "      <th>gan_loc</th>\n",
       "      <th>emp_loc</th>\n",
       "      <th>per_loc</th>\n",
       "      <th>gan_vis</th>\n",
       "      <th>emp_vis</th>\n",
       "      <th>per_vis</th>\n",
       "      <th>gol_fav</th>\n",
       "      <th>gol_con</th>\n",
       "      <th>dif_gol</th>\n",
       "    </tr>\n",
       "  </thead>\n",
       "  <tbody>\n",
       "    <tr>\n",
       "      <th>90</th>\n",
       "      <td>7</td>\n",
       "      <td>1</td>\n",
       "      <td>ARISTOI FOOTBALL ACADEMY A</td>\n",
       "      <td>2.79</td>\n",
       "      <td>1.0</td>\n",
       "      <td>0.0</td>\n",
       "      <td>0.0</td>\n",
       "      <td>0.86</td>\n",
       "      <td>0.0</td>\n",
       "      <td>0.14</td>\n",
       "      <td>10.07</td>\n",
       "      <td>3.0</td>\n",
       "      <td>7.07</td>\n",
       "    </tr>\n",
       "  </tbody>\n",
       "</table>\n",
       "</div>\n",
       "    <div class=\"colab-df-buttons\">\n",
       "\n",
       "  <div class=\"colab-df-container\">\n",
       "    <button class=\"colab-df-convert\" onclick=\"convertToInteractive('df-73182926-667a-44d0-8dd6-a7de5ff9b95d')\"\n",
       "            title=\"Convert this dataframe to an interactive table.\"\n",
       "            style=\"display:none;\">\n",
       "\n",
       "  <svg xmlns=\"http://www.w3.org/2000/svg\" height=\"24px\" viewBox=\"0 -960 960 960\">\n",
       "    <path d=\"M120-120v-720h720v720H120Zm60-500h600v-160H180v160Zm220 220h160v-160H400v160Zm0 220h160v-160H400v160ZM180-400h160v-160H180v160Zm440 0h160v-160H620v160ZM180-180h160v-160H180v160Zm440 0h160v-160H620v160Z\"/>\n",
       "  </svg>\n",
       "    </button>\n",
       "\n",
       "  <style>\n",
       "    .colab-df-container {\n",
       "      display:flex;\n",
       "      gap: 12px;\n",
       "    }\n",
       "\n",
       "    .colab-df-convert {\n",
       "      background-color: #E8F0FE;\n",
       "      border: none;\n",
       "      border-radius: 50%;\n",
       "      cursor: pointer;\n",
       "      display: none;\n",
       "      fill: #1967D2;\n",
       "      height: 32px;\n",
       "      padding: 0 0 0 0;\n",
       "      width: 32px;\n",
       "    }\n",
       "\n",
       "    .colab-df-convert:hover {\n",
       "      background-color: #E2EBFA;\n",
       "      box-shadow: 0px 1px 2px rgba(60, 64, 67, 0.3), 0px 1px 3px 1px rgba(60, 64, 67, 0.15);\n",
       "      fill: #174EA6;\n",
       "    }\n",
       "\n",
       "    .colab-df-buttons div {\n",
       "      margin-bottom: 4px;\n",
       "    }\n",
       "\n",
       "    [theme=dark] .colab-df-convert {\n",
       "      background-color: #3B4455;\n",
       "      fill: #D2E3FC;\n",
       "    }\n",
       "\n",
       "    [theme=dark] .colab-df-convert:hover {\n",
       "      background-color: #434B5C;\n",
       "      box-shadow: 0px 1px 3px 1px rgba(0, 0, 0, 0.15);\n",
       "      filter: drop-shadow(0px 1px 2px rgba(0, 0, 0, 0.3));\n",
       "      fill: #FFFFFF;\n",
       "    }\n",
       "  </style>\n",
       "\n",
       "    <script>\n",
       "      const buttonEl =\n",
       "        document.querySelector('#df-73182926-667a-44d0-8dd6-a7de5ff9b95d button.colab-df-convert');\n",
       "      buttonEl.style.display =\n",
       "        google.colab.kernel.accessAllowed ? 'block' : 'none';\n",
       "\n",
       "      async function convertToInteractive(key) {\n",
       "        const element = document.querySelector('#df-73182926-667a-44d0-8dd6-a7de5ff9b95d');\n",
       "        const dataTable =\n",
       "          await google.colab.kernel.invokeFunction('convertToInteractive',\n",
       "                                                    [key], {});\n",
       "        if (!dataTable) return;\n",
       "\n",
       "        const docLinkHtml = 'Like what you see? Visit the ' +\n",
       "          '<a target=\"_blank\" href=https://colab.research.google.com/notebooks/data_table.ipynb>data table notebook</a>'\n",
       "          + ' to learn more about interactive tables.';\n",
       "        element.innerHTML = '';\n",
       "        dataTable['output_type'] = 'display_data';\n",
       "        await google.colab.output.renderOutput(dataTable, element);\n",
       "        const docLink = document.createElement('div');\n",
       "        docLink.innerHTML = docLinkHtml;\n",
       "        element.appendChild(docLink);\n",
       "      }\n",
       "    </script>\n",
       "  </div>\n",
       "\n",
       "    </div>\n",
       "  </div>\n"
      ],
      "text/plain": [
       "    grupo  rank                      nombre  puntos  gan_loc  emp_loc  \\\n",
       "90      7     1  ARISTOI FOOTBALL ACADEMY A    2.79      1.0      0.0   \n",
       "\n",
       "    per_loc  gan_vis  emp_vis  per_vis  gol_fav  gol_con  dif_gol  \n",
       "90      0.0     0.86      0.0     0.14    10.07      3.0     7.07  "
      ]
     },
     "execution_count": 15,
     "metadata": {},
     "output_type": "execute_result"
    }
   ],
   "source": [
    "equipos[equipos['gol_fav'] == equipos['gol_fav'].max()].round(2)"
   ]
  },
  {
   "cell_type": "markdown",
   "metadata": {
    "id": "F5w5HErvBMVU"
   },
   "source": [
    "ARISTOI FOOTBALL ACADEMY A, máximo registro de goles por partido, 10.07."
   ]
  },
  {
   "cell_type": "code",
   "execution_count": 16,
   "metadata": {
    "colab": {
     "base_uri": "https://localhost:8080/",
     "height": 118
    },
    "id": "57_CkRMWB-RR",
    "outputId": "9fe0caef-b2cf-4862-b927-ddf1ec7737bf"
   },
   "outputs": [
    {
     "data": {
      "application/vnd.google.colaboratory.intrinsic+json": {
       "summary": "{\n  \"name\": \"equipos[equipos['gol_con'] == equipos['gol_con']\",\n  \"rows\": 1,\n  \"fields\": [\n    {\n      \"column\": \"grupo\",\n      \"properties\": {\n        \"dtype\": \"number\",\n        \"std\": null,\n        \"min\": 21,\n        \"max\": 21,\n        \"num_unique_values\": 1,\n        \"samples\": [\n          21\n        ],\n        \"semantic_type\": \"\",\n        \"description\": \"\"\n      }\n    },\n    {\n      \"column\": \"rank\",\n      \"properties\": {\n        \"dtype\": \"number\",\n        \"std\": null,\n        \"min\": 1,\n        \"max\": 1,\n        \"num_unique_values\": 1,\n        \"samples\": [\n          1\n        ],\n        \"semantic_type\": \"\",\n        \"description\": \"\"\n      }\n    },\n    {\n      \"column\": \"nombre\",\n      \"properties\": {\n        \"dtype\": \"string\",\n        \"num_unique_values\": 1,\n        \"samples\": [\n          \"ALMEDA, C.D. A\"\n        ],\n        \"semantic_type\": \"\",\n        \"description\": \"\"\n      }\n    },\n    {\n      \"column\": \"puntos\",\n      \"properties\": {\n        \"dtype\": \"number\",\n        \"std\": null,\n        \"min\": 3.0,\n        \"max\": 3.0,\n        \"num_unique_values\": 1,\n        \"samples\": [\n          3.0\n        ],\n        \"semantic_type\": \"\",\n        \"description\": \"\"\n      }\n    },\n    {\n      \"column\": \"gan_loc\",\n      \"properties\": {\n        \"dtype\": \"number\",\n        \"std\": null,\n        \"min\": 1.0,\n        \"max\": 1.0,\n        \"num_unique_values\": 1,\n        \"samples\": [\n          1.0\n        ],\n        \"semantic_type\": \"\",\n        \"description\": \"\"\n      }\n    },\n    {\n      \"column\": \"emp_loc\",\n      \"properties\": {\n        \"dtype\": \"number\",\n        \"std\": null,\n        \"min\": 0.0,\n        \"max\": 0.0,\n        \"num_unique_values\": 1,\n        \"samples\": [\n          0.0\n        ],\n        \"semantic_type\": \"\",\n        \"description\": \"\"\n      }\n    },\n    {\n      \"column\": \"per_loc\",\n      \"properties\": {\n        \"dtype\": \"number\",\n        \"std\": null,\n        \"min\": 0.0,\n        \"max\": 0.0,\n        \"num_unique_values\": 1,\n        \"samples\": [\n          0.0\n        ],\n        \"semantic_type\": \"\",\n        \"description\": \"\"\n      }\n    },\n    {\n      \"column\": \"gan_vis\",\n      \"properties\": {\n        \"dtype\": \"number\",\n        \"std\": null,\n        \"min\": 1.0,\n        \"max\": 1.0,\n        \"num_unique_values\": 1,\n        \"samples\": [\n          1.0\n        ],\n        \"semantic_type\": \"\",\n        \"description\": \"\"\n      }\n    },\n    {\n      \"column\": \"emp_vis\",\n      \"properties\": {\n        \"dtype\": \"number\",\n        \"std\": null,\n        \"min\": 0.0,\n        \"max\": 0.0,\n        \"num_unique_values\": 1,\n        \"samples\": [\n          0.0\n        ],\n        \"semantic_type\": \"\",\n        \"description\": \"\"\n      }\n    },\n    {\n      \"column\": \"per_vis\",\n      \"properties\": {\n        \"dtype\": \"number\",\n        \"std\": null,\n        \"min\": 0.0,\n        \"max\": 0.0,\n        \"num_unique_values\": 1,\n        \"samples\": [\n          0.0\n        ],\n        \"semantic_type\": \"\",\n        \"description\": \"\"\n      }\n    },\n    {\n      \"column\": \"gol_fav\",\n      \"properties\": {\n        \"dtype\": \"number\",\n        \"std\": null,\n        \"min\": 9.71,\n        \"max\": 9.71,\n        \"num_unique_values\": 1,\n        \"samples\": [\n          9.71\n        ],\n        \"semantic_type\": \"\",\n        \"description\": \"\"\n      }\n    },\n    {\n      \"column\": \"gol_con\",\n      \"properties\": {\n        \"dtype\": \"number\",\n        \"std\": null,\n        \"min\": 0.21,\n        \"max\": 0.21,\n        \"num_unique_values\": 1,\n        \"samples\": [\n          0.21\n        ],\n        \"semantic_type\": \"\",\n        \"description\": \"\"\n      }\n    },\n    {\n      \"column\": \"dif_gol\",\n      \"properties\": {\n        \"dtype\": \"number\",\n        \"std\": null,\n        \"min\": 9.5,\n        \"max\": 9.5,\n        \"num_unique_values\": 1,\n        \"samples\": [\n          9.5\n        ],\n        \"semantic_type\": \"\",\n        \"description\": \"\"\n      }\n    }\n  ]\n}",
       "type": "dataframe"
      },
      "text/html": [
       "\n",
       "  <div id=\"df-baef6e9f-8492-4dcc-8e8a-ab31c5132950\" class=\"colab-df-container\">\n",
       "    <div>\n",
       "<style scoped>\n",
       "    .dataframe tbody tr th:only-of-type {\n",
       "        vertical-align: middle;\n",
       "    }\n",
       "\n",
       "    .dataframe tbody tr th {\n",
       "        vertical-align: top;\n",
       "    }\n",
       "\n",
       "    .dataframe thead th {\n",
       "        text-align: right;\n",
       "    }\n",
       "</style>\n",
       "<table border=\"1\" class=\"dataframe\">\n",
       "  <thead>\n",
       "    <tr style=\"text-align: right;\">\n",
       "      <th></th>\n",
       "      <th>grupo</th>\n",
       "      <th>rank</th>\n",
       "      <th>nombre</th>\n",
       "      <th>puntos</th>\n",
       "      <th>gan_loc</th>\n",
       "      <th>emp_loc</th>\n",
       "      <th>per_loc</th>\n",
       "      <th>gan_vis</th>\n",
       "      <th>emp_vis</th>\n",
       "      <th>per_vis</th>\n",
       "      <th>gol_fav</th>\n",
       "      <th>gol_con</th>\n",
       "      <th>dif_gol</th>\n",
       "    </tr>\n",
       "  </thead>\n",
       "  <tbody>\n",
       "    <tr>\n",
       "      <th>284</th>\n",
       "      <td>21</td>\n",
       "      <td>1</td>\n",
       "      <td>ALMEDA, C.D. A</td>\n",
       "      <td>3.0</td>\n",
       "      <td>1.0</td>\n",
       "      <td>0.0</td>\n",
       "      <td>0.0</td>\n",
       "      <td>1.0</td>\n",
       "      <td>0.0</td>\n",
       "      <td>0.0</td>\n",
       "      <td>9.71</td>\n",
       "      <td>0.21</td>\n",
       "      <td>9.5</td>\n",
       "    </tr>\n",
       "  </tbody>\n",
       "</table>\n",
       "</div>\n",
       "    <div class=\"colab-df-buttons\">\n",
       "\n",
       "  <div class=\"colab-df-container\">\n",
       "    <button class=\"colab-df-convert\" onclick=\"convertToInteractive('df-baef6e9f-8492-4dcc-8e8a-ab31c5132950')\"\n",
       "            title=\"Convert this dataframe to an interactive table.\"\n",
       "            style=\"display:none;\">\n",
       "\n",
       "  <svg xmlns=\"http://www.w3.org/2000/svg\" height=\"24px\" viewBox=\"0 -960 960 960\">\n",
       "    <path d=\"M120-120v-720h720v720H120Zm60-500h600v-160H180v160Zm220 220h160v-160H400v160Zm0 220h160v-160H400v160ZM180-400h160v-160H180v160Zm440 0h160v-160H620v160ZM180-180h160v-160H180v160Zm440 0h160v-160H620v160Z\"/>\n",
       "  </svg>\n",
       "    </button>\n",
       "\n",
       "  <style>\n",
       "    .colab-df-container {\n",
       "      display:flex;\n",
       "      gap: 12px;\n",
       "    }\n",
       "\n",
       "    .colab-df-convert {\n",
       "      background-color: #E8F0FE;\n",
       "      border: none;\n",
       "      border-radius: 50%;\n",
       "      cursor: pointer;\n",
       "      display: none;\n",
       "      fill: #1967D2;\n",
       "      height: 32px;\n",
       "      padding: 0 0 0 0;\n",
       "      width: 32px;\n",
       "    }\n",
       "\n",
       "    .colab-df-convert:hover {\n",
       "      background-color: #E2EBFA;\n",
       "      box-shadow: 0px 1px 2px rgba(60, 64, 67, 0.3), 0px 1px 3px 1px rgba(60, 64, 67, 0.15);\n",
       "      fill: #174EA6;\n",
       "    }\n",
       "\n",
       "    .colab-df-buttons div {\n",
       "      margin-bottom: 4px;\n",
       "    }\n",
       "\n",
       "    [theme=dark] .colab-df-convert {\n",
       "      background-color: #3B4455;\n",
       "      fill: #D2E3FC;\n",
       "    }\n",
       "\n",
       "    [theme=dark] .colab-df-convert:hover {\n",
       "      background-color: #434B5C;\n",
       "      box-shadow: 0px 1px 3px 1px rgba(0, 0, 0, 0.15);\n",
       "      filter: drop-shadow(0px 1px 2px rgba(0, 0, 0, 0.3));\n",
       "      fill: #FFFFFF;\n",
       "    }\n",
       "  </style>\n",
       "\n",
       "    <script>\n",
       "      const buttonEl =\n",
       "        document.querySelector('#df-baef6e9f-8492-4dcc-8e8a-ab31c5132950 button.colab-df-convert');\n",
       "      buttonEl.style.display =\n",
       "        google.colab.kernel.accessAllowed ? 'block' : 'none';\n",
       "\n",
       "      async function convertToInteractive(key) {\n",
       "        const element = document.querySelector('#df-baef6e9f-8492-4dcc-8e8a-ab31c5132950');\n",
       "        const dataTable =\n",
       "          await google.colab.kernel.invokeFunction('convertToInteractive',\n",
       "                                                    [key], {});\n",
       "        if (!dataTable) return;\n",
       "\n",
       "        const docLinkHtml = 'Like what you see? Visit the ' +\n",
       "          '<a target=\"_blank\" href=https://colab.research.google.com/notebooks/data_table.ipynb>data table notebook</a>'\n",
       "          + ' to learn more about interactive tables.';\n",
       "        element.innerHTML = '';\n",
       "        dataTable['output_type'] = 'display_data';\n",
       "        await google.colab.output.renderOutput(dataTable, element);\n",
       "        const docLink = document.createElement('div');\n",
       "        docLink.innerHTML = docLinkHtml;\n",
       "        element.appendChild(docLink);\n",
       "      }\n",
       "    </script>\n",
       "  </div>\n",
       "\n",
       "    </div>\n",
       "  </div>\n"
      ],
      "text/plain": [
       "     grupo  rank          nombre  puntos  gan_loc  emp_loc  per_loc  gan_vis  \\\n",
       "284     21     1  ALMEDA, C.D. A     3.0      1.0      0.0      0.0      1.0   \n",
       "\n",
       "     emp_vis  per_vis  gol_fav  gol_con  dif_gol  \n",
       "284      0.0      0.0     9.71     0.21      9.5  "
      ]
     },
     "execution_count": 16,
     "metadata": {},
     "output_type": "execute_result"
    }
   ],
   "source": [
    "equipos[equipos['gol_con'] == equipos['gol_con'].min()].round(2)"
   ]
  },
  {
   "cell_type": "markdown",
   "metadata": {
    "id": "ArhDyaI7CGDS"
   },
   "source": [
    "ALMEDA, C.D. A, mínimo registro de goles recibidos por partido, 0.21."
   ]
  },
  {
   "cell_type": "code",
   "execution_count": 17,
   "metadata": {
    "colab": {
     "base_uri": "https://localhost:8080/",
     "height": 118
    },
    "id": "Z6tif62J1SqA",
    "outputId": "f495f855-b9bc-40ce-b29d-2bc1cbe33de9"
   },
   "outputs": [
    {
     "data": {
      "application/vnd.google.colaboratory.intrinsic+json": {
       "summary": "{\n  \"name\": \"equipo_top\",\n  \"rows\": 1,\n  \"fields\": [\n    {\n      \"column\": \"grupo\",\n      \"properties\": {\n        \"dtype\": \"number\",\n        \"std\": null,\n        \"min\": 21,\n        \"max\": 21,\n        \"num_unique_values\": 1,\n        \"samples\": [\n          21\n        ],\n        \"semantic_type\": \"\",\n        \"description\": \"\"\n      }\n    },\n    {\n      \"column\": \"rank\",\n      \"properties\": {\n        \"dtype\": \"number\",\n        \"std\": null,\n        \"min\": 1,\n        \"max\": 1,\n        \"num_unique_values\": 1,\n        \"samples\": [\n          1\n        ],\n        \"semantic_type\": \"\",\n        \"description\": \"\"\n      }\n    },\n    {\n      \"column\": \"nombre\",\n      \"properties\": {\n        \"dtype\": \"string\",\n        \"num_unique_values\": 1,\n        \"samples\": [\n          \"ALMEDA, C.D. A\"\n        ],\n        \"semantic_type\": \"\",\n        \"description\": \"\"\n      }\n    },\n    {\n      \"column\": \"puntos\",\n      \"properties\": {\n        \"dtype\": \"number\",\n        \"std\": null,\n        \"min\": 3.0,\n        \"max\": 3.0,\n        \"num_unique_values\": 1,\n        \"samples\": [\n          3.0\n        ],\n        \"semantic_type\": \"\",\n        \"description\": \"\"\n      }\n    },\n    {\n      \"column\": \"gan_loc\",\n      \"properties\": {\n        \"dtype\": \"number\",\n        \"std\": null,\n        \"min\": 1.0,\n        \"max\": 1.0,\n        \"num_unique_values\": 1,\n        \"samples\": [\n          1.0\n        ],\n        \"semantic_type\": \"\",\n        \"description\": \"\"\n      }\n    },\n    {\n      \"column\": \"emp_loc\",\n      \"properties\": {\n        \"dtype\": \"number\",\n        \"std\": null,\n        \"min\": 0.0,\n        \"max\": 0.0,\n        \"num_unique_values\": 1,\n        \"samples\": [\n          0.0\n        ],\n        \"semantic_type\": \"\",\n        \"description\": \"\"\n      }\n    },\n    {\n      \"column\": \"per_loc\",\n      \"properties\": {\n        \"dtype\": \"number\",\n        \"std\": null,\n        \"min\": 0.0,\n        \"max\": 0.0,\n        \"num_unique_values\": 1,\n        \"samples\": [\n          0.0\n        ],\n        \"semantic_type\": \"\",\n        \"description\": \"\"\n      }\n    },\n    {\n      \"column\": \"gan_vis\",\n      \"properties\": {\n        \"dtype\": \"number\",\n        \"std\": null,\n        \"min\": 1.0,\n        \"max\": 1.0,\n        \"num_unique_values\": 1,\n        \"samples\": [\n          1.0\n        ],\n        \"semantic_type\": \"\",\n        \"description\": \"\"\n      }\n    },\n    {\n      \"column\": \"emp_vis\",\n      \"properties\": {\n        \"dtype\": \"number\",\n        \"std\": null,\n        \"min\": 0.0,\n        \"max\": 0.0,\n        \"num_unique_values\": 1,\n        \"samples\": [\n          0.0\n        ],\n        \"semantic_type\": \"\",\n        \"description\": \"\"\n      }\n    },\n    {\n      \"column\": \"per_vis\",\n      \"properties\": {\n        \"dtype\": \"number\",\n        \"std\": null,\n        \"min\": 0.0,\n        \"max\": 0.0,\n        \"num_unique_values\": 1,\n        \"samples\": [\n          0.0\n        ],\n        \"semantic_type\": \"\",\n        \"description\": \"\"\n      }\n    },\n    {\n      \"column\": \"gol_fav\",\n      \"properties\": {\n        \"dtype\": \"number\",\n        \"std\": null,\n        \"min\": 9.71,\n        \"max\": 9.71,\n        \"num_unique_values\": 1,\n        \"samples\": [\n          9.71\n        ],\n        \"semantic_type\": \"\",\n        \"description\": \"\"\n      }\n    },\n    {\n      \"column\": \"gol_con\",\n      \"properties\": {\n        \"dtype\": \"number\",\n        \"std\": null,\n        \"min\": 0.21,\n        \"max\": 0.21,\n        \"num_unique_values\": 1,\n        \"samples\": [\n          0.21\n        ],\n        \"semantic_type\": \"\",\n        \"description\": \"\"\n      }\n    },\n    {\n      \"column\": \"dif_gol\",\n      \"properties\": {\n        \"dtype\": \"number\",\n        \"std\": null,\n        \"min\": 9.5,\n        \"max\": 9.5,\n        \"num_unique_values\": 1,\n        \"samples\": [\n          9.5\n        ],\n        \"semantic_type\": \"\",\n        \"description\": \"\"\n      }\n    }\n  ]\n}",
       "type": "dataframe"
      },
      "text/html": [
       "\n",
       "  <div id=\"df-050e944d-fcb3-48f4-b13b-41167347050a\" class=\"colab-df-container\">\n",
       "    <div>\n",
       "<style scoped>\n",
       "    .dataframe tbody tr th:only-of-type {\n",
       "        vertical-align: middle;\n",
       "    }\n",
       "\n",
       "    .dataframe tbody tr th {\n",
       "        vertical-align: top;\n",
       "    }\n",
       "\n",
       "    .dataframe thead th {\n",
       "        text-align: right;\n",
       "    }\n",
       "</style>\n",
       "<table border=\"1\" class=\"dataframe\">\n",
       "  <thead>\n",
       "    <tr style=\"text-align: right;\">\n",
       "      <th></th>\n",
       "      <th>grupo</th>\n",
       "      <th>rank</th>\n",
       "      <th>nombre</th>\n",
       "      <th>puntos</th>\n",
       "      <th>gan_loc</th>\n",
       "      <th>emp_loc</th>\n",
       "      <th>per_loc</th>\n",
       "      <th>gan_vis</th>\n",
       "      <th>emp_vis</th>\n",
       "      <th>per_vis</th>\n",
       "      <th>gol_fav</th>\n",
       "      <th>gol_con</th>\n",
       "      <th>dif_gol</th>\n",
       "    </tr>\n",
       "  </thead>\n",
       "  <tbody>\n",
       "    <tr>\n",
       "      <th>284</th>\n",
       "      <td>21</td>\n",
       "      <td>1</td>\n",
       "      <td>ALMEDA, C.D. A</td>\n",
       "      <td>3.0</td>\n",
       "      <td>1.0</td>\n",
       "      <td>0.0</td>\n",
       "      <td>0.0</td>\n",
       "      <td>1.0</td>\n",
       "      <td>0.0</td>\n",
       "      <td>0.0</td>\n",
       "      <td>9.71</td>\n",
       "      <td>0.21</td>\n",
       "      <td>9.5</td>\n",
       "    </tr>\n",
       "  </tbody>\n",
       "</table>\n",
       "</div>\n",
       "    <div class=\"colab-df-buttons\">\n",
       "\n",
       "  <div class=\"colab-df-container\">\n",
       "    <button class=\"colab-df-convert\" onclick=\"convertToInteractive('df-050e944d-fcb3-48f4-b13b-41167347050a')\"\n",
       "            title=\"Convert this dataframe to an interactive table.\"\n",
       "            style=\"display:none;\">\n",
       "\n",
       "  <svg xmlns=\"http://www.w3.org/2000/svg\" height=\"24px\" viewBox=\"0 -960 960 960\">\n",
       "    <path d=\"M120-120v-720h720v720H120Zm60-500h600v-160H180v160Zm220 220h160v-160H400v160Zm0 220h160v-160H400v160ZM180-400h160v-160H180v160Zm440 0h160v-160H620v160ZM180-180h160v-160H180v160Zm440 0h160v-160H620v160Z\"/>\n",
       "  </svg>\n",
       "    </button>\n",
       "\n",
       "  <style>\n",
       "    .colab-df-container {\n",
       "      display:flex;\n",
       "      gap: 12px;\n",
       "    }\n",
       "\n",
       "    .colab-df-convert {\n",
       "      background-color: #E8F0FE;\n",
       "      border: none;\n",
       "      border-radius: 50%;\n",
       "      cursor: pointer;\n",
       "      display: none;\n",
       "      fill: #1967D2;\n",
       "      height: 32px;\n",
       "      padding: 0 0 0 0;\n",
       "      width: 32px;\n",
       "    }\n",
       "\n",
       "    .colab-df-convert:hover {\n",
       "      background-color: #E2EBFA;\n",
       "      box-shadow: 0px 1px 2px rgba(60, 64, 67, 0.3), 0px 1px 3px 1px rgba(60, 64, 67, 0.15);\n",
       "      fill: #174EA6;\n",
       "    }\n",
       "\n",
       "    .colab-df-buttons div {\n",
       "      margin-bottom: 4px;\n",
       "    }\n",
       "\n",
       "    [theme=dark] .colab-df-convert {\n",
       "      background-color: #3B4455;\n",
       "      fill: #D2E3FC;\n",
       "    }\n",
       "\n",
       "    [theme=dark] .colab-df-convert:hover {\n",
       "      background-color: #434B5C;\n",
       "      box-shadow: 0px 1px 3px 1px rgba(0, 0, 0, 0.15);\n",
       "      filter: drop-shadow(0px 1px 2px rgba(0, 0, 0, 0.3));\n",
       "      fill: #FFFFFF;\n",
       "    }\n",
       "  </style>\n",
       "\n",
       "    <script>\n",
       "      const buttonEl =\n",
       "        document.querySelector('#df-050e944d-fcb3-48f4-b13b-41167347050a button.colab-df-convert');\n",
       "      buttonEl.style.display =\n",
       "        google.colab.kernel.accessAllowed ? 'block' : 'none';\n",
       "\n",
       "      async function convertToInteractive(key) {\n",
       "        const element = document.querySelector('#df-050e944d-fcb3-48f4-b13b-41167347050a');\n",
       "        const dataTable =\n",
       "          await google.colab.kernel.invokeFunction('convertToInteractive',\n",
       "                                                    [key], {});\n",
       "        if (!dataTable) return;\n",
       "\n",
       "        const docLinkHtml = 'Like what you see? Visit the ' +\n",
       "          '<a target=\"_blank\" href=https://colab.research.google.com/notebooks/data_table.ipynb>data table notebook</a>'\n",
       "          + ' to learn more about interactive tables.';\n",
       "        element.innerHTML = '';\n",
       "        dataTable['output_type'] = 'display_data';\n",
       "        await google.colab.output.renderOutput(dataTable, element);\n",
       "        const docLink = document.createElement('div');\n",
       "        docLink.innerHTML = docLinkHtml;\n",
       "        element.appendChild(docLink);\n",
       "      }\n",
       "    </script>\n",
       "  </div>\n",
       "\n",
       "    </div>\n",
       "  </div>\n"
      ],
      "text/plain": [
       "     grupo  rank          nombre  puntos  gan_loc  emp_loc  per_loc  gan_vis  \\\n",
       "284     21     1  ALMEDA, C.D. A     3.0      1.0      0.0      0.0      1.0   \n",
       "\n",
       "     emp_vis  per_vis  gol_fav  gol_con  dif_gol  \n",
       "284      0.0      0.0     9.71     0.21      9.5  "
      ]
     },
     "execution_count": 17,
     "metadata": {},
     "output_type": "execute_result"
    }
   ],
   "source": [
    "max_dif_gol = (equipos_top['gol_fav'] - equipos_top['gol_con']).max()\n",
    "equipo_top = equipos_top[(equipos_top['gol_fav'] - equipos_top['gol_con']) == max_dif_gol]\n",
    "equipo_top.round(2)"
   ]
  },
  {
   "cell_type": "markdown",
   "metadata": {
    "id": "IY66E5equr59"
   },
   "source": [
    "Almeda C.D. A, mejor diferencia de goles por partido, 9.5.\n",
    "\n"
   ]
  },
  {
   "cell_type": "code",
   "execution_count": 18,
   "metadata": {
    "colab": {
     "base_uri": "https://localhost:8080/",
     "height": 425
    },
    "id": "dZ4r7pGvtpIf",
    "outputId": "51063678-de0b-44b9-bf5b-4a8724948e5d"
   },
   "outputs": [
    {
     "data": {
      "application/vnd.google.colaboratory.intrinsic+json": {
       "summary": "{\n  \"name\": \"equipos_top_dif\",\n  \"rows\": 12,\n  \"fields\": [\n    {\n      \"column\": \"nombre\",\n      \"properties\": {\n        \"dtype\": \"string\",\n        \"num_unique_values\": 12,\n        \"samples\": [\n          \"LES CABANYES, F.C. A\",\n          \"CALELLA, C.F. A\",\n          \"ALMEDA, C.D. A\"\n        ],\n        \"semantic_type\": \"\",\n        \"description\": \"\"\n      }\n    },\n    {\n      \"column\": \"dif_gol\",\n      \"properties\": {\n        \"dtype\": \"number\",\n        \"std\": 1.2346941714326252,\n        \"min\": -1.4,\n        \"max\": 1.9,\n        \"num_unique_values\": 11,\n        \"samples\": [\n          0.4,\n          1.9,\n          -1.3\n        ],\n        \"semantic_type\": \"\",\n        \"description\": \"\"\n      }\n    }\n  ]\n}",
       "type": "dataframe"
      },
      "text/html": [
       "\n",
       "  <div id=\"df-8acac6dc-bb61-4d71-99ad-b00d8605273d\" class=\"colab-df-container\">\n",
       "    <div>\n",
       "<style scoped>\n",
       "    .dataframe tbody tr th:only-of-type {\n",
       "        vertical-align: middle;\n",
       "    }\n",
       "\n",
       "    .dataframe tbody tr th {\n",
       "        vertical-align: top;\n",
       "    }\n",
       "\n",
       "    .dataframe thead th {\n",
       "        text-align: right;\n",
       "    }\n",
       "</style>\n",
       "<table border=\"1\" class=\"dataframe\">\n",
       "  <thead>\n",
       "    <tr style=\"text-align: right;\">\n",
       "      <th></th>\n",
       "      <th>nombre</th>\n",
       "      <th>dif_gol</th>\n",
       "    </tr>\n",
       "  </thead>\n",
       "  <tbody>\n",
       "    <tr>\n",
       "      <th>284</th>\n",
       "      <td>ALMEDA, C.D. A</td>\n",
       "      <td>1.9</td>\n",
       "    </tr>\n",
       "    <tr>\n",
       "      <th>117</th>\n",
       "      <td>SABADELLENCA, UE. B</td>\n",
       "      <td>1.6</td>\n",
       "    </tr>\n",
       "    <tr>\n",
       "      <th>238</th>\n",
       "      <td>SINERA UNITED FUTBOL CLUB ASS. C</td>\n",
       "      <td>1.1</td>\n",
       "    </tr>\n",
       "    <tr>\n",
       "      <th>170</th>\n",
       "      <td>LLIÇA DE VALL C.F. C</td>\n",
       "      <td>0.9</td>\n",
       "    </tr>\n",
       "    <tr>\n",
       "      <th>314</th>\n",
       "      <td>COL.LEGI SAGRAT COR SARRIA AMPA A</td>\n",
       "      <td>0.6</td>\n",
       "    </tr>\n",
       "    <tr>\n",
       "      <th>269</th>\n",
       "      <td>MOLINS DE REI, C.F. B</td>\n",
       "      <td>0.4</td>\n",
       "    </tr>\n",
       "    <tr>\n",
       "      <th>328</th>\n",
       "      <td>ATENEU IGUALADI, S.E.F. A</td>\n",
       "      <td>-0.1</td>\n",
       "    </tr>\n",
       "    <tr>\n",
       "      <th>375</th>\n",
       "      <td>CASTELLNOU UNIÓ ESPORTIVA CLUB FUTBOL A</td>\n",
       "      <td>-1.0</td>\n",
       "    </tr>\n",
       "    <tr>\n",
       "      <th>103</th>\n",
       "      <td>SABADELL NORD,CF. A</td>\n",
       "      <td>-1.2</td>\n",
       "    </tr>\n",
       "    <tr>\n",
       "      <th>207</th>\n",
       "      <td>CALELLA, C.F. A</td>\n",
       "      <td>-1.3</td>\n",
       "    </tr>\n",
       "    <tr>\n",
       "      <th>339</th>\n",
       "      <td>LES CABANYES, F.C. A</td>\n",
       "      <td>-1.4</td>\n",
       "    </tr>\n",
       "    <tr>\n",
       "      <th>362</th>\n",
       "      <td>TORELLO, C.F. B</td>\n",
       "      <td>-1.4</td>\n",
       "    </tr>\n",
       "  </tbody>\n",
       "</table>\n",
       "</div>\n",
       "    <div class=\"colab-df-buttons\">\n",
       "\n",
       "  <div class=\"colab-df-container\">\n",
       "    <button class=\"colab-df-convert\" onclick=\"convertToInteractive('df-8acac6dc-bb61-4d71-99ad-b00d8605273d')\"\n",
       "            title=\"Convert this dataframe to an interactive table.\"\n",
       "            style=\"display:none;\">\n",
       "\n",
       "  <svg xmlns=\"http://www.w3.org/2000/svg\" height=\"24px\" viewBox=\"0 -960 960 960\">\n",
       "    <path d=\"M120-120v-720h720v720H120Zm60-500h600v-160H180v160Zm220 220h160v-160H400v160Zm0 220h160v-160H400v160ZM180-400h160v-160H180v160Zm440 0h160v-160H620v160ZM180-180h160v-160H180v160Zm440 0h160v-160H620v160Z\"/>\n",
       "  </svg>\n",
       "    </button>\n",
       "\n",
       "  <style>\n",
       "    .colab-df-container {\n",
       "      display:flex;\n",
       "      gap: 12px;\n",
       "    }\n",
       "\n",
       "    .colab-df-convert {\n",
       "      background-color: #E8F0FE;\n",
       "      border: none;\n",
       "      border-radius: 50%;\n",
       "      cursor: pointer;\n",
       "      display: none;\n",
       "      fill: #1967D2;\n",
       "      height: 32px;\n",
       "      padding: 0 0 0 0;\n",
       "      width: 32px;\n",
       "    }\n",
       "\n",
       "    .colab-df-convert:hover {\n",
       "      background-color: #E2EBFA;\n",
       "      box-shadow: 0px 1px 2px rgba(60, 64, 67, 0.3), 0px 1px 3px 1px rgba(60, 64, 67, 0.15);\n",
       "      fill: #174EA6;\n",
       "    }\n",
       "\n",
       "    .colab-df-buttons div {\n",
       "      margin-bottom: 4px;\n",
       "    }\n",
       "\n",
       "    [theme=dark] .colab-df-convert {\n",
       "      background-color: #3B4455;\n",
       "      fill: #D2E3FC;\n",
       "    }\n",
       "\n",
       "    [theme=dark] .colab-df-convert:hover {\n",
       "      background-color: #434B5C;\n",
       "      box-shadow: 0px 1px 3px 1px rgba(0, 0, 0, 0.15);\n",
       "      filter: drop-shadow(0px 1px 2px rgba(0, 0, 0, 0.3));\n",
       "      fill: #FFFFFF;\n",
       "    }\n",
       "  </style>\n",
       "\n",
       "    <script>\n",
       "      const buttonEl =\n",
       "        document.querySelector('#df-8acac6dc-bb61-4d71-99ad-b00d8605273d button.colab-df-convert');\n",
       "      buttonEl.style.display =\n",
       "        google.colab.kernel.accessAllowed ? 'block' : 'none';\n",
       "\n",
       "      async function convertToInteractive(key) {\n",
       "        const element = document.querySelector('#df-8acac6dc-bb61-4d71-99ad-b00d8605273d');\n",
       "        const dataTable =\n",
       "          await google.colab.kernel.invokeFunction('convertToInteractive',\n",
       "                                                    [key], {});\n",
       "        if (!dataTable) return;\n",
       "\n",
       "        const docLinkHtml = 'Like what you see? Visit the ' +\n",
       "          '<a target=\"_blank\" href=https://colab.research.google.com/notebooks/data_table.ipynb>data table notebook</a>'\n",
       "          + ' to learn more about interactive tables.';\n",
       "        element.innerHTML = '';\n",
       "        dataTable['output_type'] = 'display_data';\n",
       "        await google.colab.output.renderOutput(dataTable, element);\n",
       "        const docLink = document.createElement('div');\n",
       "        docLink.innerHTML = docLinkHtml;\n",
       "        element.appendChild(docLink);\n",
       "      }\n",
       "    </script>\n",
       "  </div>\n",
       "\n",
       "\n",
       "<div id=\"df-fe37145e-c388-49e7-a2f6-c2980f63b486\">\n",
       "  <button class=\"colab-df-quickchart\" onclick=\"quickchart('df-fe37145e-c388-49e7-a2f6-c2980f63b486')\"\n",
       "            title=\"Suggest charts\"\n",
       "            style=\"display:none;\">\n",
       "\n",
       "<svg xmlns=\"http://www.w3.org/2000/svg\" height=\"24px\"viewBox=\"0 0 24 24\"\n",
       "     width=\"24px\">\n",
       "    <g>\n",
       "        <path d=\"M19 3H5c-1.1 0-2 .9-2 2v14c0 1.1.9 2 2 2h14c1.1 0 2-.9 2-2V5c0-1.1-.9-2-2-2zM9 17H7v-7h2v7zm4 0h-2V7h2v10zm4 0h-2v-4h2v4z\"/>\n",
       "    </g>\n",
       "</svg>\n",
       "  </button>\n",
       "\n",
       "<style>\n",
       "  .colab-df-quickchart {\n",
       "      --bg-color: #E8F0FE;\n",
       "      --fill-color: #1967D2;\n",
       "      --hover-bg-color: #E2EBFA;\n",
       "      --hover-fill-color: #174EA6;\n",
       "      --disabled-fill-color: #AAA;\n",
       "      --disabled-bg-color: #DDD;\n",
       "  }\n",
       "\n",
       "  [theme=dark] .colab-df-quickchart {\n",
       "      --bg-color: #3B4455;\n",
       "      --fill-color: #D2E3FC;\n",
       "      --hover-bg-color: #434B5C;\n",
       "      --hover-fill-color: #FFFFFF;\n",
       "      --disabled-bg-color: #3B4455;\n",
       "      --disabled-fill-color: #666;\n",
       "  }\n",
       "\n",
       "  .colab-df-quickchart {\n",
       "    background-color: var(--bg-color);\n",
       "    border: none;\n",
       "    border-radius: 50%;\n",
       "    cursor: pointer;\n",
       "    display: none;\n",
       "    fill: var(--fill-color);\n",
       "    height: 32px;\n",
       "    padding: 0;\n",
       "    width: 32px;\n",
       "  }\n",
       "\n",
       "  .colab-df-quickchart:hover {\n",
       "    background-color: var(--hover-bg-color);\n",
       "    box-shadow: 0 1px 2px rgba(60, 64, 67, 0.3), 0 1px 3px 1px rgba(60, 64, 67, 0.15);\n",
       "    fill: var(--button-hover-fill-color);\n",
       "  }\n",
       "\n",
       "  .colab-df-quickchart-complete:disabled,\n",
       "  .colab-df-quickchart-complete:disabled:hover {\n",
       "    background-color: var(--disabled-bg-color);\n",
       "    fill: var(--disabled-fill-color);\n",
       "    box-shadow: none;\n",
       "  }\n",
       "\n",
       "  .colab-df-spinner {\n",
       "    border: 2px solid var(--fill-color);\n",
       "    border-color: transparent;\n",
       "    border-bottom-color: var(--fill-color);\n",
       "    animation:\n",
       "      spin 1s steps(1) infinite;\n",
       "  }\n",
       "\n",
       "  @keyframes spin {\n",
       "    0% {\n",
       "      border-color: transparent;\n",
       "      border-bottom-color: var(--fill-color);\n",
       "      border-left-color: var(--fill-color);\n",
       "    }\n",
       "    20% {\n",
       "      border-color: transparent;\n",
       "      border-left-color: var(--fill-color);\n",
       "      border-top-color: var(--fill-color);\n",
       "    }\n",
       "    30% {\n",
       "      border-color: transparent;\n",
       "      border-left-color: var(--fill-color);\n",
       "      border-top-color: var(--fill-color);\n",
       "      border-right-color: var(--fill-color);\n",
       "    }\n",
       "    40% {\n",
       "      border-color: transparent;\n",
       "      border-right-color: var(--fill-color);\n",
       "      border-top-color: var(--fill-color);\n",
       "    }\n",
       "    60% {\n",
       "      border-color: transparent;\n",
       "      border-right-color: var(--fill-color);\n",
       "    }\n",
       "    80% {\n",
       "      border-color: transparent;\n",
       "      border-right-color: var(--fill-color);\n",
       "      border-bottom-color: var(--fill-color);\n",
       "    }\n",
       "    90% {\n",
       "      border-color: transparent;\n",
       "      border-bottom-color: var(--fill-color);\n",
       "    }\n",
       "  }\n",
       "</style>\n",
       "\n",
       "  <script>\n",
       "    async function quickchart(key) {\n",
       "      const quickchartButtonEl =\n",
       "        document.querySelector('#' + key + ' button');\n",
       "      quickchartButtonEl.disabled = true;  // To prevent multiple clicks.\n",
       "      quickchartButtonEl.classList.add('colab-df-spinner');\n",
       "      try {\n",
       "        const charts = await google.colab.kernel.invokeFunction(\n",
       "            'suggestCharts', [key], {});\n",
       "      } catch (error) {\n",
       "        console.error('Error during call to suggestCharts:', error);\n",
       "      }\n",
       "      quickchartButtonEl.classList.remove('colab-df-spinner');\n",
       "      quickchartButtonEl.classList.add('colab-df-quickchart-complete');\n",
       "    }\n",
       "    (() => {\n",
       "      let quickchartButtonEl =\n",
       "        document.querySelector('#df-fe37145e-c388-49e7-a2f6-c2980f63b486 button');\n",
       "      quickchartButtonEl.style.display =\n",
       "        google.colab.kernel.accessAllowed ? 'block' : 'none';\n",
       "    })();\n",
       "  </script>\n",
       "</div>\n",
       "    </div>\n",
       "  </div>\n"
      ],
      "text/plain": [
       "                                      nombre  dif_gol\n",
       "284                           ALMEDA, C.D. A      1.9\n",
       "117                      SABADELLENCA, UE. B      1.6\n",
       "238         SINERA UNITED FUTBOL CLUB ASS. C      1.1\n",
       "170                     LLIÇA DE VALL C.F. C      0.9\n",
       "314        COL.LEGI SAGRAT COR SARRIA AMPA A      0.6\n",
       "269                    MOLINS DE REI, C.F. B      0.4\n",
       "328                ATENEU IGUALADI, S.E.F. A     -0.1\n",
       "375  CASTELLNOU UNIÓ ESPORTIVA CLUB FUTBOL A     -1.0\n",
       "103                      SABADELL NORD,CF. A     -1.2\n",
       "207                          CALELLA, C.F. A     -1.3\n",
       "339                     LES CABANYES, F.C. A     -1.4\n",
       "362                          TORELLO, C.F. B     -1.4"
      ]
     },
     "execution_count": 18,
     "metadata": {},
     "output_type": "execute_result"
    }
   ],
   "source": [
    "equipos_top_dif = pd.DataFrame()\n",
    "dif_top = (equipos_top['gol_fav'] - equipos_top['gol_con']).mean().round(3)\n",
    "\n",
    "for e in equipos_top:\n",
    "  equipos_top_dif['nombre'] = equipos_top['nombre']\n",
    "  dif_gol = equipos_top['gol_fav'] - equipos_top['gol_con']\n",
    "  equipos_top_dif['dif_gol'] = (dif_gol - dif_top).round(1)\n",
    "\n",
    "equipos_top_dif.sort_values(by='dif_gol', ascending=False)"
   ]
  },
  {
   "cell_type": "markdown",
   "metadata": {
    "id": "ggHHbW7mAue0"
   },
   "source": [
    "CD Almeda A, UE Sabadellenca B y Sinera United FC C, mejor diferencia de goles por partido entre los equipos ***top***: 1.9 - 1.6 - 1.1."
   ]
  },
  {
   "cell_type": "code",
   "execution_count": 19,
   "metadata": {
    "id": "OCFT_9NMsjaZ"
   },
   "outputs": [],
   "source": [
    "from matplotlib.colors import LinearSegmentedColormap"
   ]
  },
  {
   "cell_type": "code",
   "execution_count": 20,
   "metadata": {
    "colab": {
     "base_uri": "https://localhost:8080/",
     "height": 337
    },
    "id": "vcHjpYQxsjaa",
    "outputId": "084b0b54-63f6-47a7-fef1-33020a240caf"
   },
   "outputs": [
    {
     "data": {
      "image/png": "[encoded data removed]",
      "text/plain": [
       "<Figure size 350x350 with 1 Axes>"
      ]
     },
     "metadata": {},
     "output_type": "display_data"
    }
   ],
   "source": [
    "sns.set_context('notebook')\n",
    "\n",
    "corr_matrix = equipos[['rank', 'dif_gol']].corr().round(1)\n",
    "\n",
    "colors = [\"white\", \"grey\", \"darkgray\", \"grey\", \"white\"]\n",
    "n_bins = 100\n",
    "cmaps = LinearSegmentedColormap.from_list(name='custom_grey', colors=colors, N=n_bins)\n",
    "\n",
    "plt.figure(figsize=(3.5, 3.5))\n",
    "sns.heatmap(corr_matrix, annot=True, fmt='.1f', cmap=cmaps, square=True, linewidths=1, linecolor='black', cbar=False)\n",
    "\n",
    "plt.xticks(fontsize=12)\n",
    "plt.yticks(fontsize=12)\n",
    "\n",
    "plt.show()"
   ]
  },
  {
   "cell_type": "markdown",
   "metadata": {
    "id": "YzR8r1G5slSD"
   },
   "source": [
    "Correlación entre diferencia de goles y ranking: 0.9."
   ]
  },
  {
   "cell_type": "markdown",
   "metadata": {
    "id": "sKW_FPIB8_LV"
   },
   "source": [
    "# Transformación de datos"
   ]
  },
  {
   "cell_type": "markdown",
   "metadata": {
    "id": "de9ySLp9AudN"
   },
   "source": [
    "Separamos primero nuestra variable dependiente de las independientes:"
   ]
  },
  {
   "cell_type": "code",
   "execution_count": 21,
   "metadata": {
    "id": "8VCbXmDhe1P5"
   },
   "outputs": [],
   "source": [
    "X = equipos.drop(['grupo', 'rank', 'nombre', 'puntos', 'gol_fav', 'gol_con'], axis=1)\n",
    "y = equipos['rank']"
   ]
  },
  {
   "cell_type": "code",
   "execution_count": 22,
   "metadata": {
    "id": "cja9dV4gjnpt"
   },
   "outputs": [],
   "source": [
    "from sklearn.model_selection import train_test_split"
   ]
  },
  {
   "cell_type": "markdown",
   "metadata": {
    "id": "aK093NiGBRU_"
   },
   "source": [
    "... y los subconjuntos de entrenamiento y prueba:"
   ]
  },
  {
   "cell_type": "code",
   "execution_count": 23,
   "metadata": {
    "id": "5C6pvSHusFyJ"
   },
   "outputs": [],
   "source": [
    "X_train, X_test, y_train, y_test = train_test_split(X, y, test_size=0.25, random_state=1)"
   ]
  },
  {
   "cell_type": "markdown",
   "metadata": {
    "id": "t3TbSp8R-4a9"
   },
   "source": [
    "Para decidir el tipo de transformación adecuado, primero debemos comprobar la normalidad y la presencia de valores extremos:"
   ]
  },
  {
   "cell_type": "code",
   "execution_count": 24,
   "metadata": {
    "id": "U_ApYhuYt_Qb"
   },
   "outputs": [],
   "source": [
    "from scipy.stats import shapiro"
   ]
  },
  {
   "cell_type": "code",
   "execution_count": 25,
   "metadata": {
    "colab": {
     "base_uri": "https://localhost:8080/"
    },
    "id": "szuKc_BGt_Qc",
    "outputId": "1d421a28-403a-4280-d77e-fde3d21fba64"
   },
   "outputs": [
    {
     "name": "stdout",
     "output_type": "stream",
     "text": [
      "gan_loc: No gaussiana - p = 0.000\n",
      "emp_loc: No gaussiana - p = 0.000\n",
      "per_loc: No gaussiana - p = 0.000\n",
      "gan_vis: No gaussiana - p = 0.000\n",
      "emp_vis: No gaussiana - p = 0.000\n",
      "per_vis: No gaussiana - p = 0.000\n",
      "dif_gol: No gaussiana - p = 0.001\n"
     ]
    }
   ],
   "source": [
    "for x in X_train:\n",
    "  stat, p = shapiro(X_train[x])\n",
    "  if p > 0.05:\n",
    "    print(x+': Gaussiana'+' - p = '+f\"{p:.3f}\")\n",
    "  else:\n",
    "    print(x+': No gaussiana'+' - p = '+f\"{p:.3f}\")"
   ]
  },
  {
   "cell_type": "markdown",
   "metadata": {
    "id": "BFFroGro3pkl"
   },
   "source": [
    "... ninguna de las variables independientes es gaussiana ..."
   ]
  },
  {
   "cell_type": "code",
   "execution_count": 26,
   "metadata": {
    "id": "Zd3CgjsMoqxs"
   },
   "outputs": [],
   "source": [
    "import seaborn as sns\n",
    "import matplotlib.pyplot as plt"
   ]
  },
  {
   "cell_type": "code",
   "execution_count": 27,
   "metadata": {
    "colab": {
     "base_uri": "https://localhost:8080/",
     "height": 360
    },
    "id": "yODJZLat27g2",
    "outputId": "64d3ad69-b804-4f9f-d90c-2b99e30d982b"
   },
   "outputs": [
    {
     "data": {
      "image/png": "[encoded data removed]",
      "text/plain": [
       "<Figure size 4500x2000 with 9 Axes>"
      ]
     },
     "metadata": {},
     "output_type": "display_data"
    }
   ],
   "source": [
    "fig, axes = plt.subplots(3, 3, figsize=(45, 20))\n",
    "axes = axes.flatten()\n",
    "\n",
    "flierprops = dict(marker='o', markersize=20, linestyle='none', markeredgecolor='black',\n",
    "                  markeredgewidth=2)\n",
    "line_properties = dict(color='black', linewidth=2)\n",
    "\n",
    "i = 0\n",
    "for x in X_train:\n",
    "  sns.boxplot(X_train[x], ax=axes[i], orient='h', color='white', linewidth=5,\n",
    "              flierprops=flierprops, whiskerprops=line_properties, capprops=line_properties,\n",
    "              medianprops=line_properties)\n",
    "  axes[i].set_title(x, fontsize=45, pad=30)\n",
    "  axes[i].set_xlabel('')\n",
    "  axes[i].set_ylabel('')\n",
    "  axes[i].set_xticks([])\n",
    "  axes[i].set_yticks([])\n",
    "  i +=1\n",
    "\n",
    "plt.subplots_adjust(hspace=0.5)\n",
    "axes[7].set_visible(False)\n",
    "axes[8].set_visible(False)"
   ]
  },
  {
   "cell_type": "markdown",
   "metadata": {
    "id": "M0qjoEJ65UoR"
   },
   "source": [
    "... y dos de ellas: `emp_loc` y `emp_vis` presentan valores extremos."
   ]
  },
  {
   "cell_type": "markdown",
   "metadata": {
    "id": "gWsgXKbO_VRP"
   },
   "source": [
    "Un breve recordatorio:"
   ]
  },
  {
   "cell_type": "markdown",
   "metadata": {
    "id": "uqb7ywgV9tD7"
   },
   "source": [
    "| Tipo de Dato                | Condición           | Transformación Recomendada |\n",
    "|-----------------------------|---------------------|---------------------------|\n",
    "| Datos con Distribución Gaussiana | -                 | `StandardScaler`          |\n",
    "| Datos con Distribución No Gaussiana | Sin Outliers   | `MinMaxScaler`            |\n",
    "| Datos con Distribución No Gaussiana | Con Outliers   | `RobustScaler`            |\n",
    "| Categóricas sin Jerarquía    | -                   | `OneHotEncoder` / `pd.get_dummies()` |\n",
    "| Categóricas con Jerarquía    | -                   | `LabelEncoder`            |"
   ]
  },
  {
   "cell_type": "markdown",
   "metadata": {
    "id": "_7Jf1rkl9xrL"
   },
   "source": [
    "Por lo tanto, debemos normalizar con `MinMaxScaler` -> `gan_loc`, `per_loc`, `gan_vis`, `per_vis`, `gol_fav`, `gol_con`, y con `RobustScaler` -> `emp_loc` y `emp_vis`."
   ]
  },
  {
   "cell_type": "markdown",
   "metadata": {
    "id": "3tpdSFNIBwHy"
   },
   "source": [
    "... vamos con ello:"
   ]
  },
  {
   "cell_type": "code",
   "execution_count": 28,
   "metadata": {
    "id": "mJWIT4xY4t1H"
   },
   "outputs": [],
   "source": [
    "X_train_esc = pd.DataFrame()\n",
    "X_test_esc = pd.DataFrame()"
   ]
  },
  {
   "cell_type": "code",
   "execution_count": 29,
   "metadata": {
    "id": "e6YzAStH4Srf"
   },
   "outputs": [],
   "source": [
    "from sklearn.preprocessing import MinMaxScaler\n",
    "\n",
    "scaler = MinMaxScaler()\n",
    "min_max_cols = ['gan_loc', 'per_loc', 'gan_vis', 'per_vis', 'dif_gol']\n",
    "\n",
    "for i in min_max_cols:\n",
    "  X_train_min_max = scaler.fit_transform(X_train[[i]]).reshape(-1)\n",
    "  X_train_min_max_pd = pd.Series(X_train_min_max)\n",
    "  X_train_esc[i] = X_train_min_max_pd\n",
    "  X_test_min_max = scaler.transform(X_test[[i]]).reshape(-1)\n",
    "  X_test_min_max_pd = pd.Series(X_test_min_max)\n",
    "  X_test_esc[i] = X_test_min_max_pd"
   ]
  },
  {
   "cell_type": "code",
   "execution_count": 30,
   "metadata": {
    "id": "yw7j8PrS5mhK"
   },
   "outputs": [],
   "source": [
    "from sklearn.preprocessing import RobustScaler\n",
    "\n",
    "scaler = RobustScaler()\n",
    "robust_cols = ['emp_loc', 'emp_vis']\n",
    "\n",
    "for i in robust_cols:\n",
    "  X_train_robust = scaler.fit_transform(X_train[[i]]).reshape(-1)\n",
    "  X_train_robust_pd = pd.Series(X_train_robust)\n",
    "  X_train_esc[i] = X_train_robust_pd\n",
    "  X_test_robust = scaler.transform(X_test[[i]]).reshape(-1)\n",
    "  X_test_robust_pd = pd.Series(X_test_robust)\n",
    "  X_test_esc[i] = X_test_robust_pd"
   ]
  },
  {
   "cell_type": "markdown",
   "metadata": {
    "id": "RY0F0Jsz6ICB"
   },
   "source": [
    "Subconjuntos de entrenamiento y prueba escalados: X_train_esc y X_test_esc."
   ]
  },
  {
   "cell_type": "markdown",
   "metadata": {
    "id": "y1z5cIoA_ftt"
   },
   "source": [
    "Nos queda encontrar el modelo que mejor se ajuste y con mayor precisión nos permita predecir nuestros datos."
   ]
  },
  {
   "cell_type": "markdown",
   "metadata": {
    "id": "EZUImJ1KcEka"
   },
   "source": [
    "# Selección de modelo"
   ]
  },
  {
   "cell_type": "markdown",
   "metadata": {
    "id": "EMDwKHWPdU8E"
   },
   "source": [
    "Buscamos el modelo de aprendizaje automático que mejor se pueda ajustar a nuestros datos:"
   ]
  },
  {
   "cell_type": "code",
   "execution_count": 31,
   "metadata": {
    "colab": {
     "base_uri": "https://localhost:8080/",
     "height": 237
    },
    "id": "4O4B4tJ8cWax",
    "outputId": "3cef8e12-181e-45ed-e1dd-96617e818406"
   },
   "outputs": [
    {
     "data": {
      "image/png": "[encoded data removed]",
      "text/plain": [
       "<IPython.core.display.Image object>"
      ]
     },
     "metadata": {
      "image/png": {
       "height": 220,
       "width": 540
      }
     },
     "output_type": "display_data"
    }
   ],
   "source": [
    "from IPython.display import Image, display\n",
    "display(Image('lazy_predict.png', width=540, height=220))"
   ]
  },
  {
   "cell_type": "markdown",
   "metadata": {
    "id": "0I2UmxYo5S-e"
   },
   "source": [
    "Modelos de clasificación con varianza explicada por debajo del 32%."
   ]
  },
  {
   "cell_type": "code",
   "execution_count": 32,
   "metadata": {
    "colab": {
     "base_uri": "https://localhost:8080/"
    },
    "id": "PAEE1O3G3pAL",
    "outputId": "892f079d-000f-45f3-a3f0-3692a22881b2"
   },
   "outputs": [
    {
     "name": "stderr",
     "output_type": "stream",
     "text": [
      "/usr/local/lib/python3.10/dist-packages/sklearn/neural_network/_multilayer_perceptron.py:686: ConvergenceWarning: Stochastic Optimizer: Maximum iterations (500) reached and the optimization hasn't converged yet.\n",
      "  warnings.warn(\n"
     ]
    },
    {
     "data": {
      "text/plain": [
       "0.9"
      ]
     },
     "execution_count": 32,
     "metadata": {},
     "output_type": "execute_result"
    }
   ],
   "source": [
    "from sklearn.neural_network import MLPRegressor\n",
    "from sklearn.datasets import make_regression\n",
    "from sklearn.model_selection import train_test_split\n",
    "regr = MLPRegressor(random_state=1, max_iter=1000).fit(X_train, y_train)\n",
    "regr.predict(X_test[:2])\n",
    "regr.score(X_test, y_test).round(4)"
   ]
  },
  {
   "cell_type": "markdown",
   "metadata": {
    "id": "WS3OzYtC6hxb"
   },
   "source": [
    "Modelo de red neuronal con varianza explicada del 90%."
   ]
  },
  {
   "cell_type": "code",
   "execution_count": 33,
   "metadata": {
    "colab": {
     "base_uri": "https://localhost:8080/",
     "height": 347
    },
    "id": "j2KXXjrd7cRt",
    "outputId": "1d5da3ab-7cd5-4237-ea29-b2fa9bdfc10b"
   },
   "outputs": [
    {
     "data": {
      "image/png": "[encoded data removed]",
      "text/plain": [
       "<IPython.core.display.Image object>"
      ]
     },
     "metadata": {
      "image/png": {
       "height": 330,
       "width": 640
      }
     },
     "output_type": "display_data"
    }
   ],
   "source": [
    "from IPython.display import Image, display\n",
    "display(Image('lazy_predict_reg.png', width=640, height=330))"
   ]
  },
  {
   "cell_type": "markdown",
   "metadata": {
    "id": "H5JQ0kdN7wtt"
   },
   "source": [
    "Modelo de regresión lineal con varianza explicada del 90%, que en principio parece suficientemente bueno."
   ]
  },
  {
   "cell_type": "markdown",
   "metadata": {
    "id": "GzPI9lRwnGUW"
   },
   "source": [
    "Pero de todos modos, hay que vigilar lo multicolinealidad entre las variables, y para ello vamos a hacer un par de aproximaciones a su estudio."
   ]
  },
  {
   "cell_type": "markdown",
   "metadata": {
    "id": "koGl2pDsnOVP"
   },
   "source": [
    "1. Matriz de correlaciones:"
   ]
  },
  {
   "cell_type": "code",
   "execution_count": 34,
   "metadata": {
    "colab": {
     "base_uri": "https://localhost:8080/",
     "height": 378
    },
    "id": "48XnB_xvnQ5q",
    "outputId": "8d4e1753-5fbb-4ddb-b235-d5e31a82f3da"
   },
   "outputs": [
    {
     "data": {
      "image/png": "[encoded data removed]",
      "text/plain": [
       "<Figure size 350x350 with 1 Axes>"
      ]
     },
     "metadata": {},
     "output_type": "display_data"
    }
   ],
   "source": [
    "sns.set_context('notebook')\n",
    "\n",
    "corr_matrix = X_train.corr().round(1)\n",
    "\n",
    "colors = [\"white\", \"grey\", \"darkgray\", \"grey\", \"white\"]\n",
    "cmaps = LinearSegmentedColormap.from_list(name='custom_grey', colors=colors)\n",
    "\n",
    "plt.figure(figsize=(3.5, 3.5))\n",
    "sns.heatmap(corr_matrix, annot=True, fmt='.1f', square=True, cmap=cmaps, linecolor='black',\n",
    "            cbar=False, annot_kws={\"size\": 10})\n",
    "\n",
    "plt.xticks(fontsize=10)\n",
    "plt.yticks(fontsize=10)\n",
    "plt.show()"
   ]
  },
  {
   "cell_type": "markdown",
   "metadata": {
    "id": "etmQdcOom9xv"
   },
   "source": [
    "Por un lado vemos como `dif_gol` es la más correlacionada con las demás variables, y por otro la correlación entre los partidos ganados y perdidos en casa y fuera es lógicamente perfecta."
   ]
  },
  {
   "cell_type": "markdown",
   "metadata": {
    "id": "5iGk_0SupJA0"
   },
   "source": [
    "Por otro lado el factor de inflación de la varianza explicada nos muestra lo siguiente ..."
   ]
  },
  {
   "cell_type": "code",
   "execution_count": 35,
   "metadata": {
    "id": "zKHgzxtLIYdK"
   },
   "outputs": [],
   "source": [
    "import statsmodels.api as sm"
   ]
  },
  {
   "cell_type": "code",
   "execution_count": 36,
   "metadata": {
    "id": "LvO26KHkWcru"
   },
   "outputs": [],
   "source": [
    "Z_train = X_train_esc.drop(['per_loc', 'per_vis'], axis=1)\n",
    "Z_test = X_test_esc.drop(['per_loc', 'per_vis'], axis=1)\n",
    "Z_train = sm.add_constant(Z_train)\n",
    "Z_test = sm.add_constant(Z_test)"
   ]
  },
  {
   "cell_type": "code",
   "execution_count": 37,
   "metadata": {
    "id": "UahjLY3DIk-q"
   },
   "outputs": [],
   "source": [
    "from statsmodels.stats.outliers_influence import variance_inflation_factor"
   ]
  },
  {
   "cell_type": "code",
   "execution_count": 38,
   "metadata": {
    "colab": {
     "base_uri": "https://localhost:8080/"
    },
    "id": "5ZvqqUl86wlR",
    "outputId": "97c548a0-e780-426f-c1b2-f852e0d111c3"
   },
   "outputs": [
    {
     "name": "stdout",
     "output_type": "stream",
     "text": [
      "                  VIF\n",
      "0    const   8.134313\n",
      "1  gan_loc   7.055540\n",
      "2  gan_vis   6.314240\n",
      "3  dif_gol  15.836779\n",
      "4  emp_loc   1.206756\n",
      "5  emp_vis   1.137923\n"
     ]
    }
   ],
   "source": [
    "vif = pd.DataFrame()\n",
    "vif[''] = Z_train.columns\n",
    "vif['VIF'] = [variance_inflation_factor(Z_train.values, i) for i in range(Z_train.shape[1])]\n",
    "print(vif)"
   ]
  },
  {
   "cell_type": "markdown",
   "metadata": {
    "id": "bvmeamn-ppOF"
   },
   "source": [
    "Efectivamente el grado de colinealidad de la diferencia de goles con el resto de variables es muy alto, se considera ya alto entre 5 y 10. Mientras los empates son los menos correlacionados con el resto de variables."
   ]
  },
  {
   "cell_type": "markdown",
   "metadata": {
    "id": "C6_R1csKqYjr"
   },
   "source": [
    "Visto lo anterior podemos tomar dos medidas ya, la primera es prescindir de la variable dif_gol, y la segunda combinar las variables gan_loc y gan_vis, haciendo una media entre las dos. Vamos con ello:"
   ]
  },
  {
   "cell_type": "code",
   "execution_count": 39,
   "metadata": {
    "id": "yE6O5FtHqn6o"
   },
   "outputs": [],
   "source": [
    "X_train_esc.drop(['dif_gol','per_loc', 'per_vis'], axis=1, inplace=True)\n",
    "X_test_esc.drop(['dif_gol', 'per_loc', 'per_vis'], axis=1, inplace=True)"
   ]
  },
  {
   "cell_type": "code",
   "execution_count": 40,
   "metadata": {
    "id": "AhhVj6XdrEY7"
   },
   "outputs": [],
   "source": [
    "X_train_esc['gan'] = (X_train_esc['gan_loc'] + X_train_esc['gan_vis'])/2\n",
    "X_test_esc['gan'] = (X_test_esc['gan_loc'] + X_test_esc['gan_vis'])/2"
   ]
  },
  {
   "cell_type": "code",
   "execution_count": 41,
   "metadata": {
    "id": "0iHHGmKStPIx"
   },
   "outputs": [],
   "source": [
    "X_train_esc.drop(['gan_loc','gan_vis'], axis=1, inplace=True)\n",
    "X_test_esc.drop(['gan_loc', 'gan_vis'], axis=1, inplace=True)"
   ]
  },
  {
   "cell_type": "code",
   "execution_count": 42,
   "metadata": {
    "id": "DSf_qEgZOtFo"
   },
   "outputs": [],
   "source": [
    "import numpy as np\n",
    "from sklearn.linear_model import LinearRegression"
   ]
  },
  {
   "cell_type": "code",
   "execution_count": 43,
   "metadata": {
    "id": "pCdRE-skEfpL"
   },
   "outputs": [],
   "source": [
    "modelo = LinearRegression().fit(X_train_esc, y_train)"
   ]
  },
  {
   "cell_type": "code",
   "execution_count": 44,
   "metadata": {
    "id": "CdXKkhEAhhy1"
   },
   "outputs": [],
   "source": [
    "from sklearn.model_selection import GridSearchCV"
   ]
  },
  {
   "cell_type": "code",
   "execution_count": 45,
   "metadata": {
    "colab": {
     "base_uri": "https://localhost:8080/"
    },
    "id": "cVxEIcmpf4x3",
    "outputId": "a333227a-dd41-4aa8-8e65-4c930c22c574"
   },
   "outputs": [
    {
     "name": "stdout",
     "output_type": "stream",
     "text": [
      "Mejores parámetros: {'fit_intercept': True, 'positive': False}\n"
     ]
    }
   ],
   "source": [
    "param_grid = {\n",
    "    'fit_intercept': [True, False],\n",
    "    'positive': [True, False]\n",
    "}\n",
    "\n",
    "modelo_grid = GridSearchCV(modelo, param_grid)\n",
    "modelo_grid.fit(X_train_esc, y_train)\n",
    "print(\"Mejores parámetros:\", modelo_grid.best_params_)"
   ]
  },
  {
   "cell_type": "code",
   "execution_count": 46,
   "metadata": {
    "id": "qz0Z4iPktltt"
   },
   "outputs": [],
   "source": [
    "modelo_opt = LinearRegression(fit_intercept=True, positive=False).fit(X_train_esc, y_train)"
   ]
  },
  {
   "cell_type": "code",
   "execution_count": 47,
   "metadata": {
    "colab": {
     "base_uri": "https://localhost:8080/"
    },
    "id": "3GruLpfwAdna",
    "outputId": "62885ee2-830a-420e-c8fa-4748d152d248"
   },
   "outputs": [
    {
     "name": "stdout",
     "output_type": "stream",
     "text": [
      "Regresión lineal, 3 variables independientes, R2: 0.903\n"
     ]
    }
   ],
   "source": [
    "print('Regresión lineal, 3 variables independientes, R2: '+str(modelo_opt.score(X_test_esc, y_test).round(3)))"
   ]
  },
  {
   "cell_type": "markdown",
   "metadata": {
    "id": "D_NN81QsuMtg"
   },
   "source": [
    "Vemos como el rendimiento del modelo utilizando solamente 3 variables, siendo una de ellas una combinación de otras dos previas, es el mismo que cuando utilizábamos 7 variables."
   ]
  },
  {
   "cell_type": "code",
   "execution_count": 48,
   "metadata": {
    "id": "4osEP1_guseg"
   },
   "outputs": [],
   "source": [
    "W_train = X_train_esc\n",
    "W_test = X_test_esc\n",
    "W_train = sm.add_constant(W_train)\n",
    "W_test = sm.add_constant(W_test)"
   ]
  },
  {
   "cell_type": "code",
   "execution_count": 49,
   "metadata": {
    "colab": {
     "base_uri": "https://localhost:8080/"
    },
    "id": "04NYEncMuseh",
    "outputId": "f2c3cd00-0ce6-4d38-b908-60eabb4be2e5"
   },
   "outputs": [
    {
     "name": "stdout",
     "output_type": "stream",
     "text": [
      "                 VIF\n",
      "0    const  4.318667\n",
      "1  emp_loc  1.009402\n",
      "2  emp_vis  1.008284\n",
      "3      gan  1.002323\n"
     ]
    }
   ],
   "source": [
    "vif = pd.DataFrame()\n",
    "vif[''] = W_train.columns\n",
    "vif['VIF'] = [variance_inflation_factor(W_train.values, i) for i in range(W_train.shape[1])]\n",
    "print(vif)"
   ]
  },
  {
   "cell_type": "markdown",
   "metadata": {
    "id": "aGJH2RTPvJDf"
   },
   "source": [
    "... y comprobamos como el factor de inflación de la varianza es ahora sí mínimo."
   ]
  },
  {
   "cell_type": "code",
   "execution_count": 50,
   "metadata": {
    "id": "Ph-IK5kUvoRJ"
   },
   "outputs": [],
   "source": [
    "X_min_train_esc = X_train_esc.drop(['emp_loc','emp_vis'], axis=1)\n",
    "X_min_test_esc = X_test_esc.drop(['emp_loc', 'emp_vis'], axis=1)"
   ]
  },
  {
   "cell_type": "code",
   "execution_count": 51,
   "metadata": {
    "id": "pAtKRT0KwMWP"
   },
   "outputs": [],
   "source": [
    "modelo_min = LinearRegression().fit(X_min_train_esc, y_train)"
   ]
  },
  {
   "cell_type": "code",
   "execution_count": 52,
   "metadata": {
    "colab": {
     "base_uri": "https://localhost:8080/"
    },
    "id": "jIlKwmTowZBT",
    "outputId": "f653aa27-0c22-4fce-f763-e2312621f0c6"
   },
   "outputs": [
    {
     "name": "stdout",
     "output_type": "stream",
     "text": [
      "Mejores parámetros: {'fit_intercept': True, 'positive': False}\n"
     ]
    }
   ],
   "source": [
    "param_grid = {\n",
    "    'fit_intercept': [True, False],\n",
    "    'positive': [True, False]\n",
    "}\n",
    "\n",
    "modelo_min_grid = GridSearchCV(modelo_min, param_grid)\n",
    "modelo_min_grid.fit(X_min_train_esc, y_train)\n",
    "print(\"Mejores parámetros:\", modelo_min_grid.best_params_)"
   ]
  },
  {
   "cell_type": "code",
   "execution_count": 53,
   "metadata": {
    "id": "PuGwvF2mxMqk"
   },
   "outputs": [],
   "source": [
    "modelo_min_opt = LinearRegression(fit_intercept=True, positive=False)\\\n",
    ".fit(X_min_train_esc, y_train)"
   ]
  },
  {
   "cell_type": "code",
   "execution_count": 54,
   "metadata": {
    "colab": {
     "base_uri": "https://localhost:8080/"
    },
    "id": "-I2nAZdVxMql",
    "outputId": "7082d7d3-31e4-4b3b-fffd-f502e17cc9fc"
   },
   "outputs": [
    {
     "name": "stdout",
     "output_type": "stream",
     "text": [
      "Regresión lineal, 3 variables independientes, R2: 0.897\n"
     ]
    }
   ],
   "source": [
    "print('Regresión lineal, 3 variables independientes, R2: '+str(modelo_min_opt.score(X_min_test_esc, y_test).round(3)))"
   ]
  },
  {
   "cell_type": "markdown",
   "metadata": {
    "id": "x4tsRic-zhI_"
   },
   "source": [
    "... y yendo un paso más allá, eliminando también los empates, el rendimiento sigue siendo prácticamente el mismo, 89.7%."
   ]
  },
  {
   "cell_type": "markdown",
   "metadata": {
    "id": "YDtjb6pCzwgN"
   },
   "source": [
    "Todo lo anterior significa que podemos predecir la clasificación de los equipos con un modelo de regresión lineal con un sólo parámetro, que combina las victorias como local y como visitante, prescindiendo de todas las demás variables, con bastante exactitud."
   ]
  },
  {
   "cell_type": "markdown",
   "metadata": {
    "id": "V4h7eM4orywM"
   },
   "source": [
    "Veamos un ejemplo:"
   ]
  },
  {
   "cell_type": "code",
   "execution_count": 55,
   "metadata": {
    "colab": {
     "base_uri": "https://localhost:8080/"
    },
    "id": "QImPa4YG0u_O",
    "outputId": "971e0e53-d8e3-4d9b-9cc6-ac134071a09f"
   },
   "outputs": [
    {
     "name": "stdout",
     "output_type": "stream",
     "text": [
      "La clasificación predicha es: 1º\n"
     ]
    }
   ],
   "source": [
    "import pandas as pd\n",
    "\n",
    "def predecir_clasificacion(modelo, ind_vic):\n",
    "    datos_para_prediccion = pd.DataFrame({'gan': [ind_vic]})\n",
    "    prediccion = modelo.predict(datos_para_prediccion).round(1)\n",
    "    pos = int(prediccion[0])\n",
    "    return pos\n",
    "\n",
    "ind_vic = 0.9\n",
    "rank = predecir_clasificacion(modelo_min_opt, ind_vic)\n",
    "if rank < 1:\n",
    "  rank = 1\n",
    "print(\"La clasificación predicha es: \"+str(rank)+\"º\")"
   ]
  },
  {
   "cell_type": "markdown",
   "metadata": {
    "id": "5DfdQ_Plr11R"
   },
   "source": [
    "Modificando el parámetro ind_vic (valores entre 0 y 1), podemos obtener la predicción de nuestro modelo de regresión lineal."
   ]
  },
  {
   "cell_type": "markdown",
   "metadata": {
    "id": "bVTztrHpwpsx"
   },
   "source": [
    "# Cross-validation"
   ]
  },
  {
   "cell_type": "markdown",
   "metadata": {
    "id": "Pr7hQ-4Vo-3q"
   },
   "source": [
    "Finalmente, podemos evaluar los rendimientos del modelo utilizando la validación cruzada:"
   ]
  },
  {
   "cell_type": "code",
   "execution_count": 56,
   "metadata": {
    "id": "_hUkXcgeHgsl"
   },
   "outputs": [],
   "source": [
    "X_combinada = pd.concat([X_min_train_esc, X_min_test_esc])\n",
    "y_combinada = pd.concat([y_train, y_test])"
   ]
  },
  {
   "cell_type": "markdown",
   "metadata": {
    "id": "fIKJQKYBIQUt"
   },
   "source": [
    "Recuperamos los datos mínimos transformados, es decir, aquellos que sólo incluyen una variable independiente."
   ]
  },
  {
   "cell_type": "code",
   "execution_count": 57,
   "metadata": {
    "colab": {
     "base_uri": "https://localhost:8080/"
    },
    "id": "H46YA21ZN2ZN",
    "outputId": "ef854f55-dba4-4e78-8bfa-240dd188b366"
   },
   "outputs": [
    {
     "name": "stdout",
     "output_type": "stream",
     "text": [
      "[0.90810109 0.90824179 0.93279942 0.9093283  0.89677121]\n"
     ]
    }
   ],
   "source": [
    "from sklearn.model_selection import cross_val_score\n",
    "\n",
    "cross_tree = cross_val_score(modelo_min_opt, X_combinada, y_combinada, cv=5)\n",
    "print(cross_tree)"
   ]
  },
  {
   "cell_type": "markdown",
   "metadata": {
    "id": "SLfbFUrrTAp3"
   },
   "source": [
    "Y vemos como efectivamente el modelo lineal explica el 90% de la varianza."
   ]
  },
  {
   "cell_type": "markdown",
   "metadata": {
    "id": "i-VeCgtf9ivd"
   },
   "source": [
    "# 2. División en grupos (clustering)"
   ]
  },
  {
   "cell_type": "markdown",
   "metadata": {
    "id": "RVMv0QDhOOS4"
   },
   "source": [
    "Aprovechando el estudio previo realizado para el modelo de regresión podemos también ajustar un modelo de clústering, que nos permita aproximar a los equipos de manera transversal entre los distintos grupos."
   ]
  },
  {
   "cell_type": "code",
   "execution_count": 58,
   "metadata": {
    "id": "RIssvBHhRYzs"
   },
   "outputs": [],
   "source": [
    "X_combinada = X_combinada.reset_index(drop=True)\n",
    "y_combinada = y_combinada.reset_index(drop=True)"
   ]
  },
  {
   "cell_type": "markdown",
   "metadata": {
    "id": "5-8JrzFltKmi"
   },
   "source": [
    "Trabajamos con los datos reducidos (a dos variables, una dependiente y una independiente)."
   ]
  },
  {
   "cell_type": "code",
   "execution_count": 59,
   "metadata": {
    "id": "lXs8Zq8mRN-I"
   },
   "outputs": [],
   "source": [
    "X_combinada = X_combinada.squeeze()\n",
    "y_combinada = y_combinada.squeeze()"
   ]
  },
  {
   "cell_type": "code",
   "execution_count": 60,
   "metadata": {
    "id": "ho079ozSQA03"
   },
   "outputs": [],
   "source": [
    "data = pd.DataFrame({'Victorias': X_combinada, 'Posicion': y_combinada})"
   ]
  },
  {
   "cell_type": "code",
   "execution_count": 61,
   "metadata": {
    "colab": {
     "base_uri": "https://localhost:8080/",
     "height": 476
    },
    "id": "3WzflYo6Tc_Q",
    "outputId": "7c28493c-e3dd-459b-ed42-5ad9a08e5d9f"
   },
   "outputs": [
    {
     "data": {
      "image/png": "[encoded data removed]",
      "text/plain": [
       "<Figure size 640x480 with 1 Axes>"
      ]
     },
     "metadata": {},
     "output_type": "display_data"
    }
   ],
   "source": [
    "plt.scatter(data['Victorias'], data['Posicion'], s=2, color = 'darkred')\n",
    "plt.xlabel('Victorias', size=10.5)\n",
    "plt.ylabel('Posición', size=10.5)\n",
    "plt.title('Ranking')\n",
    "plt.tick_params(axis='both', which='major', labelsize=10)\n",
    "plt.show()"
   ]
  },
  {
   "cell_type": "markdown",
   "metadata": {
    "id": "RNmmQOgzYLWH"
   },
   "source": [
    "Utilizando el modelo K-means para distintos números de clústers podemos evaluar el rendimiento mediante SSE (suma de errores al cuadrado - distancias de los puntos al nodo central de cada clúster elevadas al cuadrado y sumadas):"
   ]
  },
  {
   "cell_type": "code",
   "execution_count": 62,
   "metadata": {
    "id": "GFmrSyiWZfBP"
   },
   "outputs": [],
   "source": [
    "from sklearn.cluster import KMeans"
   ]
  },
  {
   "cell_type": "code",
   "execution_count": 63,
   "metadata": {
    "id": "cpnTAgxHYLWY"
   },
   "outputs": [],
   "source": [
    "kmeans_kwargs = {\n",
    "    \"init\": \"random\",\n",
    "    \"n_init\": 10,\n",
    "    \"max_iter\": 300,\n",
    "    \"random_state\": 1,\n",
    "}\n",
    "\n",
    "sse = []\n",
    "for k in range(1, 11):\n",
    "    kmeans = KMeans(n_clusters=k, **kmeans_kwargs)\n",
    "    kmeans.fit(data)\n",
    "    sse.append(kmeans.inertia_)"
   ]
  },
  {
   "cell_type": "markdown",
   "metadata": {
    "id": "iZoKkWPUYLWZ"
   },
   "source": [
    "Ahora que tenemos todos los errores en sse, los podemos mostrar en un gráfico:"
   ]
  },
  {
   "cell_type": "code",
   "execution_count": 64,
   "metadata": {
    "colab": {
     "base_uri": "https://localhost:8080/",
     "height": 342
    },
    "id": "QYZP5N5rYLWZ",
    "outputId": "97a56355-1b74-494d-f43e-9b0df170b73c"
   },
   "outputs": [
    {
     "data": {
      "image/png": "[encoded data removed]",
      "text/plain": [
       "<Figure size 400x300 with 1 Axes>"
      ]
     },
     "metadata": {},
     "output_type": "display_data"
    }
   ],
   "source": [
    "fig, ax = plt.subplots(figsize=(4, 3))\n",
    "ax.plot(range(1, 11), sse, color='black', lw=1)\n",
    "ax.set_xticks(range(1, 11))\n",
    "ax.set_xlabel(\"Número de clústers\")\n",
    "ax.set_ylabel(\"SSE\")\n",
    "ax.set_title(\"K-means / Data\")\n",
    "plt.grid(True)\n",
    "plt.show()"
   ]
  },
  {
   "cell_type": "markdown",
   "metadata": {
    "id": "jqb2aEcfYLWZ"
   },
   "source": [
    "Podemos ver como el punto del codo, que se suele considerar el óptimo para equilibrar número de clústers (cuanto menor mejor), y error SSE (cuando menor mejor), se encuentra en 2, 3 o 4 clústers. Por lo tanto necesitamos todavía un cálculo preciso ..."
   ]
  },
  {
   "cell_type": "code",
   "execution_count": 65,
   "metadata": {
    "colab": {
     "base_uri": "https://localhost:8080/"
    },
    "id": "AQMQqgZAYLWa",
    "outputId": "50ff9356-1798-44f9-d57b-a376ceb22c36"
   },
   "outputs": [
    {
     "name": "stdout",
     "output_type": "stream",
     "text": [
      "Collecting kneed\n",
      "  Downloading kneed-0.8.5-py3-none-any.whl (10 kB)\n",
      "Requirement already satisfied: numpy>=1.14.2 in /usr/local/lib/python3.10/dist-packages (from kneed) (1.25.2)\n",
      "Requirement already satisfied: scipy>=1.0.0 in /usr/local/lib/python3.10/dist-packages (from kneed) (1.11.4)\n",
      "Installing collected packages: kneed\n",
      "Successfully installed kneed-0.8.5\n"
     ]
    }
   ],
   "source": [
    "pip install kneed"
   ]
  },
  {
   "cell_type": "code",
   "execution_count": 66,
   "metadata": {
    "id": "NJs2buvSYLWa"
   },
   "outputs": [],
   "source": [
    "from kneed import KneeLocator"
   ]
  },
  {
   "cell_type": "code",
   "execution_count": 67,
   "metadata": {
    "colab": {
     "base_uri": "https://localhost:8080/"
    },
    "id": "3igA5SzkYLWb",
    "outputId": "3e8320d8-3010-4206-eccb-db0be678adab"
   },
   "outputs": [
    {
     "data": {
      "text/plain": [
       "3"
      ]
     },
     "execution_count": 67,
     "metadata": {},
     "output_type": "execute_result"
    }
   ],
   "source": [
    "kl = KneeLocator(range(1, 11), sse, curve=\"convex\", direction=\"decreasing\")\n",
    "kl.elbow"
   ]
  },
  {
   "cell_type": "markdown",
   "metadata": {
    "id": "OVANvE1XYLWb"
   },
   "source": [
    "... y lo obtenemos en el paquete kneed, clase KneeLocator, utilizando el método elbow, que nos da el punto exacto del codo, en este caso 3 clústeres."
   ]
  },
  {
   "cell_type": "code",
   "execution_count": 68,
   "metadata": {
    "id": "FaxB5AzcOwI-"
   },
   "outputs": [],
   "source": [
    "kmeans = KMeans(n_clusters=3, n_init=10)\n",
    "kmeans.fit(data)\n",
    "data['Cluster'] = kmeans.labels_"
   ]
  },
  {
   "cell_type": "markdown",
   "metadata": {
    "id": "2U5V5-GKf0qf"
   },
   "source": [
    "Aquí ya hemos obtenido una etiqueta para cada equipo, clasificándolo en uno de entre los 3 clústers."
   ]
  },
  {
   "cell_type": "markdown",
   "metadata": {
    "id": "nC8x-5TnfiOy"
   },
   "source": [
    "Obteniendo la siguiente distribución:"
   ]
  },
  {
   "cell_type": "code",
   "execution_count": 69,
   "metadata": {
    "id": "qPUzNjs_exIl"
   },
   "outputs": [],
   "source": [
    "clusters = data[['Posicion', 'Cluster']].value_counts().reset_index()\n",
    "clusters.columns = ['Posicion', 'Cluster', 'Conteo']"
   ]
  },
  {
   "cell_type": "code",
   "execution_count": 70,
   "metadata": {
    "id": "uRBlgZFug8Mb"
   },
   "outputs": [],
   "source": [
    "etiquetas = {0: 0, 2: 1, 1: 2}\n",
    "clusters.Cluster = clusters.Cluster.map(etiquetas)"
   ]
  },
  {
   "cell_type": "code",
   "execution_count": 71,
   "metadata": {
    "colab": {
     "base_uri": "https://localhost:8080/",
     "height": 551
    },
    "id": "SqSNWTXEezow",
    "outputId": "f62e037a-551b-48ac-b535-56c6e345c351"
   },
   "outputs": [
    {
     "data": {
      "application/vnd.google.colaboratory.intrinsic+json": {
       "summary": "{\n  \"name\": \"clusters\",\n  \"rows\": 16,\n  \"fields\": [\n    {\n      \"column\": \"Posicion\",\n      \"properties\": {\n        \"dtype\": \"number\",\n        \"std\": 4,\n        \"min\": 1,\n        \"max\": 16,\n        \"num_unique_values\": 16,\n        \"samples\": [\n          1,\n          2,\n          6\n        ],\n        \"semantic_type\": \"\",\n        \"description\": \"\"\n      }\n    },\n    {\n      \"column\": \"Cluster\",\n      \"properties\": {\n        \"dtype\": \"number\",\n        \"std\": 0,\n        \"min\": 0,\n        \"max\": 2,\n        \"num_unique_values\": 3,\n        \"samples\": [\n          2,\n          0,\n          1\n        ],\n        \"semantic_type\": \"\",\n        \"description\": \"\"\n      }\n    },\n    {\n      \"column\": \"Conteo\",\n      \"properties\": {\n        \"dtype\": \"number\",\n        \"std\": 7,\n        \"min\": 3,\n        \"max\": 29,\n        \"num_unique_values\": 6,\n        \"samples\": [\n          29,\n          27,\n          3\n        ],\n        \"semantic_type\": \"\",\n        \"description\": \"\"\n      }\n    }\n  ]\n}",
       "type": "dataframe",
       "variable_name": "clusters"
      },
      "text/html": [
       "\n",
       "  <div id=\"df-db66f29d-b32a-4988-bbc0-36c4871db253\" class=\"colab-df-container\">\n",
       "    <div>\n",
       "<style scoped>\n",
       "    .dataframe tbody tr th:only-of-type {\n",
       "        vertical-align: middle;\n",
       "    }\n",
       "\n",
       "    .dataframe tbody tr th {\n",
       "        vertical-align: top;\n",
       "    }\n",
       "\n",
       "    .dataframe thead th {\n",
       "        text-align: right;\n",
       "    }\n",
       "</style>\n",
       "<table border=\"1\" class=\"dataframe\">\n",
       "  <thead>\n",
       "    <tr style=\"text-align: right;\">\n",
       "      <th></th>\n",
       "      <th>Posicion</th>\n",
       "      <th>Cluster</th>\n",
       "      <th>Conteo</th>\n",
       "    </tr>\n",
       "  </thead>\n",
       "  <tbody>\n",
       "    <tr>\n",
       "      <th>0</th>\n",
       "      <td>1</td>\n",
       "      <td>2</td>\n",
       "      <td>29</td>\n",
       "    </tr>\n",
       "    <tr>\n",
       "      <th>1</th>\n",
       "      <td>2</td>\n",
       "      <td>2</td>\n",
       "      <td>29</td>\n",
       "    </tr>\n",
       "    <tr>\n",
       "      <th>2</th>\n",
       "      <td>3</td>\n",
       "      <td>2</td>\n",
       "      <td>29</td>\n",
       "    </tr>\n",
       "    <tr>\n",
       "      <th>3</th>\n",
       "      <td>4</td>\n",
       "      <td>2</td>\n",
       "      <td>29</td>\n",
       "    </tr>\n",
       "    <tr>\n",
       "      <th>4</th>\n",
       "      <td>5</td>\n",
       "      <td>2</td>\n",
       "      <td>29</td>\n",
       "    </tr>\n",
       "    <tr>\n",
       "      <th>5</th>\n",
       "      <td>6</td>\n",
       "      <td>0</td>\n",
       "      <td>29</td>\n",
       "    </tr>\n",
       "    <tr>\n",
       "      <th>6</th>\n",
       "      <td>7</td>\n",
       "      <td>0</td>\n",
       "      <td>29</td>\n",
       "    </tr>\n",
       "    <tr>\n",
       "      <th>7</th>\n",
       "      <td>8</td>\n",
       "      <td>0</td>\n",
       "      <td>29</td>\n",
       "    </tr>\n",
       "    <tr>\n",
       "      <th>8</th>\n",
       "      <td>9</td>\n",
       "      <td>0</td>\n",
       "      <td>29</td>\n",
       "    </tr>\n",
       "    <tr>\n",
       "      <th>9</th>\n",
       "      <td>10</td>\n",
       "      <td>0</td>\n",
       "      <td>29</td>\n",
       "    </tr>\n",
       "    <tr>\n",
       "      <th>10</th>\n",
       "      <td>11</td>\n",
       "      <td>1</td>\n",
       "      <td>29</td>\n",
       "    </tr>\n",
       "    <tr>\n",
       "      <th>11</th>\n",
       "      <td>12</td>\n",
       "      <td>1</td>\n",
       "      <td>27</td>\n",
       "    </tr>\n",
       "    <tr>\n",
       "      <th>12</th>\n",
       "      <td>13</td>\n",
       "      <td>1</td>\n",
       "      <td>24</td>\n",
       "    </tr>\n",
       "    <tr>\n",
       "      <th>13</th>\n",
       "      <td>14</td>\n",
       "      <td>1</td>\n",
       "      <td>18</td>\n",
       "    </tr>\n",
       "    <tr>\n",
       "      <th>14</th>\n",
       "      <td>15</td>\n",
       "      <td>1</td>\n",
       "      <td>13</td>\n",
       "    </tr>\n",
       "    <tr>\n",
       "      <th>15</th>\n",
       "      <td>16</td>\n",
       "      <td>1</td>\n",
       "      <td>3</td>\n",
       "    </tr>\n",
       "  </tbody>\n",
       "</table>\n",
       "</div>\n",
       "    <div class=\"colab-df-buttons\">\n",
       "\n",
       "  <div class=\"colab-df-container\">\n",
       "    <button class=\"colab-df-convert\" onclick=\"convertToInteractive('df-db66f29d-b32a-4988-bbc0-36c4871db253')\"\n",
       "            title=\"Convert this dataframe to an interactive table.\"\n",
       "            style=\"display:none;\">\n",
       "\n",
       "  <svg xmlns=\"http://www.w3.org/2000/svg\" height=\"24px\" viewBox=\"0 -960 960 960\">\n",
       "    <path d=\"M120-120v-720h720v720H120Zm60-500h600v-160H180v160Zm220 220h160v-160H400v160Zm0 220h160v-160H400v160ZM180-400h160v-160H180v160Zm440 0h160v-160H620v160ZM180-180h160v-160H180v160Zm440 0h160v-160H620v160Z\"/>\n",
       "  </svg>\n",
       "    </button>\n",
       "\n",
       "  <style>\n",
       "    .colab-df-container {\n",
       "      display:flex;\n",
       "      gap: 12px;\n",
       "    }\n",
       "\n",
       "    .colab-df-convert {\n",
       "      background-color: #E8F0FE;\n",
       "      border: none;\n",
       "      border-radius: 50%;\n",
       "      cursor: pointer;\n",
       "      display: none;\n",
       "      fill: #1967D2;\n",
       "      height: 32px;\n",
       "      padding: 0 0 0 0;\n",
       "      width: 32px;\n",
       "    }\n",
       "\n",
       "    .colab-df-convert:hover {\n",
       "      background-color: #E2EBFA;\n",
       "      box-shadow: 0px 1px 2px rgba(60, 64, 67, 0.3), 0px 1px 3px 1px rgba(60, 64, 67, 0.15);\n",
       "      fill: #174EA6;\n",
       "    }\n",
       "\n",
       "    .colab-df-buttons div {\n",
       "      margin-bottom: 4px;\n",
       "    }\n",
       "\n",
       "    [theme=dark] .colab-df-convert {\n",
       "      background-color: #3B4455;\n",
       "      fill: #D2E3FC;\n",
       "    }\n",
       "\n",
       "    [theme=dark] .colab-df-convert:hover {\n",
       "      background-color: #434B5C;\n",
       "      box-shadow: 0px 1px 3px 1px rgba(0, 0, 0, 0.15);\n",
       "      filter: drop-shadow(0px 1px 2px rgba(0, 0, 0, 0.3));\n",
       "      fill: #FFFFFF;\n",
       "    }\n",
       "  </style>\n",
       "\n",
       "    <script>\n",
       "      const buttonEl =\n",
       "        document.querySelector('#df-db66f29d-b32a-4988-bbc0-36c4871db253 button.colab-df-convert');\n",
       "      buttonEl.style.display =\n",
       "        google.colab.kernel.accessAllowed ? 'block' : 'none';\n",
       "\n",
       "      async function convertToInteractive(key) {\n",
       "        const element = document.querySelector('#df-db66f29d-b32a-4988-bbc0-36c4871db253');\n",
       "        const dataTable =\n",
       "          await google.colab.kernel.invokeFunction('convertToInteractive',\n",
       "                                                    [key], {});\n",
       "        if (!dataTable) return;\n",
       "\n",
       "        const docLinkHtml = 'Like what you see? Visit the ' +\n",
       "          '<a target=\"_blank\" href=https://colab.research.google.com/notebooks/data_table.ipynb>data table notebook</a>'\n",
       "          + ' to learn more about interactive tables.';\n",
       "        element.innerHTML = '';\n",
       "        dataTable['output_type'] = 'display_data';\n",
       "        await google.colab.output.renderOutput(dataTable, element);\n",
       "        const docLink = document.createElement('div');\n",
       "        docLink.innerHTML = docLinkHtml;\n",
       "        element.appendChild(docLink);\n",
       "      }\n",
       "    </script>\n",
       "  </div>\n",
       "\n",
       "\n",
       "<div id=\"df-c2bb120b-d729-4e6c-8459-f919efde8ea5\">\n",
       "  <button class=\"colab-df-quickchart\" onclick=\"quickchart('df-c2bb120b-d729-4e6c-8459-f919efde8ea5')\"\n",
       "            title=\"Suggest charts\"\n",
       "            style=\"display:none;\">\n",
       "\n",
       "<svg xmlns=\"http://www.w3.org/2000/svg\" height=\"24px\"viewBox=\"0 0 24 24\"\n",
       "     width=\"24px\">\n",
       "    <g>\n",
       "        <path d=\"M19 3H5c-1.1 0-2 .9-2 2v14c0 1.1.9 2 2 2h14c1.1 0 2-.9 2-2V5c0-1.1-.9-2-2-2zM9 17H7v-7h2v7zm4 0h-2V7h2v10zm4 0h-2v-4h2v4z\"/>\n",
       "    </g>\n",
       "</svg>\n",
       "  </button>\n",
       "\n",
       "<style>\n",
       "  .colab-df-quickchart {\n",
       "      --bg-color: #E8F0FE;\n",
       "      --fill-color: #1967D2;\n",
       "      --hover-bg-color: #E2EBFA;\n",
       "      --hover-fill-color: #174EA6;\n",
       "      --disabled-fill-color: #AAA;\n",
       "      --disabled-bg-color: #DDD;\n",
       "  }\n",
       "\n",
       "  [theme=dark] .colab-df-quickchart {\n",
       "      --bg-color: #3B4455;\n",
       "      --fill-color: #D2E3FC;\n",
       "      --hover-bg-color: #434B5C;\n",
       "      --hover-fill-color: #FFFFFF;\n",
       "      --disabled-bg-color: #3B4455;\n",
       "      --disabled-fill-color: #666;\n",
       "  }\n",
       "\n",
       "  .colab-df-quickchart {\n",
       "    background-color: var(--bg-color);\n",
       "    border: none;\n",
       "    border-radius: 50%;\n",
       "    cursor: pointer;\n",
       "    display: none;\n",
       "    fill: var(--fill-color);\n",
       "    height: 32px;\n",
       "    padding: 0;\n",
       "    width: 32px;\n",
       "  }\n",
       "\n",
       "  .colab-df-quickchart:hover {\n",
       "    background-color: var(--hover-bg-color);\n",
       "    box-shadow: 0 1px 2px rgba(60, 64, 67, 0.3), 0 1px 3px 1px rgba(60, 64, 67, 0.15);\n",
       "    fill: var(--button-hover-fill-color);\n",
       "  }\n",
       "\n",
       "  .colab-df-quickchart-complete:disabled,\n",
       "  .colab-df-quickchart-complete:disabled:hover {\n",
       "    background-color: var(--disabled-bg-color);\n",
       "    fill: var(--disabled-fill-color);\n",
       "    box-shadow: none;\n",
       "  }\n",
       "\n",
       "  .colab-df-spinner {\n",
       "    border: 2px solid var(--fill-color);\n",
       "    border-color: transparent;\n",
       "    border-bottom-color: var(--fill-color);\n",
       "    animation:\n",
       "      spin 1s steps(1) infinite;\n",
       "  }\n",
       "\n",
       "  @keyframes spin {\n",
       "    0% {\n",
       "      border-color: transparent;\n",
       "      border-bottom-color: var(--fill-color);\n",
       "      border-left-color: var(--fill-color);\n",
       "    }\n",
       "    20% {\n",
       "      border-color: transparent;\n",
       "      border-left-color: var(--fill-color);\n",
       "      border-top-color: var(--fill-color);\n",
       "    }\n",
       "    30% {\n",
       "      border-color: transparent;\n",
       "      border-left-color: var(--fill-color);\n",
       "      border-top-color: var(--fill-color);\n",
       "      border-right-color: var(--fill-color);\n",
       "    }\n",
       "    40% {\n",
       "      border-color: transparent;\n",
       "      border-right-color: var(--fill-color);\n",
       "      border-top-color: var(--fill-color);\n",
       "    }\n",
       "    60% {\n",
       "      border-color: transparent;\n",
       "      border-right-color: var(--fill-color);\n",
       "    }\n",
       "    80% {\n",
       "      border-color: transparent;\n",
       "      border-right-color: var(--fill-color);\n",
       "      border-bottom-color: var(--fill-color);\n",
       "    }\n",
       "    90% {\n",
       "      border-color: transparent;\n",
       "      border-bottom-color: var(--fill-color);\n",
       "    }\n",
       "  }\n",
       "</style>\n",
       "\n",
       "  <script>\n",
       "    async function quickchart(key) {\n",
       "      const quickchartButtonEl =\n",
       "        document.querySelector('#' + key + ' button');\n",
       "      quickchartButtonEl.disabled = true;  // To prevent multiple clicks.\n",
       "      quickchartButtonEl.classList.add('colab-df-spinner');\n",
       "      try {\n",
       "        const charts = await google.colab.kernel.invokeFunction(\n",
       "            'suggestCharts', [key], {});\n",
       "      } catch (error) {\n",
       "        console.error('Error during call to suggestCharts:', error);\n",
       "      }\n",
       "      quickchartButtonEl.classList.remove('colab-df-spinner');\n",
       "      quickchartButtonEl.classList.add('colab-df-quickchart-complete');\n",
       "    }\n",
       "    (() => {\n",
       "      let quickchartButtonEl =\n",
       "        document.querySelector('#df-c2bb120b-d729-4e6c-8459-f919efde8ea5 button');\n",
       "      quickchartButtonEl.style.display =\n",
       "        google.colab.kernel.accessAllowed ? 'block' : 'none';\n",
       "    })();\n",
       "  </script>\n",
       "</div>\n",
       "    </div>\n",
       "  </div>\n"
      ],
      "text/plain": [
       "    Posicion  Cluster  Conteo\n",
       "0          1        2      29\n",
       "1          2        2      29\n",
       "2          3        2      29\n",
       "3          4        2      29\n",
       "4          5        2      29\n",
       "5          6        0      29\n",
       "6          7        0      29\n",
       "7          8        0      29\n",
       "8          9        0      29\n",
       "9         10        0      29\n",
       "10        11        1      29\n",
       "11        12        1      27\n",
       "12        13        1      24\n",
       "13        14        1      18\n",
       "14        15        1      13\n",
       "15        16        1       3"
      ]
     },
     "execution_count": 71,
     "metadata": {},
     "output_type": "execute_result"
    }
   ],
   "source": [
    "clusters"
   ]
  },
  {
   "cell_type": "markdown",
   "metadata": {
    "id": "lP0FyJ7_hqSB"
   },
   "source": [
    "La interpretación ahora es sencilla, `kmeans` distribuye los equipos en tres grupos (clústers), donde la variable determinante es la posición que ocupan en la tabla:\n",
    "- Clúster 0: 1-5.\n",
    "- Clúster 1: 6-10.\n",
    "- Clúster 2: 11-16."
   ]
  },
  {
   "cell_type": "markdown",
   "metadata": {
    "id": "-DDllh66tlUH"
   },
   "source": [
    "Finalmente podemos obtener el rendimiento del algoritmo `kmeans` para unir de manera transversal a los equipos de los 29 grupos de nuestra liga, utilizando el método Silhouette, de la librería sklearn, siendo el siguiente:"
   ]
  },
  {
   "cell_type": "code",
   "execution_count": 72,
   "metadata": {
    "id": "blei09ormkJ4"
   },
   "outputs": [],
   "source": [
    "from sklearn.metrics import silhouette_score"
   ]
  },
  {
   "cell_type": "code",
   "execution_count": 73,
   "metadata": {
    "colab": {
     "base_uri": "https://localhost:8080/"
    },
    "id": "GwJYEBvrm__K",
    "outputId": "6e758313-4ded-40af-d2ee-9ded09e8858a"
   },
   "outputs": [
    {
     "name": "stdout",
     "output_type": "stream",
     "text": [
      "Silhouette kmeans con 3 clústers: 0.63\n"
     ]
    }
   ],
   "source": [
    "score = silhouette_score(data, kmeans.labels_).round(3)\n",
    "\n",
    "print('Silhouette kmeans con 3 clústers: '+str(score))"
   ]
  },
  {
   "cell_type": "markdown",
   "metadata": {
    "id": "jtCBVZBlnims"
   },
   "source": [
    "Si bien un rendimiento de Silhouette de 0.61 no se puede considerar muy alto en términos generales, conociendo nuestra liga (grupo 17) parece acertado, en tanto los equipos que ocupan las posiciones 1 - 5 se destacan en nivel y registros de los equipos que les siguen, del mismo modo que los equipos que ocupan las posiciones 6 - 10, se destacan de los que les siguen, siendo la evidencia más clara la diferencia de puntos por partido."
   ]
  },
  {
   "cell_type": "code",
   "execution_count": 74,
   "metadata": {
    "colab": {
     "base_uri": "https://localhost:8080/",
     "height": 953
    },
    "id": "pKs8qEkJuiLr",
    "outputId": "6370e095-bcaa-4083-c3d7-5e9184a35d51"
   },
   "outputs": [
    {
     "data": {
      "application/vnd.google.colaboratory.intrinsic+json": {
       "summary": "{\n  \"name\": \"equipos[equipos['grupo'] == 17]\",\n  \"rows\": 16,\n  \"fields\": [\n    {\n      \"column\": \"grupo\",\n      \"properties\": {\n        \"dtype\": \"number\",\n        \"std\": 0,\n        \"min\": 17,\n        \"max\": 17,\n        \"num_unique_values\": 1,\n        \"samples\": [\n          17\n        ],\n        \"semantic_type\": \"\",\n        \"description\": \"\"\n      }\n    },\n    {\n      \"column\": \"rank\",\n      \"properties\": {\n        \"dtype\": \"number\",\n        \"std\": 4,\n        \"min\": 1,\n        \"max\": 16,\n        \"num_unique_values\": 16,\n        \"samples\": [\n          1\n        ],\n        \"semantic_type\": \"\",\n        \"description\": \"\"\n      }\n    },\n    {\n      \"column\": \"nombre\",\n      \"properties\": {\n        \"dtype\": \"string\",\n        \"num_unique_values\": 16,\n        \"samples\": [\n          \"JOVENTUT TEIA CLUB FUTBOL B\"\n        ],\n        \"semantic_type\": \"\",\n        \"description\": \"\"\n      }\n    },\n    {\n      \"column\": \"puntos\",\n      \"properties\": {\n        \"dtype\": \"number\",\n        \"std\": 0.9175417792485892,\n        \"min\": 0.07,\n        \"max\": 2.87,\n        \"num_unique_values\": 12,\n        \"samples\": [\n          0.2\n        ],\n        \"semantic_type\": \"\",\n        \"description\": \"\"\n      }\n    },\n    {\n      \"column\": \"gan_loc\",\n      \"properties\": {\n        \"dtype\": \"number\",\n        \"std\": 0.35800314244430875,\n        \"min\": 0.0,\n        \"max\": 1.0,\n        \"num_unique_values\": 11,\n        \"samples\": [\n          0.38\n        ],\n        \"semantic_type\": \"\",\n        \"description\": \"\"\n      }\n    },\n    {\n      \"column\": \"emp_loc\",\n      \"properties\": {\n        \"dtype\": \"number\",\n        \"std\": 0.07837676101158217,\n        \"min\": 0.0,\n        \"max\": 0.29,\n        \"num_unique_values\": 3,\n        \"samples\": [\n          0.0\n        ],\n        \"semantic_type\": \"\",\n        \"description\": \"\"\n      }\n    },\n    {\n      \"column\": \"per_loc\",\n      \"properties\": {\n        \"dtype\": \"number\",\n        \"std\": 0.36596390987819183,\n        \"min\": 0.0,\n        \"max\": 1.0,\n        \"num_unique_values\": 9,\n        \"samples\": [\n          0.88\n        ],\n        \"semantic_type\": \"\",\n        \"description\": \"\"\n      }\n    },\n    {\n      \"column\": \"gan_vis\",\n      \"properties\": {\n        \"dtype\": \"number\",\n        \"std\": 0.27110883423451915,\n        \"min\": 0.0,\n        \"max\": 0.86,\n        \"num_unique_values\": 11,\n        \"samples\": [\n          0.5\n        ],\n        \"semantic_type\": \"\",\n        \"description\": \"\"\n      }\n    },\n    {\n      \"column\": \"emp_vis\",\n      \"properties\": {\n        \"dtype\": \"number\",\n        \"std\": 0.051234753829797995,\n        \"min\": 0.0,\n        \"max\": 0.14,\n        \"num_unique_values\": 3,\n        \"samples\": [\n          0.14\n        ],\n        \"semantic_type\": \"\",\n        \"description\": \"\"\n      }\n    },\n    {\n      \"column\": \"per_vis\",\n      \"properties\": {\n        \"dtype\": \"number\",\n        \"std\": 0.2787643867737293,\n        \"min\": 0.0,\n        \"max\": 0.88,\n        \"num_unique_values\": 11,\n        \"samples\": [\n          0.38\n        ],\n        \"semantic_type\": \"\",\n        \"description\": \"\"\n      }\n    },\n    {\n      \"column\": \"gol_fav\",\n      \"properties\": {\n        \"dtype\": \"number\",\n        \"std\": 2.1837077605149764,\n        \"min\": 1.47,\n        \"max\": 8.53,\n        \"num_unique_values\": 14,\n        \"samples\": [\n          3.47\n        ],\n        \"semantic_type\": \"\",\n        \"description\": \"\"\n      }\n    },\n    {\n      \"column\": \"gol_con\",\n      \"properties\": {\n        \"dtype\": \"number\",\n        \"std\": 2.3776023462022966,\n        \"min\": 1.0,\n        \"max\": 8.07,\n        \"num_unique_values\": 16,\n        \"samples\": [\n          1.4\n        ],\n        \"semantic_type\": \"\",\n        \"description\": \"\"\n      }\n    },\n    {\n      \"column\": \"dif_gol\",\n      \"properties\": {\n        \"dtype\": \"number\",\n        \"std\": 4.363645265142436,\n        \"min\": -5.6,\n        \"max\": 7.13,\n        \"num_unique_values\": 15,\n        \"samples\": [\n          -2.73\n        ],\n        \"semantic_type\": \"\",\n        \"description\": \"\"\n      }\n    }\n  ]\n}",
       "type": "dataframe"
      },
      "text/html": [
       "\n",
       "  <div id=\"df-03dafff5-6b96-488e-a9a7-1ad5fe24cb4e\" class=\"colab-df-container\">\n",
       "    <div>\n",
       "<style scoped>\n",
       "    .dataframe tbody tr th:only-of-type {\n",
       "        vertical-align: middle;\n",
       "    }\n",
       "\n",
       "    .dataframe tbody tr th {\n",
       "        vertical-align: top;\n",
       "    }\n",
       "\n",
       "    .dataframe thead th {\n",
       "        text-align: right;\n",
       "    }\n",
       "</style>\n",
       "<table border=\"1\" class=\"dataframe\">\n",
       "  <thead>\n",
       "    <tr style=\"text-align: right;\">\n",
       "      <th></th>\n",
       "      <th>grupo</th>\n",
       "      <th>rank</th>\n",
       "      <th>nombre</th>\n",
       "      <th>puntos</th>\n",
       "      <th>gan_loc</th>\n",
       "      <th>emp_loc</th>\n",
       "      <th>per_loc</th>\n",
       "      <th>gan_vis</th>\n",
       "      <th>emp_vis</th>\n",
       "      <th>per_vis</th>\n",
       "      <th>gol_fav</th>\n",
       "      <th>gol_con</th>\n",
       "      <th>dif_gol</th>\n",
       "    </tr>\n",
       "  </thead>\n",
       "  <tbody>\n",
       "    <tr>\n",
       "      <th>222</th>\n",
       "      <td>17</td>\n",
       "      <td>1</td>\n",
       "      <td>JOVENTUT TEIA CLUB FUTBOL B</td>\n",
       "      <td>2.87</td>\n",
       "      <td>1.00</td>\n",
       "      <td>0.00</td>\n",
       "      <td>0.00</td>\n",
       "      <td>0.86</td>\n",
       "      <td>0.14</td>\n",
       "      <td>0.00</td>\n",
       "      <td>8.53</td>\n",
       "      <td>1.40</td>\n",
       "      <td>7.13</td>\n",
       "    </tr>\n",
       "    <tr>\n",
       "      <th>223</th>\n",
       "      <td>17</td>\n",
       "      <td>2</td>\n",
       "      <td>ROCAFONDA CLUB FUTBOL A</td>\n",
       "      <td>2.60</td>\n",
       "      <td>1.00</td>\n",
       "      <td>0.00</td>\n",
       "      <td>0.00</td>\n",
       "      <td>0.71</td>\n",
       "      <td>0.00</td>\n",
       "      <td>0.29</td>\n",
       "      <td>6.87</td>\n",
       "      <td>1.27</td>\n",
       "      <td>5.60</td>\n",
       "    </tr>\n",
       "    <tr>\n",
       "      <th>224</th>\n",
       "      <td>17</td>\n",
       "      <td>3</td>\n",
       "      <td>PREMIA DALT, C.D. C</td>\n",
       "      <td>2.60</td>\n",
       "      <td>1.00</td>\n",
       "      <td>0.00</td>\n",
       "      <td>0.00</td>\n",
       "      <td>0.71</td>\n",
       "      <td>0.00</td>\n",
       "      <td>0.29</td>\n",
       "      <td>7.13</td>\n",
       "      <td>1.93</td>\n",
       "      <td>5.20</td>\n",
       "    </tr>\n",
       "    <tr>\n",
       "      <th>225</th>\n",
       "      <td>17</td>\n",
       "      <td>4</td>\n",
       "      <td>JUVENTUS, A.C. B</td>\n",
       "      <td>2.47</td>\n",
       "      <td>0.86</td>\n",
       "      <td>0.14</td>\n",
       "      <td>0.00</td>\n",
       "      <td>0.75</td>\n",
       "      <td>0.00</td>\n",
       "      <td>0.25</td>\n",
       "      <td>6.20</td>\n",
       "      <td>1.00</td>\n",
       "      <td>5.20</td>\n",
       "    </tr>\n",
       "    <tr>\n",
       "      <th>226</th>\n",
       "      <td>17</td>\n",
       "      <td>5</td>\n",
       "      <td>VILASSAR MAR,U.E. C</td>\n",
       "      <td>2.40</td>\n",
       "      <td>0.78</td>\n",
       "      <td>0.00</td>\n",
       "      <td>0.22</td>\n",
       "      <td>0.83</td>\n",
       "      <td>0.00</td>\n",
       "      <td>0.17</td>\n",
       "      <td>6.93</td>\n",
       "      <td>2.87</td>\n",
       "      <td>4.07</td>\n",
       "    </tr>\n",
       "    <tr>\n",
       "      <th>227</th>\n",
       "      <td>17</td>\n",
       "      <td>6</td>\n",
       "      <td>ARGENTONA, C.F. B</td>\n",
       "      <td>1.87</td>\n",
       "      <td>0.57</td>\n",
       "      <td>0.00</td>\n",
       "      <td>0.43</td>\n",
       "      <td>0.62</td>\n",
       "      <td>0.12</td>\n",
       "      <td>0.25</td>\n",
       "      <td>3.00</td>\n",
       "      <td>2.73</td>\n",
       "      <td>0.27</td>\n",
       "    </tr>\n",
       "    <tr>\n",
       "      <th>228</th>\n",
       "      <td>17</td>\n",
       "      <td>7</td>\n",
       "      <td>FUNDACIÓ ESPORTIVA MONTGAT B</td>\n",
       "      <td>1.60</td>\n",
       "      <td>0.57</td>\n",
       "      <td>0.00</td>\n",
       "      <td>0.43</td>\n",
       "      <td>0.50</td>\n",
       "      <td>0.00</td>\n",
       "      <td>0.50</td>\n",
       "      <td>5.40</td>\n",
       "      <td>5.67</td>\n",
       "      <td>-0.27</td>\n",
       "    </tr>\n",
       "    <tr>\n",
       "      <th>229</th>\n",
       "      <td>17</td>\n",
       "      <td>8</td>\n",
       "      <td>HAMELIN-LAIE, C.E. A</td>\n",
       "      <td>1.53</td>\n",
       "      <td>0.29</td>\n",
       "      <td>0.29</td>\n",
       "      <td>0.43</td>\n",
       "      <td>0.62</td>\n",
       "      <td>0.00</td>\n",
       "      <td>0.38</td>\n",
       "      <td>4.87</td>\n",
       "      <td>4.93</td>\n",
       "      <td>-0.07</td>\n",
       "    </tr>\n",
       "    <tr>\n",
       "      <th>230</th>\n",
       "      <td>17</td>\n",
       "      <td>9</td>\n",
       "      <td>CALELLA, C.F. B</td>\n",
       "      <td>1.40</td>\n",
       "      <td>0.38</td>\n",
       "      <td>0.00</td>\n",
       "      <td>0.62</td>\n",
       "      <td>0.57</td>\n",
       "      <td>0.00</td>\n",
       "      <td>0.43</td>\n",
       "      <td>4.73</td>\n",
       "      <td>3.20</td>\n",
       "      <td>1.53</td>\n",
       "    </tr>\n",
       "    <tr>\n",
       "      <th>231</th>\n",
       "      <td>17</td>\n",
       "      <td>10</td>\n",
       "      <td>MASNOU, C.D. B</td>\n",
       "      <td>1.40</td>\n",
       "      <td>0.43</td>\n",
       "      <td>0.00</td>\n",
       "      <td>0.57</td>\n",
       "      <td>0.50</td>\n",
       "      <td>0.00</td>\n",
       "      <td>0.50</td>\n",
       "      <td>3.47</td>\n",
       "      <td>5.13</td>\n",
       "      <td>-1.67</td>\n",
       "    </tr>\n",
       "    <tr>\n",
       "      <th>232</th>\n",
       "      <td>17</td>\n",
       "      <td>11</td>\n",
       "      <td>PLA D'EN BOET,CLUB ESP. A</td>\n",
       "      <td>0.80</td>\n",
       "      <td>0.17</td>\n",
       "      <td>0.00</td>\n",
       "      <td>0.83</td>\n",
       "      <td>0.33</td>\n",
       "      <td>0.00</td>\n",
       "      <td>0.67</td>\n",
       "      <td>3.27</td>\n",
       "      <td>6.00</td>\n",
       "      <td>-2.73</td>\n",
       "    </tr>\n",
       "    <tr>\n",
       "      <th>233</th>\n",
       "      <td>17</td>\n",
       "      <td>12</td>\n",
       "      <td>ALELLA, C.F. B</td>\n",
       "      <td>0.80</td>\n",
       "      <td>0.14</td>\n",
       "      <td>0.00</td>\n",
       "      <td>0.86</td>\n",
       "      <td>0.38</td>\n",
       "      <td>0.00</td>\n",
       "      <td>0.62</td>\n",
       "      <td>2.53</td>\n",
       "      <td>6.33</td>\n",
       "      <td>-3.80</td>\n",
       "    </tr>\n",
       "    <tr>\n",
       "      <th>234</th>\n",
       "      <td>17</td>\n",
       "      <td>13</td>\n",
       "      <td>CABRILS, C.E. A</td>\n",
       "      <td>0.80</td>\n",
       "      <td>0.38</td>\n",
       "      <td>0.00</td>\n",
       "      <td>0.62</td>\n",
       "      <td>0.14</td>\n",
       "      <td>0.00</td>\n",
       "      <td>0.86</td>\n",
       "      <td>2.13</td>\n",
       "      <td>7.73</td>\n",
       "      <td>-5.60</td>\n",
       "    </tr>\n",
       "    <tr>\n",
       "      <th>235</th>\n",
       "      <td>17</td>\n",
       "      <td>14</td>\n",
       "      <td>SINERA UNITED FUTBOL CLUB ASS. A</td>\n",
       "      <td>0.40</td>\n",
       "      <td>0.12</td>\n",
       "      <td>0.00</td>\n",
       "      <td>0.88</td>\n",
       "      <td>0.14</td>\n",
       "      <td>0.00</td>\n",
       "      <td>0.86</td>\n",
       "      <td>2.53</td>\n",
       "      <td>8.07</td>\n",
       "      <td>-5.53</td>\n",
       "    </tr>\n",
       "    <tr>\n",
       "      <th>236</th>\n",
       "      <td>17</td>\n",
       "      <td>15</td>\n",
       "      <td>CIRERA, U.D. C</td>\n",
       "      <td>0.20</td>\n",
       "      <td>0.00</td>\n",
       "      <td>0.00</td>\n",
       "      <td>1.00</td>\n",
       "      <td>0.14</td>\n",
       "      <td>0.00</td>\n",
       "      <td>0.86</td>\n",
       "      <td>2.13</td>\n",
       "      <td>6.53</td>\n",
       "      <td>-4.40</td>\n",
       "    </tr>\n",
       "    <tr>\n",
       "      <th>237</th>\n",
       "      <td>17</td>\n",
       "      <td>16</td>\n",
       "      <td>MASNOU AT. D</td>\n",
       "      <td>0.07</td>\n",
       "      <td>0.00</td>\n",
       "      <td>0.00</td>\n",
       "      <td>1.00</td>\n",
       "      <td>0.00</td>\n",
       "      <td>0.12</td>\n",
       "      <td>0.88</td>\n",
       "      <td>1.47</td>\n",
       "      <td>6.40</td>\n",
       "      <td>-4.93</td>\n",
       "    </tr>\n",
       "  </tbody>\n",
       "</table>\n",
       "</div>\n",
       "    <div class=\"colab-df-buttons\">\n",
       "\n",
       "  <div class=\"colab-df-container\">\n",
       "    <button class=\"colab-df-convert\" onclick=\"convertToInteractive('df-03dafff5-6b96-488e-a9a7-1ad5fe24cb4e')\"\n",
       "            title=\"Convert this dataframe to an interactive table.\"\n",
       "            style=\"display:none;\">\n",
       "\n",
       "  <svg xmlns=\"http://www.w3.org/2000/svg\" height=\"24px\" viewBox=\"0 -960 960 960\">\n",
       "    <path d=\"M120-120v-720h720v720H120Zm60-500h600v-160H180v160Zm220 220h160v-160H400v160Zm0 220h160v-160H400v160ZM180-400h160v-160H180v160Zm440 0h160v-160H620v160ZM180-180h160v-160H180v160Zm440 0h160v-160H620v160Z\"/>\n",
       "  </svg>\n",
       "    </button>\n",
       "\n",
       "  <style>\n",
       "    .colab-df-container {\n",
       "      display:flex;\n",
       "      gap: 12px;\n",
       "    }\n",
       "\n",
       "    .colab-df-convert {\n",
       "      background-color: #E8F0FE;\n",
       "      border: none;\n",
       "      border-radius: 50%;\n",
       "      cursor: pointer;\n",
       "      display: none;\n",
       "      fill: #1967D2;\n",
       "      height: 32px;\n",
       "      padding: 0 0 0 0;\n",
       "      width: 32px;\n",
       "    }\n",
       "\n",
       "    .colab-df-convert:hover {\n",
       "      background-color: #E2EBFA;\n",
       "      box-shadow: 0px 1px 2px rgba(60, 64, 67, 0.3), 0px 1px 3px 1px rgba(60, 64, 67, 0.15);\n",
       "      fill: #174EA6;\n",
       "    }\n",
       "\n",
       "    .colab-df-buttons div {\n",
       "      margin-bottom: 4px;\n",
       "    }\n",
       "\n",
       "    [theme=dark] .colab-df-convert {\n",
       "      background-color: #3B4455;\n",
       "      fill: #D2E3FC;\n",
       "    }\n",
       "\n",
       "    [theme=dark] .colab-df-convert:hover {\n",
       "      background-color: #434B5C;\n",
       "      box-shadow: 0px 1px 3px 1px rgba(0, 0, 0, 0.15);\n",
       "      filter: drop-shadow(0px 1px 2px rgba(0, 0, 0, 0.3));\n",
       "      fill: #FFFFFF;\n",
       "    }\n",
       "  </style>\n",
       "\n",
       "    <script>\n",
       "      const buttonEl =\n",
       "        document.querySelector('#df-03dafff5-6b96-488e-a9a7-1ad5fe24cb4e button.colab-df-convert');\n",
       "      buttonEl.style.display =\n",
       "        google.colab.kernel.accessAllowed ? 'block' : 'none';\n",
       "\n",
       "      async function convertToInteractive(key) {\n",
       "        const element = document.querySelector('#df-03dafff5-6b96-488e-a9a7-1ad5fe24cb4e');\n",
       "        const dataTable =\n",
       "          await google.colab.kernel.invokeFunction('convertToInteractive',\n",
       "                                                    [key], {});\n",
       "        if (!dataTable) return;\n",
       "\n",
       "        const docLinkHtml = 'Like what you see? Visit the ' +\n",
       "          '<a target=\"_blank\" href=https://colab.research.google.com/notebooks/data_table.ipynb>data table notebook</a>'\n",
       "          + ' to learn more about interactive tables.';\n",
       "        element.innerHTML = '';\n",
       "        dataTable['output_type'] = 'display_data';\n",
       "        await google.colab.output.renderOutput(dataTable, element);\n",
       "        const docLink = document.createElement('div');\n",
       "        docLink.innerHTML = docLinkHtml;\n",
       "        element.appendChild(docLink);\n",
       "      }\n",
       "    </script>\n",
       "  </div>\n",
       "\n",
       "\n",
       "<div id=\"df-a51967de-98c6-40ee-b5e1-f4110357ab76\">\n",
       "  <button class=\"colab-df-quickchart\" onclick=\"quickchart('df-a51967de-98c6-40ee-b5e1-f4110357ab76')\"\n",
       "            title=\"Suggest charts\"\n",
       "            style=\"display:none;\">\n",
       "\n",
       "<svg xmlns=\"http://www.w3.org/2000/svg\" height=\"24px\"viewBox=\"0 0 24 24\"\n",
       "     width=\"24px\">\n",
       "    <g>\n",
       "        <path d=\"M19 3H5c-1.1 0-2 .9-2 2v14c0 1.1.9 2 2 2h14c1.1 0 2-.9 2-2V5c0-1.1-.9-2-2-2zM9 17H7v-7h2v7zm4 0h-2V7h2v10zm4 0h-2v-4h2v4z\"/>\n",
       "    </g>\n",
       "</svg>\n",
       "  </button>\n",
       "\n",
       "<style>\n",
       "  .colab-df-quickchart {\n",
       "      --bg-color: #E8F0FE;\n",
       "      --fill-color: #1967D2;\n",
       "      --hover-bg-color: #E2EBFA;\n",
       "      --hover-fill-color: #174EA6;\n",
       "      --disabled-fill-color: #AAA;\n",
       "      --disabled-bg-color: #DDD;\n",
       "  }\n",
       "\n",
       "  [theme=dark] .colab-df-quickchart {\n",
       "      --bg-color: #3B4455;\n",
       "      --fill-color: #D2E3FC;\n",
       "      --hover-bg-color: #434B5C;\n",
       "      --hover-fill-color: #FFFFFF;\n",
       "      --disabled-bg-color: #3B4455;\n",
       "      --disabled-fill-color: #666;\n",
       "  }\n",
       "\n",
       "  .colab-df-quickchart {\n",
       "    background-color: var(--bg-color);\n",
       "    border: none;\n",
       "    border-radius: 50%;\n",
       "    cursor: pointer;\n",
       "    display: none;\n",
       "    fill: var(--fill-color);\n",
       "    height: 32px;\n",
       "    padding: 0;\n",
       "    width: 32px;\n",
       "  }\n",
       "\n",
       "  .colab-df-quickchart:hover {\n",
       "    background-color: var(--hover-bg-color);\n",
       "    box-shadow: 0 1px 2px rgba(60, 64, 67, 0.3), 0 1px 3px 1px rgba(60, 64, 67, 0.15);\n",
       "    fill: var(--button-hover-fill-color);\n",
       "  }\n",
       "\n",
       "  .colab-df-quickchart-complete:disabled,\n",
       "  .colab-df-quickchart-complete:disabled:hover {\n",
       "    background-color: var(--disabled-bg-color);\n",
       "    fill: var(--disabled-fill-color);\n",
       "    box-shadow: none;\n",
       "  }\n",
       "\n",
       "  .colab-df-spinner {\n",
       "    border: 2px solid var(--fill-color);\n",
       "    border-color: transparent;\n",
       "    border-bottom-color: var(--fill-color);\n",
       "    animation:\n",
       "      spin 1s steps(1) infinite;\n",
       "  }\n",
       "\n",
       "  @keyframes spin {\n",
       "    0% {\n",
       "      border-color: transparent;\n",
       "      border-bottom-color: var(--fill-color);\n",
       "      border-left-color: var(--fill-color);\n",
       "    }\n",
       "    20% {\n",
       "      border-color: transparent;\n",
       "      border-left-color: var(--fill-color);\n",
       "      border-top-color: var(--fill-color);\n",
       "    }\n",
       "    30% {\n",
       "      border-color: transparent;\n",
       "      border-left-color: var(--fill-color);\n",
       "      border-top-color: var(--fill-color);\n",
       "      border-right-color: var(--fill-color);\n",
       "    }\n",
       "    40% {\n",
       "      border-color: transparent;\n",
       "      border-right-color: var(--fill-color);\n",
       "      border-top-color: var(--fill-color);\n",
       "    }\n",
       "    60% {\n",
       "      border-color: transparent;\n",
       "      border-right-color: var(--fill-color);\n",
       "    }\n",
       "    80% {\n",
       "      border-color: transparent;\n",
       "      border-right-color: var(--fill-color);\n",
       "      border-bottom-color: var(--fill-color);\n",
       "    }\n",
       "    90% {\n",
       "      border-color: transparent;\n",
       "      border-bottom-color: var(--fill-color);\n",
       "    }\n",
       "  }\n",
       "</style>\n",
       "\n",
       "  <script>\n",
       "    async function quickchart(key) {\n",
       "      const quickchartButtonEl =\n",
       "        document.querySelector('#' + key + ' button');\n",
       "      quickchartButtonEl.disabled = true;  // To prevent multiple clicks.\n",
       "      quickchartButtonEl.classList.add('colab-df-spinner');\n",
       "      try {\n",
       "        const charts = await google.colab.kernel.invokeFunction(\n",
       "            'suggestCharts', [key], {});\n",
       "      } catch (error) {\n",
       "        console.error('Error during call to suggestCharts:', error);\n",
       "      }\n",
       "      quickchartButtonEl.classList.remove('colab-df-spinner');\n",
       "      quickchartButtonEl.classList.add('colab-df-quickchart-complete');\n",
       "    }\n",
       "    (() => {\n",
       "      let quickchartButtonEl =\n",
       "        document.querySelector('#df-a51967de-98c6-40ee-b5e1-f4110357ab76 button');\n",
       "      quickchartButtonEl.style.display =\n",
       "        google.colab.kernel.accessAllowed ? 'block' : 'none';\n",
       "    })();\n",
       "  </script>\n",
       "</div>\n",
       "    </div>\n",
       "  </div>\n"
      ],
      "text/plain": [
       "     grupo  rank                            nombre  puntos  gan_loc  emp_loc  \\\n",
       "222     17     1       JOVENTUT TEIA CLUB FUTBOL B    2.87     1.00     0.00   \n",
       "223     17     2           ROCAFONDA CLUB FUTBOL A    2.60     1.00     0.00   \n",
       "224     17     3               PREMIA DALT, C.D. C    2.60     1.00     0.00   \n",
       "225     17     4                  JUVENTUS, A.C. B    2.47     0.86     0.14   \n",
       "226     17     5               VILASSAR MAR,U.E. C    2.40     0.78     0.00   \n",
       "227     17     6                 ARGENTONA, C.F. B    1.87     0.57     0.00   \n",
       "228     17     7      FUNDACIÓ ESPORTIVA MONTGAT B    1.60     0.57     0.00   \n",
       "229     17     8              HAMELIN-LAIE, C.E. A    1.53     0.29     0.29   \n",
       "230     17     9                   CALELLA, C.F. B    1.40     0.38     0.00   \n",
       "231     17    10                    MASNOU, C.D. B    1.40     0.43     0.00   \n",
       "232     17    11         PLA D'EN BOET,CLUB ESP. A    0.80     0.17     0.00   \n",
       "233     17    12                    ALELLA, C.F. B    0.80     0.14     0.00   \n",
       "234     17    13                   CABRILS, C.E. A    0.80     0.38     0.00   \n",
       "235     17    14  SINERA UNITED FUTBOL CLUB ASS. A    0.40     0.12     0.00   \n",
       "236     17    15                    CIRERA, U.D. C    0.20     0.00     0.00   \n",
       "237     17    16                      MASNOU AT. D    0.07     0.00     0.00   \n",
       "\n",
       "     per_loc  gan_vis  emp_vis  per_vis  gol_fav  gol_con  dif_gol  \n",
       "222     0.00     0.86     0.14     0.00     8.53     1.40     7.13  \n",
       "223     0.00     0.71     0.00     0.29     6.87     1.27     5.60  \n",
       "224     0.00     0.71     0.00     0.29     7.13     1.93     5.20  \n",
       "225     0.00     0.75     0.00     0.25     6.20     1.00     5.20  \n",
       "226     0.22     0.83     0.00     0.17     6.93     2.87     4.07  \n",
       "227     0.43     0.62     0.12     0.25     3.00     2.73     0.27  \n",
       "228     0.43     0.50     0.00     0.50     5.40     5.67    -0.27  \n",
       "229     0.43     0.62     0.00     0.38     4.87     4.93    -0.07  \n",
       "230     0.62     0.57     0.00     0.43     4.73     3.20     1.53  \n",
       "231     0.57     0.50     0.00     0.50     3.47     5.13    -1.67  \n",
       "232     0.83     0.33     0.00     0.67     3.27     6.00    -2.73  \n",
       "233     0.86     0.38     0.00     0.62     2.53     6.33    -3.80  \n",
       "234     0.62     0.14     0.00     0.86     2.13     7.73    -5.60  \n",
       "235     0.88     0.14     0.00     0.86     2.53     8.07    -5.53  \n",
       "236     1.00     0.14     0.00     0.86     2.13     6.53    -4.40  \n",
       "237     1.00     0.00     0.12     0.88     1.47     6.40    -4.93  "
      ]
     },
     "execution_count": 74,
     "metadata": {},
     "output_type": "execute_result"
    }
   ],
   "source": [
    "equipos[equipos['grupo'] == 17].round(2)"
   ]
  },
  {
   "cell_type": "markdown",
   "metadata": {
    "id": "XdYNoQ81xGqn"
   },
   "source": [
    "Es decir, de alguna manera volvemos al principio. Hemos visto como prescindiendo de prácticamente todas las variables, incluyendo los puntos por partido, y solamente utilizando la media de victorias de los equipos, como local y como visitante, no sólo podemos obtener la clasificación de cada equipo de manera bastante precisa utilizando un sencillo modelo de regresión lineal, sino que además podemos agruparlos en nodos que los asimilan, de manera que podemos reconocer las diferencias de puntos por partido o incluso goles en función del nodo al que pertenece cada equipo, y esto utilizando un algoritmo con un rendimiento Silhouette de sólo un 60%. Con todo ello podemos ver la potencia de la estadística y el machine learning en la predicción de tendencias y patrones, y hasta qué punto podemos llegar a reducir el uso de datos, con lo que ello implica en mejoras de eficiencia."
   ]
  }
 ],
 "metadata": {
  "colab": {
   "provenance": []
  },
  "kernelspec": {
   "display_name": "Python 3 (ipykernel)",
   "language": "python",
   "name": "python3"
  },
  "language_info": {
   "codemirror_mode": {
    "name": "ipython",
    "version": 3
   },
   "file_extension": ".py",
   "mimetype": "text/x-python",
   "name": "python",
   "nbconvert_exporter": "python",
   "pygments_lexer": "ipython3",
   "version": "3.11.5"
  }
 },
 "nbformat": 4,
 "nbformat_minor": 4
}
